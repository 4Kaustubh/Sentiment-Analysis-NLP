{
  "cells": [
    {
      "cell_type": "markdown",
      "metadata": {
        "id": "view-in-github",
        "colab_type": "text"
      },
      "source": [
        "<a href=\"https://colab.research.google.com/github/4Kaustubh/Sentiment-Analysis-NLP/blob/main/Assignment_5.ipynb\" target=\"_parent\"><img src=\"https://colab.research.google.com/assets/colab-badge.svg\" alt=\"Open In Colab\"/></a>"
      ]
    },
    {
      "cell_type": "markdown",
      "metadata": {
        "id": "lVODiwo0Zix-"
      },
      "source": [
        "# Topic Modeling"
      ]
    },
    {
      "cell_type": "markdown",
      "metadata": {
        "id": "MPNHhQPFZiyB"
      },
      "source": [
        "## Introduction"
      ]
    },
    {
      "cell_type": "markdown",
      "metadata": {
        "id": "frWnF3axZiyB"
      },
      "source": [
        "Another popular text analysis technique is called topic modeling. The ultimate goal of topic modeling is to find various topics that are present in your corpus. Each document in the corpus will be made up of at least one topic, if not multiple topics.\n",
        "\n",
        "In this notebook, we will be covering the steps on how to do **Latent Dirichlet Allocation (LDA)**, which is one of many topic modeling techniques. It was specifically designed for text data.\n",
        "\n",
        "To use a topic modeling technique, you need to provide (1) a document-term matrix and (2) the number of topics you would like the algorithm to pick up.\n",
        "\n",
        "Once the topic modeling technique is applied, your job as a human is to interpret the results and see if the mix of words in each topic make sense. If they don't make sense, you can try changing up the number of topics, the terms in the document-term matrix, model parameters, or even try a different model."
      ]
    },
    {
      "cell_type": "markdown",
      "metadata": {
        "id": "ODGw6e0vZiyC"
      },
      "source": [
        "## Topic Modeling - Attempt #1 (All Text)"
      ]
    },
    {
      "cell_type": "code",
      "execution_count": null,
      "metadata": {
        "id": "wZhcIZC4NKou",
        "outputId": "6dbdd919-0d68-4832-d4c5-89621b158d39"
      },
      "outputs": [
        {
          "name": "stdout",
          "output_type": "stream",
          "text": [
            "Requirement already satisfied: numpy in c:\\users\\mandar garud\\desktop\\nlp in python\\.venv\\lib\\site-packages (1.26.4)\n",
            "Collecting numpy\n",
            "  Using cached numpy-2.2.5-cp312-cp312-win_amd64.whl.metadata (60 kB)\n",
            "Using cached numpy-2.2.5-cp312-cp312-win_amd64.whl (12.6 MB)\n",
            "Installing collected packages: numpy\n",
            "  Attempting uninstall: numpy\n",
            "    Found existing installation: numpy 1.26.4\n",
            "    Uninstalling numpy-1.26.4:\n",
            "      Successfully uninstalled numpy-1.26.4\n",
            "Successfully installed numpy-2.2.5\n",
            "Note: you may need to restart the kernel to use updated packages.\n"
          ]
        },
        {
          "name": "stderr",
          "output_type": "stream",
          "text": [
            "ERROR: pip's dependency resolver does not currently take into account all the packages that are installed. This behaviour is the source of the following dependency conflicts.\n",
            "gensim 4.3.3 requires numpy<2.0,>=1.18.5, but you have numpy 2.2.5 which is incompatible.\n",
            "scipy 1.12.0 requires numpy<1.29.0,>=1.22.4, but you have numpy 2.2.5 which is incompatible.\n"
          ]
        }
      ],
      "source": [
        "%pip install numpy --upgrade"
      ]
    },
    {
      "cell_type": "code",
      "execution_count": null,
      "metadata": {
        "colab": {
          "background_save": true,
          "base_uri": "https://localhost:8080/",
          "height": 726
        },
        "id": "sg7czdocZiyC",
        "outputId": "18bececa-7038-4538-de33-daed5658485c"
      },
      "outputs": [
        {
          "ename": "FileNotFoundError",
          "evalue": "[Errno 2] No such file or directory: 'data_clean.pkl'",
          "output_type": "error",
          "traceback": [
            "\u001b[0;31m---------------------------------------------------------------------------\u001b[0m",
            "\u001b[0;31mFileNotFoundError\u001b[0m                         Traceback (most recent call last)",
            "\u001b[0;32m<ipython-input-2-239c9cd28b6d>\u001b[0m in \u001b[0;36m<cell line: 0>\u001b[0;34m()\u001b[0m\n\u001b[1;32m      3\u001b[0m \u001b[0;32mimport\u001b[0m \u001b[0mpickle\u001b[0m\u001b[0;34m\u001b[0m\u001b[0;34m\u001b[0m\u001b[0m\n\u001b[1;32m      4\u001b[0m \u001b[0;34m\u001b[0m\u001b[0m\n\u001b[0;32m----> 5\u001b[0;31m \u001b[0mcleaned_data\u001b[0m \u001b[0;34m=\u001b[0m \u001b[0mpd\u001b[0m\u001b[0;34m.\u001b[0m\u001b[0mread_pickle\u001b[0m\u001b[0;34m(\u001b[0m\u001b[0;34m'data_clean.pkl'\u001b[0m\u001b[0;34m)\u001b[0m\u001b[0;34m\u001b[0m\u001b[0;34m\u001b[0m\u001b[0m\n\u001b[0m\u001b[1;32m      6\u001b[0m \u001b[0mdata\u001b[0m \u001b[0;34m=\u001b[0m \u001b[0mpd\u001b[0m\u001b[0;34m.\u001b[0m\u001b[0mread_pickle\u001b[0m\u001b[0;34m(\u001b[0m\u001b[0;34m'dtm_stop.pkl'\u001b[0m\u001b[0;34m)\u001b[0m\u001b[0;34m\u001b[0m\u001b[0;34m\u001b[0m\u001b[0m\n\u001b[1;32m      7\u001b[0m \u001b[0mdata\u001b[0m\u001b[0;34m\u001b[0m\u001b[0;34m\u001b[0m\u001b[0m\n",
            "\u001b[0;32m/usr/local/lib/python3.11/dist-packages/pandas/io/pickle.py\u001b[0m in \u001b[0;36mread_pickle\u001b[0;34m(filepath_or_buffer, compression, storage_options)\u001b[0m\n\u001b[1;32m    183\u001b[0m     \"\"\"\n\u001b[1;32m    184\u001b[0m     \u001b[0mexcs_to_catch\u001b[0m \u001b[0;34m=\u001b[0m \u001b[0;34m(\u001b[0m\u001b[0mAttributeError\u001b[0m\u001b[0;34m,\u001b[0m \u001b[0mImportError\u001b[0m\u001b[0;34m,\u001b[0m \u001b[0mModuleNotFoundError\u001b[0m\u001b[0;34m,\u001b[0m \u001b[0mTypeError\u001b[0m\u001b[0;34m)\u001b[0m\u001b[0;34m\u001b[0m\u001b[0;34m\u001b[0m\u001b[0m\n\u001b[0;32m--> 185\u001b[0;31m     with get_handle(\n\u001b[0m\u001b[1;32m    186\u001b[0m         \u001b[0mfilepath_or_buffer\u001b[0m\u001b[0;34m,\u001b[0m\u001b[0;34m\u001b[0m\u001b[0;34m\u001b[0m\u001b[0m\n\u001b[1;32m    187\u001b[0m         \u001b[0;34m\"rb\"\u001b[0m\u001b[0;34m,\u001b[0m\u001b[0;34m\u001b[0m\u001b[0;34m\u001b[0m\u001b[0m\n",
            "\u001b[0;32m/usr/local/lib/python3.11/dist-packages/pandas/io/common.py\u001b[0m in \u001b[0;36mget_handle\u001b[0;34m(path_or_buf, mode, encoding, compression, memory_map, is_text, errors, storage_options)\u001b[0m\n\u001b[1;32m    880\u001b[0m         \u001b[0;32melse\u001b[0m\u001b[0;34m:\u001b[0m\u001b[0;34m\u001b[0m\u001b[0;34m\u001b[0m\u001b[0m\n\u001b[1;32m    881\u001b[0m             \u001b[0;31m# Binary mode\u001b[0m\u001b[0;34m\u001b[0m\u001b[0;34m\u001b[0m\u001b[0m\n\u001b[0;32m--> 882\u001b[0;31m             \u001b[0mhandle\u001b[0m \u001b[0;34m=\u001b[0m \u001b[0mopen\u001b[0m\u001b[0;34m(\u001b[0m\u001b[0mhandle\u001b[0m\u001b[0;34m,\u001b[0m \u001b[0mioargs\u001b[0m\u001b[0;34m.\u001b[0m\u001b[0mmode\u001b[0m\u001b[0;34m)\u001b[0m\u001b[0;34m\u001b[0m\u001b[0;34m\u001b[0m\u001b[0m\n\u001b[0m\u001b[1;32m    883\u001b[0m         \u001b[0mhandles\u001b[0m\u001b[0;34m.\u001b[0m\u001b[0mappend\u001b[0m\u001b[0;34m(\u001b[0m\u001b[0mhandle\u001b[0m\u001b[0;34m)\u001b[0m\u001b[0;34m\u001b[0m\u001b[0;34m\u001b[0m\u001b[0m\n\u001b[1;32m    884\u001b[0m \u001b[0;34m\u001b[0m\u001b[0m\n",
            "\u001b[0;31mFileNotFoundError\u001b[0m: [Errno 2] No such file or directory: 'data_clean.pkl'"
          ]
        }
      ],
      "source": [
        "# Let's read in our document-term matrix\n",
        "import pandas as pd\n",
        "import pickle\n",
        "\n",
        "cleaned_data = pd.read_pickle('data_clean.pkl')\n",
        "data = pd.read_pickle('dtm_stop.pkl')\n",
        "data"
      ]
    },
    {
      "cell_type": "code",
      "execution_count": null,
      "metadata": {
        "id": "onBzaIsyNKo0"
      },
      "outputs": [],
      "source": [
        "data.to_csv('dtm_stop.csv')\n",
        "cleaned_data.to_csv('data_clean.csv')"
      ]
    },
    {
      "cell_type": "code",
      "execution_count": null,
      "metadata": {
        "colab": {
          "background_save": true
        },
        "id": "B-_g-i3xdPuE"
      },
      "outputs": [],
      "source": [
        "# Step 1: Reinstall numpy and scipy together at correct versions\n",
        "%pip install numpy==1.26.4 scipy==1.12.0 --force-reinstall --no-cache-dir\n",
        "\n",
        "# Step 2: RESTART RUNTIME (VERY IMPORTANT)\n"
      ]
    },
    {
      "cell_type": "code",
      "execution_count": null,
      "metadata": {
        "colab": {
          "background_save": true
        },
        "id": "nfGo9vfaZiyD"
      },
      "outputs": [],
      "source": [
        "# Import the necessary modules for LDA with gensim\n",
        "# Install gensim if not already installed\n",
        "try:\n",
        "    from gensim import matutils, models\n",
        "except ModuleNotFoundError:\n",
        "    %pip install gensim\n",
        "    from gensim import matutils, models\n",
        "\n",
        "import scipy.sparse\n",
        "import pandas as pd\n",
        "import pickle\n",
        "\n",
        "# import logging\n",
        "# logging.basicConfig(format='%(asctime)s : %(levelname)s : %(message)s', level=logging.INFO)"
      ]
    },
    {
      "cell_type": "code",
      "execution_count": null,
      "metadata": {
        "id": "fxBJrRMCNKo4"
      },
      "outputs": [],
      "source": [
        "data = pd.read_csv('dtm_stop.csv')\n",
        "data = data.set_index('Unnamed: 0')\n",
        "data.index.names = [None]"
      ]
    },
    {
      "cell_type": "code",
      "execution_count": null,
      "metadata": {
        "id": "MjnsCOEVNKo4",
        "outputId": "56c451bd-38e2-405b-e4f5-4b5948409586"
      },
      "outputs": [
        {
          "data": {
            "text/html": [
              "<div>\n",
              "<style scoped>\n",
              "    .dataframe tbody tr th:only-of-type {\n",
              "        vertical-align: middle;\n",
              "    }\n",
              "\n",
              "    .dataframe tbody tr th {\n",
              "        vertical-align: top;\n",
              "    }\n",
              "\n",
              "    .dataframe thead th {\n",
              "        text-align: right;\n",
              "    }\n",
              "</style>\n",
              "<table border=\"1\" class=\"dataframe\">\n",
              "  <thead>\n",
              "    <tr style=\"text-align: right;\">\n",
              "      <th></th>\n",
              "      <th>aa</th>\n",
              "      <th>aaaaah</th>\n",
              "      <th>aaah</th>\n",
              "      <th>aah</th>\n",
              "      <th>aback</th>\n",
              "      <th>abbott</th>\n",
              "      <th>abc</th>\n",
              "      <th>abcs</th>\n",
              "      <th>ability</th>\n",
              "      <th>abject</th>\n",
              "      <th>...</th>\n",
              "      <th>zero</th>\n",
              "      <th>zillion</th>\n",
              "      <th>zingy</th>\n",
              "      <th>zipup</th>\n",
              "      <th>zombie</th>\n",
              "      <th>zombies</th>\n",
              "      <th>zoning</th>\n",
              "      <th>zoo</th>\n",
              "      <th>zoom</th>\n",
              "      <th>éclair</th>\n",
              "    </tr>\n",
              "  </thead>\n",
              "  <tbody>\n",
              "    <tr>\n",
              "      <th>adam</th>\n",
              "      <td>0</td>\n",
              "      <td>0</td>\n",
              "      <td>0</td>\n",
              "      <td>0</td>\n",
              "      <td>0</td>\n",
              "      <td>1</td>\n",
              "      <td>0</td>\n",
              "      <td>0</td>\n",
              "      <td>0</td>\n",
              "      <td>0</td>\n",
              "      <td>...</td>\n",
              "      <td>0</td>\n",
              "      <td>0</td>\n",
              "      <td>0</td>\n",
              "      <td>1</td>\n",
              "      <td>0</td>\n",
              "      <td>0</td>\n",
              "      <td>0</td>\n",
              "      <td>0</td>\n",
              "      <td>0</td>\n",
              "      <td>0</td>\n",
              "    </tr>\n",
              "    <tr>\n",
              "      <th>ali</th>\n",
              "      <td>0</td>\n",
              "      <td>0</td>\n",
              "      <td>0</td>\n",
              "      <td>0</td>\n",
              "      <td>0</td>\n",
              "      <td>0</td>\n",
              "      <td>1</td>\n",
              "      <td>0</td>\n",
              "      <td>0</td>\n",
              "      <td>0</td>\n",
              "      <td>...</td>\n",
              "      <td>0</td>\n",
              "      <td>0</td>\n",
              "      <td>0</td>\n",
              "      <td>0</td>\n",
              "      <td>1</td>\n",
              "      <td>0</td>\n",
              "      <td>0</td>\n",
              "      <td>0</td>\n",
              "      <td>0</td>\n",
              "      <td>0</td>\n",
              "    </tr>\n",
              "    <tr>\n",
              "      <th>anthony</th>\n",
              "      <td>0</td>\n",
              "      <td>0</td>\n",
              "      <td>0</td>\n",
              "      <td>0</td>\n",
              "      <td>0</td>\n",
              "      <td>0</td>\n",
              "      <td>0</td>\n",
              "      <td>0</td>\n",
              "      <td>0</td>\n",
              "      <td>0</td>\n",
              "      <td>...</td>\n",
              "      <td>0</td>\n",
              "      <td>0</td>\n",
              "      <td>0</td>\n",
              "      <td>0</td>\n",
              "      <td>0</td>\n",
              "      <td>0</td>\n",
              "      <td>0</td>\n",
              "      <td>0</td>\n",
              "      <td>0</td>\n",
              "      <td>0</td>\n",
              "    </tr>\n",
              "    <tr>\n",
              "      <th>bill</th>\n",
              "      <td>0</td>\n",
              "      <td>1</td>\n",
              "      <td>0</td>\n",
              "      <td>0</td>\n",
              "      <td>0</td>\n",
              "      <td>0</td>\n",
              "      <td>0</td>\n",
              "      <td>1</td>\n",
              "      <td>0</td>\n",
              "      <td>0</td>\n",
              "      <td>...</td>\n",
              "      <td>1</td>\n",
              "      <td>1</td>\n",
              "      <td>0</td>\n",
              "      <td>0</td>\n",
              "      <td>1</td>\n",
              "      <td>1</td>\n",
              "      <td>1</td>\n",
              "      <td>0</td>\n",
              "      <td>0</td>\n",
              "      <td>0</td>\n",
              "    </tr>\n",
              "    <tr>\n",
              "      <th>bo</th>\n",
              "      <td>0</td>\n",
              "      <td>0</td>\n",
              "      <td>0</td>\n",
              "      <td>0</td>\n",
              "      <td>0</td>\n",
              "      <td>0</td>\n",
              "      <td>0</td>\n",
              "      <td>0</td>\n",
              "      <td>0</td>\n",
              "      <td>0</td>\n",
              "      <td>...</td>\n",
              "      <td>0</td>\n",
              "      <td>0</td>\n",
              "      <td>0</td>\n",
              "      <td>0</td>\n",
              "      <td>0</td>\n",
              "      <td>0</td>\n",
              "      <td>0</td>\n",
              "      <td>0</td>\n",
              "      <td>0</td>\n",
              "      <td>0</td>\n",
              "    </tr>\n",
              "    <tr>\n",
              "      <th>dave</th>\n",
              "      <td>0</td>\n",
              "      <td>0</td>\n",
              "      <td>1</td>\n",
              "      <td>0</td>\n",
              "      <td>0</td>\n",
              "      <td>0</td>\n",
              "      <td>0</td>\n",
              "      <td>0</td>\n",
              "      <td>0</td>\n",
              "      <td>0</td>\n",
              "      <td>...</td>\n",
              "      <td>0</td>\n",
              "      <td>0</td>\n",
              "      <td>0</td>\n",
              "      <td>0</td>\n",
              "      <td>0</td>\n",
              "      <td>0</td>\n",
              "      <td>0</td>\n",
              "      <td>0</td>\n",
              "      <td>0</td>\n",
              "      <td>0</td>\n",
              "    </tr>\n",
              "    <tr>\n",
              "      <th>dylan</th>\n",
              "      <td>0</td>\n",
              "      <td>0</td>\n",
              "      <td>0</td>\n",
              "      <td>0</td>\n",
              "      <td>0</td>\n",
              "      <td>0</td>\n",
              "      <td>0</td>\n",
              "      <td>0</td>\n",
              "      <td>1</td>\n",
              "      <td>0</td>\n",
              "      <td>...</td>\n",
              "      <td>0</td>\n",
              "      <td>0</td>\n",
              "      <td>1</td>\n",
              "      <td>0</td>\n",
              "      <td>0</td>\n",
              "      <td>0</td>\n",
              "      <td>0</td>\n",
              "      <td>0</td>\n",
              "      <td>0</td>\n",
              "      <td>2</td>\n",
              "    </tr>\n",
              "    <tr>\n",
              "      <th>hasan</th>\n",
              "      <td>0</td>\n",
              "      <td>0</td>\n",
              "      <td>0</td>\n",
              "      <td>0</td>\n",
              "      <td>0</td>\n",
              "      <td>0</td>\n",
              "      <td>0</td>\n",
              "      <td>0</td>\n",
              "      <td>0</td>\n",
              "      <td>0</td>\n",
              "      <td>...</td>\n",
              "      <td>0</td>\n",
              "      <td>0</td>\n",
              "      <td>0</td>\n",
              "      <td>0</td>\n",
              "      <td>0</td>\n",
              "      <td>0</td>\n",
              "      <td>0</td>\n",
              "      <td>0</td>\n",
              "      <td>0</td>\n",
              "      <td>0</td>\n",
              "    </tr>\n",
              "    <tr>\n",
              "      <th>jamie</th>\n",
              "      <td>0</td>\n",
              "      <td>0</td>\n",
              "      <td>0</td>\n",
              "      <td>0</td>\n",
              "      <td>0</td>\n",
              "      <td>0</td>\n",
              "      <td>0</td>\n",
              "      <td>0</td>\n",
              "      <td>0</td>\n",
              "      <td>0</td>\n",
              "      <td>...</td>\n",
              "      <td>0</td>\n",
              "      <td>0</td>\n",
              "      <td>0</td>\n",
              "      <td>0</td>\n",
              "      <td>0</td>\n",
              "      <td>0</td>\n",
              "      <td>0</td>\n",
              "      <td>0</td>\n",
              "      <td>0</td>\n",
              "      <td>0</td>\n",
              "    </tr>\n",
              "    <tr>\n",
              "      <th>jim</th>\n",
              "      <td>0</td>\n",
              "      <td>0</td>\n",
              "      <td>0</td>\n",
              "      <td>0</td>\n",
              "      <td>0</td>\n",
              "      <td>0</td>\n",
              "      <td>0</td>\n",
              "      <td>0</td>\n",
              "      <td>0</td>\n",
              "      <td>0</td>\n",
              "      <td>...</td>\n",
              "      <td>0</td>\n",
              "      <td>0</td>\n",
              "      <td>0</td>\n",
              "      <td>0</td>\n",
              "      <td>0</td>\n",
              "      <td>0</td>\n",
              "      <td>0</td>\n",
              "      <td>0</td>\n",
              "      <td>0</td>\n",
              "      <td>0</td>\n",
              "    </tr>\n",
              "    <tr>\n",
              "      <th>joe</th>\n",
              "      <td>0</td>\n",
              "      <td>0</td>\n",
              "      <td>0</td>\n",
              "      <td>0</td>\n",
              "      <td>0</td>\n",
              "      <td>0</td>\n",
              "      <td>0</td>\n",
              "      <td>0</td>\n",
              "      <td>0</td>\n",
              "      <td>0</td>\n",
              "      <td>...</td>\n",
              "      <td>0</td>\n",
              "      <td>0</td>\n",
              "      <td>0</td>\n",
              "      <td>0</td>\n",
              "      <td>0</td>\n",
              "      <td>0</td>\n",
              "      <td>0</td>\n",
              "      <td>0</td>\n",
              "      <td>0</td>\n",
              "      <td>0</td>\n",
              "    </tr>\n",
              "    <tr>\n",
              "      <th>john</th>\n",
              "      <td>0</td>\n",
              "      <td>0</td>\n",
              "      <td>0</td>\n",
              "      <td>0</td>\n",
              "      <td>0</td>\n",
              "      <td>0</td>\n",
              "      <td>0</td>\n",
              "      <td>0</td>\n",
              "      <td>0</td>\n",
              "      <td>0</td>\n",
              "      <td>...</td>\n",
              "      <td>0</td>\n",
              "      <td>0</td>\n",
              "      <td>0</td>\n",
              "      <td>0</td>\n",
              "      <td>0</td>\n",
              "      <td>0</td>\n",
              "      <td>0</td>\n",
              "      <td>0</td>\n",
              "      <td>0</td>\n",
              "      <td>1</td>\n",
              "    </tr>\n",
              "    <tr>\n",
              "      <th>kelsey</th>\n",
              "      <td>1</td>\n",
              "      <td>0</td>\n",
              "      <td>0</td>\n",
              "      <td>0</td>\n",
              "      <td>0</td>\n",
              "      <td>0</td>\n",
              "      <td>0</td>\n",
              "      <td>0</td>\n",
              "      <td>0</td>\n",
              "      <td>0</td>\n",
              "      <td>...</td>\n",
              "      <td>1</td>\n",
              "      <td>0</td>\n",
              "      <td>0</td>\n",
              "      <td>0</td>\n",
              "      <td>0</td>\n",
              "      <td>0</td>\n",
              "      <td>0</td>\n",
              "      <td>0</td>\n",
              "      <td>1</td>\n",
              "      <td>0</td>\n",
              "    </tr>\n",
              "    <tr>\n",
              "      <th>kevin</th>\n",
              "      <td>0</td>\n",
              "      <td>0</td>\n",
              "      <td>0</td>\n",
              "      <td>0</td>\n",
              "      <td>0</td>\n",
              "      <td>0</td>\n",
              "      <td>0</td>\n",
              "      <td>0</td>\n",
              "      <td>0</td>\n",
              "      <td>0</td>\n",
              "      <td>...</td>\n",
              "      <td>3</td>\n",
              "      <td>0</td>\n",
              "      <td>0</td>\n",
              "      <td>0</td>\n",
              "      <td>0</td>\n",
              "      <td>0</td>\n",
              "      <td>0</td>\n",
              "      <td>0</td>\n",
              "      <td>0</td>\n",
              "      <td>0</td>\n",
              "    </tr>\n",
              "    <tr>\n",
              "      <th>louis</th>\n",
              "      <td>0</td>\n",
              "      <td>0</td>\n",
              "      <td>0</td>\n",
              "      <td>3</td>\n",
              "      <td>0</td>\n",
              "      <td>0</td>\n",
              "      <td>0</td>\n",
              "      <td>0</td>\n",
              "      <td>0</td>\n",
              "      <td>0</td>\n",
              "      <td>...</td>\n",
              "      <td>2</td>\n",
              "      <td>0</td>\n",
              "      <td>0</td>\n",
              "      <td>0</td>\n",
              "      <td>0</td>\n",
              "      <td>0</td>\n",
              "      <td>0</td>\n",
              "      <td>0</td>\n",
              "      <td>0</td>\n",
              "      <td>0</td>\n",
              "    </tr>\n",
              "    <tr>\n",
              "      <th>mike</th>\n",
              "      <td>0</td>\n",
              "      <td>0</td>\n",
              "      <td>0</td>\n",
              "      <td>0</td>\n",
              "      <td>0</td>\n",
              "      <td>0</td>\n",
              "      <td>0</td>\n",
              "      <td>0</td>\n",
              "      <td>0</td>\n",
              "      <td>0</td>\n",
              "      <td>...</td>\n",
              "      <td>1</td>\n",
              "      <td>0</td>\n",
              "      <td>0</td>\n",
              "      <td>0</td>\n",
              "      <td>0</td>\n",
              "      <td>0</td>\n",
              "      <td>0</td>\n",
              "      <td>0</td>\n",
              "      <td>0</td>\n",
              "      <td>0</td>\n",
              "    </tr>\n",
              "    <tr>\n",
              "      <th>ramy</th>\n",
              "      <td>0</td>\n",
              "      <td>0</td>\n",
              "      <td>0</td>\n",
              "      <td>0</td>\n",
              "      <td>0</td>\n",
              "      <td>0</td>\n",
              "      <td>0</td>\n",
              "      <td>0</td>\n",
              "      <td>0</td>\n",
              "      <td>0</td>\n",
              "      <td>...</td>\n",
              "      <td>0</td>\n",
              "      <td>0</td>\n",
              "      <td>0</td>\n",
              "      <td>0</td>\n",
              "      <td>0</td>\n",
              "      <td>0</td>\n",
              "      <td>0</td>\n",
              "      <td>0</td>\n",
              "      <td>1</td>\n",
              "      <td>0</td>\n",
              "    </tr>\n",
              "    <tr>\n",
              "      <th>ricky</th>\n",
              "      <td>0</td>\n",
              "      <td>0</td>\n",
              "      <td>0</td>\n",
              "      <td>0</td>\n",
              "      <td>0</td>\n",
              "      <td>0</td>\n",
              "      <td>0</td>\n",
              "      <td>0</td>\n",
              "      <td>2</td>\n",
              "      <td>1</td>\n",
              "      <td>...</td>\n",
              "      <td>0</td>\n",
              "      <td>0</td>\n",
              "      <td>0</td>\n",
              "      <td>0</td>\n",
              "      <td>0</td>\n",
              "      <td>0</td>\n",
              "      <td>0</td>\n",
              "      <td>1</td>\n",
              "      <td>0</td>\n",
              "      <td>0</td>\n",
              "    </tr>\n",
              "    <tr>\n",
              "      <th>sal</th>\n",
              "      <td>0</td>\n",
              "      <td>0</td>\n",
              "      <td>0</td>\n",
              "      <td>0</td>\n",
              "      <td>0</td>\n",
              "      <td>0</td>\n",
              "      <td>0</td>\n",
              "      <td>0</td>\n",
              "      <td>0</td>\n",
              "      <td>0</td>\n",
              "      <td>...</td>\n",
              "      <td>0</td>\n",
              "      <td>0</td>\n",
              "      <td>0</td>\n",
              "      <td>0</td>\n",
              "      <td>0</td>\n",
              "      <td>0</td>\n",
              "      <td>0</td>\n",
              "      <td>0</td>\n",
              "      <td>0</td>\n",
              "      <td>0</td>\n",
              "    </tr>\n",
              "    <tr>\n",
              "      <th>seth</th>\n",
              "      <td>0</td>\n",
              "      <td>0</td>\n",
              "      <td>0</td>\n",
              "      <td>0</td>\n",
              "      <td>1</td>\n",
              "      <td>0</td>\n",
              "      <td>0</td>\n",
              "      <td>0</td>\n",
              "      <td>0</td>\n",
              "      <td>0</td>\n",
              "      <td>...</td>\n",
              "      <td>0</td>\n",
              "      <td>0</td>\n",
              "      <td>0</td>\n",
              "      <td>0</td>\n",
              "      <td>0</td>\n",
              "      <td>0</td>\n",
              "      <td>0</td>\n",
              "      <td>0</td>\n",
              "      <td>0</td>\n",
              "      <td>0</td>\n",
              "    </tr>\n",
              "  </tbody>\n",
              "</table>\n",
              "<p>20 rows × 10731 columns</p>\n",
              "</div>"
            ],
            "text/plain": [
              "         aa  aaaaah  aaah  aah  aback  abbott  abc  abcs  ability  abject  \\\n",
              "adam      0       0     0    0      0       1    0     0        0       0   \n",
              "ali       0       0     0    0      0       0    1     0        0       0   \n",
              "anthony   0       0     0    0      0       0    0     0        0       0   \n",
              "bill      0       1     0    0      0       0    0     1        0       0   \n",
              "bo        0       0     0    0      0       0    0     0        0       0   \n",
              "dave      0       0     1    0      0       0    0     0        0       0   \n",
              "dylan     0       0     0    0      0       0    0     0        1       0   \n",
              "hasan     0       0     0    0      0       0    0     0        0       0   \n",
              "jamie     0       0     0    0      0       0    0     0        0       0   \n",
              "jim       0       0     0    0      0       0    0     0        0       0   \n",
              "joe       0       0     0    0      0       0    0     0        0       0   \n",
              "john      0       0     0    0      0       0    0     0        0       0   \n",
              "kelsey    1       0     0    0      0       0    0     0        0       0   \n",
              "kevin     0       0     0    0      0       0    0     0        0       0   \n",
              "louis     0       0     0    3      0       0    0     0        0       0   \n",
              "mike      0       0     0    0      0       0    0     0        0       0   \n",
              "ramy      0       0     0    0      0       0    0     0        0       0   \n",
              "ricky     0       0     0    0      0       0    0     0        2       1   \n",
              "sal       0       0     0    0      0       0    0     0        0       0   \n",
              "seth      0       0     0    0      1       0    0     0        0       0   \n",
              "\n",
              "         ...  zero  zillion  zingy  zipup  zombie  zombies  zoning  zoo  zoom  \\\n",
              "adam     ...     0        0      0      1       0        0       0    0     0   \n",
              "ali      ...     0        0      0      0       1        0       0    0     0   \n",
              "anthony  ...     0        0      0      0       0        0       0    0     0   \n",
              "bill     ...     1        1      0      0       1        1       1    0     0   \n",
              "bo       ...     0        0      0      0       0        0       0    0     0   \n",
              "dave     ...     0        0      0      0       0        0       0    0     0   \n",
              "dylan    ...     0        0      1      0       0        0       0    0     0   \n",
              "hasan    ...     0        0      0      0       0        0       0    0     0   \n",
              "jamie    ...     0        0      0      0       0        0       0    0     0   \n",
              "jim      ...     0        0      0      0       0        0       0    0     0   \n",
              "joe      ...     0        0      0      0       0        0       0    0     0   \n",
              "john     ...     0        0      0      0       0        0       0    0     0   \n",
              "kelsey   ...     1        0      0      0       0        0       0    0     1   \n",
              "kevin    ...     3        0      0      0       0        0       0    0     0   \n",
              "louis    ...     2        0      0      0       0        0       0    0     0   \n",
              "mike     ...     1        0      0      0       0        0       0    0     0   \n",
              "ramy     ...     0        0      0      0       0        0       0    0     1   \n",
              "ricky    ...     0        0      0      0       0        0       0    1     0   \n",
              "sal      ...     0        0      0      0       0        0       0    0     0   \n",
              "seth     ...     0        0      0      0       0        0       0    0     0   \n",
              "\n",
              "         éclair  \n",
              "adam          0  \n",
              "ali           0  \n",
              "anthony       0  \n",
              "bill          0  \n",
              "bo            0  \n",
              "dave          0  \n",
              "dylan         2  \n",
              "hasan         0  \n",
              "jamie         0  \n",
              "jim           0  \n",
              "joe           0  \n",
              "john          1  \n",
              "kelsey        0  \n",
              "kevin         0  \n",
              "louis         0  \n",
              "mike          0  \n",
              "ramy          0  \n",
              "ricky         0  \n",
              "sal           0  \n",
              "seth          0  \n",
              "\n",
              "[20 rows x 10731 columns]"
            ]
          },
          "execution_count": 3,
          "metadata": {},
          "output_type": "execute_result"
        }
      ],
      "source": [
        "data"
      ]
    },
    {
      "cell_type": "code",
      "execution_count": null,
      "metadata": {
        "colab": {
          "background_save": true
        },
        "id": "ybEgJzWyZiyE"
      },
      "outputs": [],
      "source": [
        "# One of the required inputs is a term-document matrix\n",
        "tdm = data.transpose()\n",
        "tdm.head()"
      ]
    },
    {
      "cell_type": "code",
      "execution_count": null,
      "metadata": {
        "colab": {
          "background_save": true
        },
        "id": "kjRXkhutZiyE"
      },
      "outputs": [],
      "source": [
        "# We're going to put the term-document matrix into a new gensim format, from df --> sparse matrix --> gensim corpus\n",
        "sparse_counts = scipy.sparse.csr_matrix(tdm)\n",
        "corpus = matutils.Sparse2Corpus(sparse_counts)"
      ]
    },
    {
      "cell_type": "code",
      "execution_count": null,
      "metadata": {
        "colab": {
          "background_save": true
        },
        "id": "2MetBnmpZiyE"
      },
      "outputs": [],
      "source": [
        "# Gensim also requires dictionary of the all terms and their respective location in the term-document matrix\n",
        "cv = pickle.load(open(\"cv_stop.pkl\", \"rb\"))\n",
        "id2word = dict((v, k) for k, v in cv.vocabulary_.items())"
      ]
    },
    {
      "cell_type": "markdown",
      "metadata": {
        "id": "Ppi47kTsZiyE"
      },
      "source": [
        "Now that we have the corpus (term-document matrix) and id2word (dictionary of location: term), we need to specify two other parameters - the number of topics and the number of passes. Let's start the number of topics at 2, see if the results make sense, and increase the number from there."
      ]
    },
    {
      "cell_type": "code",
      "execution_count": null,
      "metadata": {
        "colab": {
          "background_save": true
        },
        "id": "ZQTfbanWZiyF"
      },
      "outputs": [],
      "source": [
        "# Now that we have the corpus (term-document matrix) and id2word (dictionary of location: term),\n",
        "# we need to specify two other parameters as well - the number of topics and the number of passes\n",
        "lda = models.LdaModel(corpus=corpus, id2word=id2word, num_topics=2, passes=10)\n",
        "lda.print_topics()"
      ]
    },
    {
      "cell_type": "code",
      "execution_count": null,
      "metadata": {
        "colab": {
          "background_save": true
        },
        "id": "hb7k-g8iZiyF"
      },
      "outputs": [],
      "source": [
        "# LDA for num_topics = 3\n",
        "lda = models.LdaModel(corpus=corpus, id2word=id2word, num_topics=3, passes=10)\n",
        "lda.print_topics()"
      ]
    },
    {
      "cell_type": "code",
      "execution_count": null,
      "metadata": {
        "colab": {
          "background_save": true
        },
        "id": "czkcQo8MZiyF"
      },
      "outputs": [],
      "source": [
        "# LDA for num_topics = 4\n",
        "lda = models.LdaModel(corpus=corpus, id2word=id2word, num_topics=4, passes=10)\n",
        "lda.print_topics()"
      ]
    },
    {
      "cell_type": "code",
      "execution_count": null,
      "metadata": {
        "colab": {
          "background_save": true
        },
        "id": "qF5qyf7_GL1f"
      },
      "outputs": [],
      "source": [
        "# Wordcloud for each topic\n",
        "from wordcloud import WordCloud\n",
        "import matplotlib.pyplot as plt\n",
        "\n",
        "# Use ldana, the most recent model you trained\n",
        "lda_model = lda\n",
        "\n",
        "# OR any of the other models lda, ldan, ldana - depending on which one you want to visualize\n",
        "\n",
        "for t in range(lda_model.num_topics):\n",
        "    plt.figure(figsize=(8, 6))\n",
        "    plt.imshow(WordCloud(background_color='white', colormap='viridis')\n",
        "               .fit_words(dict(lda_model.show_topic(t, 50))))\n",
        "    plt.axis(\"off\")\n",
        "    plt.title(f\"WordCloud for Topic #{t}\", fontsize=14)\n",
        "    plt.show()"
      ]
    },
    {
      "cell_type": "markdown",
      "metadata": {
        "id": "mjWCvGs-ZiyF"
      },
      "source": [
        "These topics aren't looking too great. We've tried modifying our parameters. Let's try modifying our terms list as well."
      ]
    },
    {
      "cell_type": "markdown",
      "metadata": {
        "id": "mTmSqsCJZiyG"
      },
      "source": [
        "## Topic Modeling - Attempt #2 (Nouns Only)"
      ]
    },
    {
      "cell_type": "markdown",
      "metadata": {
        "id": "0MbWNRJHZiyG"
      },
      "source": [
        "One popular trick is to look only at terms that are from one part of speech (only nouns, only adjectives, etc.). Check out the UPenn tag set: https://www.ling.upenn.edu/courses/Fall_2003/ling001/penn_treebank_pos.html."
      ]
    },
    {
      "cell_type": "code",
      "execution_count": null,
      "metadata": {
        "colab": {
          "background_save": true
        },
        "collapsed": true,
        "id": "xkPighvDZiyG"
      },
      "outputs": [],
      "source": [
        "# 1. Uninstall the broken version\n",
        "%pip uninstall -y nltk\n",
        "\n",
        "# 2. Install the correct stable version\n",
        "%pip install nltk==3.8.1\n",
        "\n",
        "# 3. Redownload the resources\n",
        "import nltk\n",
        "nltk.download('punkt')\n",
        "nltk.download('averaged_perceptron_tagger')"
      ]
    },
    {
      "cell_type": "code",
      "execution_count": null,
      "metadata": {
        "id": "t1Z0bRN9NKo-"
      },
      "outputs": [],
      "source": [
        "# 4. Then run your original code\n",
        "import pandas as pd\n",
        "from nltk import word_tokenize, pos_tag"
      ]
    },
    {
      "cell_type": "code",
      "execution_count": null,
      "metadata": {
        "id": "mKWbNO3zNKo-",
        "outputId": "1dac9aaf-af04-4a9c-d1ab-0c325428ba37"
      },
      "outputs": [
        {
          "data": {
            "text/html": [
              "<div>\n",
              "<style scoped>\n",
              "    .dataframe tbody tr th:only-of-type {\n",
              "        vertical-align: middle;\n",
              "    }\n",
              "\n",
              "    .dataframe tbody tr th {\n",
              "        vertical-align: top;\n",
              "    }\n",
              "\n",
              "    .dataframe thead th {\n",
              "        text-align: right;\n",
              "    }\n",
              "</style>\n",
              "<table border=\"1\" class=\"dataframe\">\n",
              "  <thead>\n",
              "    <tr style=\"text-align: right;\">\n",
              "      <th></th>\n",
              "      <th>transcript</th>\n",
              "    </tr>\n",
              "  </thead>\n",
              "  <tbody>\n",
              "    <tr>\n",
              "      <th>adam</th>\n",
              "      <td>sandler love scraps skip search moviesmovie re...</td>\n",
              "    </tr>\n",
              "    <tr>\n",
              "      <th>ali</th>\n",
              "      <td>ali baby cobra transcript scraps skip search m...</td>\n",
              "    </tr>\n",
              "    <tr>\n",
              "      <th>anthony</th>\n",
              "      <td>anthony jeselnik thoughts prayers transcript s...</td>\n",
              "    </tr>\n",
              "    <tr>\n",
              "      <th>bill</th>\n",
              "      <td>bill sorry way transcript scraps skip search m...</td>\n",
              "    </tr>\n",
              "    <tr>\n",
              "      <th>bo</th>\n",
              "      <td>scraps skip search moviesmovie reviewsmovie tr...</td>\n",
              "    </tr>\n",
              "  </tbody>\n",
              "</table>\n",
              "</div>"
            ],
            "text/plain": [
              "                                                transcript\n",
              "adam     sandler love scraps skip search moviesmovie re...\n",
              "ali      ali baby cobra transcript scraps skip search m...\n",
              "anthony  anthony jeselnik thoughts prayers transcript s...\n",
              "bill     bill sorry way transcript scraps skip search m...\n",
              "bo       scraps skip search moviesmovie reviewsmovie tr..."
            ]
          },
          "execution_count": 13,
          "metadata": {},
          "output_type": "execute_result"
        }
      ],
      "source": [
        "def nouns(text):\n",
        "    '''Given a string of text, tokenize the text and pull out only the nouns.'''\n",
        "    is_noun = lambda pos: pos[:2] == 'NN'\n",
        "    tokenized = word_tokenize(text)\n",
        "    all_nouns = [word for (word, pos) in pos_tag(tokenized) if is_noun(pos)]\n",
        "    return ' '.join(all_nouns)\n",
        "\n",
        "# Apply the nouns function\n",
        "data_clean = pd.read_pickle('data_clean.pkl')\n",
        "data_nouns = pd.DataFrame(data_clean.transcript.apply(nouns))\n",
        "data_nouns.head()"
      ]
    },
    {
      "cell_type": "code",
      "execution_count": null,
      "metadata": {
        "colab": {
          "background_save": true,
          "base_uri": "https://localhost:8080/",
          "height": 676
        },
        "id": "zlY8jEMQZiyG",
        "outputId": "317f3a2e-675b-4d11-d6fd-a881d554de7c"
      },
      "outputs": [
        {
          "data": {
            "application/vnd.google.colaboratory.intrinsic+json": {
              "summary": "{\n  \"name\": \"data_clean\",\n  \"rows\": 20,\n  \"fields\": [\n    {\n      \"column\": \"transcript\",\n      \"properties\": {\n        \"dtype\": \"string\",\n        \"num_unique_values\": 19,\n        \"samples\": [\n          \" ali wong baby cobra   transcript  scraps from the loft \\t\\tskip to content \\t\\t\\t\\t\\t\\tsearch\\t\\t\\t\\t\\t  moviesmovie reviewsmovie transcriptstv seriestv show transcriptscomedystandup comedy transcriptsgeorge carlindave chappelleinterviewsplayboy interviewsmusichistorybooksopinions  moviesmovie reviewsmovie transcriptstv seriestv show transcriptscomedystandup comedy transcriptsgeorge carlindave chappelleinterviewsplayboy interviewsmusichistorybooksopinions comedy ali wong baby cobra   transcript september   \\t\\t\\t\\t\\tali wongs stand up special delves into her sexual adventures hoarding the rocky road to pregnancy and why feminism is terrible\\t\\t\\t\\t ladies and gentlemen please welcome to the stage ali wonghi hello welcome thank you thank you for coming hello hello we are gonna have to get this shit over with cause i have to pee in like ten minutes but thank you everybody so much for comingum its a very exciting day for me its been a very exciting year for me i turned  this year yes thank you five people i appreciate that uh i can tell that im getting older because now when i see an  girl my automatic thought is fuck you fuck you i dont even know you but fuck you cause im straight up jealous im jealous first and foremost of their metabolism because  girls they could just eat like shit and then they take a shit and have a sixpack right they got thatthat beautiful inner thigh clearance where they put their feet together and theres that huge gap here with the light of potential just radiating throughand then when they go to sleep they just go to sleep right they dont have insomnia yet they dont know what its like to have to take a ambien or download a meditation oasis podcast to calm the chatter of regret and resentment towards your family just cluttering your mind they have their whole lives ahead of them they dont have hpv yet they just go to sleep in peace at night everybody has hpv ok everybody has it its ok come out already everybody has it if you dont have it yet you go and get it you go and get it its coming you dont have hpv yet youre a fucking loser all right thats what that says about you a lot of men dont know that they have hpv because its undetectable in men its really fucked up hpv is a ghost that lives inside mens bodies and says boo in womens bodies my doctor told me that i have one of two strains of hpv either i have the kind thats gonna turn into cervical cancer or i have the kind where my body will heal itself very helpful this doctor right so basically either im gonna die or youre in the presence of wolverine bitches well find outum i can also tell that im getting older because my kindle is turning into a selfhelp library im not interested in books like fifty shades of grey ok im interested in the lifechanging magic of tidying up yes yes thats right how to declutter my home to achieve inner peace and my optimum level of success thats what your  is all about how can i turn this shit around im a horrible person im not happy with where i am how can i turn this shit around help me tony robbins help mei have a hoarding problem which im hoping is the center of all of my other problems im hoping that if the hoarding goes away the hpv will also disappear i have a hoarding problem because my mom is from a third world country and she taught me that you can never throw away anything because you never know when a dictators gonna overtake the country and snatch all your wealth so you better hold onto that retainer from the third grade cause it might come in handy as a shovel when youre busy stuffing gold up your butt and running away from the communiststhe last time i was at home in san francisco i was trying to help her get rid of shit dont ever do that with your mom it was like the worst experience of my life it was so emotional we were screaming and fighting and yelling and it all came to a climax when she refused to let go of a texas instruments  manual the manual she dont even know where the calculator is those of you under  probably dont know what that calculator is it was this calculator that bamboozled my generation we were all required to buy it when we were in eight grade it cost like  and everybody thought it was like this judy jetsons laptop from the future all because what it could graph it was like the tesla of my time and my mom got so emotional about the manual and she was like you never know when you might need this and i was like but i do know that im gonna have to clean all this shit up when you die and im not trying to be a procrastinator anymore because according to deepakoprah thats not the way for me to achieve my optimum level of successi grew up a lot this past year uh this past year i also got married yeah to a man who now has hpv very lucky guy he gave me something i gave him something that will also last forever no really im the lucky girl because before him i dated a lot of losers lots of losers a lot of skaters you wanna be a grownass woman stop dating skaters stop dating skaters unless you wanna wake up on a mattress in a kitchen theyre sexy on the outside malt liquor on the inside horrible but my husband i first met him at this wedding and uh hes\\u2013 hes much better looking than me hes way out of my league and i saw him and i was like oh my god who is that and the first thing i learned about him was that at the time he was attending harvard business school and i was like oh my god im gonna trap his ass going to trap his ass and i trapped his ass initially by not kissing him until the fifth date which is a very unusual move on my part but i did it on purpose because i knew that he was a catch so i was like all right ali you gotta make this dude believe that your body is a secret garden when really its a public park that has hosted many reggae fests and has even accidentally let two homeless people inside i thought they were hipsters ok that store urban outfitters has made things very confusing for my generation you homeless or you a hipster is that beard for fashion or for warmth it happened to it happened in san francisco when i was living there and i saw this guy in broad daylight and we had like we had we had so much chemistry he was like hey wassup i was like wassup and we\\u2013 the next thing i knew we were getting busy in the back of my volvo and then after we were done he was like hey can you drop me off i was like where he was like at the park and i dropped him off at golden gate park and watched him run into the middle with all his other homeless friends and i was like oh no i just fucked a homeless dude againmy husband is asian which a lot of people are shocked by because usually asianamerican women who like you know wear these kinda glasses and have a lot of opinions they like to date white dudes you go to any hipster neighborhood in a major city in america and that shit is turning into a yoko ono factory its too much i dont know whats wrong with these bitches i get it you know because being with a white dude you feel very you feel very picturesque when youre with a white dude you know you feel like youre in a wes anderson movie or something and you know white dudes they teach you about a lot of cool stuff like voting and recycling and disturbing documentaries they introduce you to cool stuff like that and its very you know its hot hookin up with a white dude i mean nothing makes me feel more powerful than when a white dude eats my pussy oh my god i just feel like im absorbing all of that privilege and all of that entitlement you know just right there through the money hole and just and then also hes so vulnerable down there im like i could just crush your head at any moment white man i could just kill you right now crush those brains colonize the colonizer you knowbut i think that for marriage it can be nice to be with somebody of your own race the advantage is that you get to go home and be racist together you get to say whatever you like you dont gotta explain shit my husband halffilipino halfjapanese im halfchinese and halfvietnamese and we spend  percent of our time shitting on korean people its amazing its what love is built on you knowmy last boyfriend was cuban and his family would shit on mexican people all the time and i was like hold it you guys arent mexican asianamerican men are very underrated i dont know why people dont go for them theyre the sexiest asian men are the sexiest they got no body hair from the neck down its like making love to a dolphin oh my god its so smooth just like a slip and slide just black fish tilikum all up in my bed every night you know oohwee you mess with a jewish dude and your body is all fucked up afterwards its all red and inflamed and youre like i did not ask to be exfoliated today this is the last time i go on jdate more like loofah date thanks for the rug burn avi and then asian men no body odor none they just smell like responsibility thats where the umami flavor comes fromi think my husband and i have a huge unspoken understanding uh between each other because hes halffilipino and halfjapanese and im halfchinese and halfvietnamese so were both halffancy asian and halfjungle asian yeah you guys know the difference the fancy asians are the chinese the japanese they get to do fancy things like host olympics jungle asians host diseases its its different but he grew up on the east coast going to private school playing lacrosse uh you know learning latin and playing chess and rugby he grew up like filipino carlton ok so he didnt know anything about vietnamese people until he met me and on one of our first dates he took me to this restaurant on the west side of los angeles called pho show he was like its authentic vietnamese i read about it on yelp i was like its not authentic ok you can tell first and foremost by the name cause it dont got a number in it second of all you can tell by the bathroom if it was legit the bathroom would double as a supply closet when i pee i need to see ten gallons of bleach an atm machine and a grandma with glaucoma napping in the corner and the wait staff here is too nice we need to leave this restaurant deaf and emotionally abusedi grew up going to private school too him and i are both total like private school asians we both are big hippies too we like to backpack through southeast asia we like to do yoga we do ayahuasca ceremonies we do silent meditation retreats thats right we pay  to shut up for a weekend we do shit like that uh we eat glutenfree which means we eat all that bread that tastes like freerange chewbacca we eat that lesbian bread thats like a thousand percent of your daily fiber and  percent spoken word poetry when you eat it you queef a shitty poem about supporting caitlyn jenner or whatever and so its funny right because hes asian too but sometimes all of this hippydippy shit we do makes me feel like we are white people doing an impression of asian people like we have these chinese scrolls up on the wall and neither of us know what the fuck they mean were like oh that seems to go very well with our buddha piggy bank from pier  imports that seems to be providing some good feng shui for the househim and i had been dating for four years and i\\u2013 i just had this sneaking suspicion that he was gonna propose because i had been pressuring him to do it so you know i just had this wacky womens intuition thats how proposals really work ok a woman has to incept the idea into the mans head first passively and then if he doesnt get the message extremely aggressively you gotta threaten to leave without ever actually leaving because you know that youre too old and its too late to go back out there and find a new man and start the whole manipulation cycle all over again so youre like im just gonna stick with this dude focus on trapping this dude and just nag the shit outta him until he becomes weak and caves in and gets fed up and is like shut the fuck up fine will you marry me and then afterwards the woman is always like oh my god he proposed it came outta nowhere and look he got me the exact ring i wanted how did he know maybe he saw it on my pinterest page or something that i sent to my best friend that i told her to send to him every day let me tell you something if a man has a pinterest page hes probably pinterested in men we got engaged on a saturday i bought my wedding dress the following tuesday because i had tried it on in  i was ready i was ripe i was rotten i need to be made into banana bread thats how rotten i waspeople are always very surprised at how offstage with my husband im a completely different person you\\u2013 like you would not recognize my personality at all with him with him im very soft and like very nurturing and very domestic weve been together now for five years and for five years ive packed his lunch every single day yeah yes yes yes i did that so that hed become dependent on me cause he graduated from harvard business school and i dont wanna work anymore i dont i straight up dont wanna work anymore i dont feed him out of the goodness of my heart i do it as an investment in my financial future cause i dont wanna work anymore ive been reading that book by sheryl sandberg shes the coo of facebook and she wrote that book that got women all riled up about our careers talking about how we as women should challenge ourselves to sit at the table and rise to the top and her book is called lean in well i dont wanna lean in ok i wanna lie down i want to lie the fuck down i think feminism is the worst thing that ever happened to women our job used to be no job we had it so good we could have done the smart thing which would have been to continue playing dumb for the next century and be like were dumb women we dont know how to do anything so i guess we better just stay at home all day and eat snacks and watch ellen cause were too stupid to have any real responsibility and then all these women had to show off and be like we could do it we could do anything bitch shut up dont tell them the secret they ruined it for us and now were expected to work when i hear the phrase doubleincome household i wanna throw up a lot of women get very upset with me about those comments and theyre like but ali we have so many more options now oh you dont think we had a lot of options when our day was free unscheduled unsupervised and most importantly sponsored do you know how much shittier food tastes when you know you have to earn ita lot of my friends when we walk around together theyll get very judgmental about housewives that well see on the street and theyll be like look at that fucking housewife not doing anything look at that housewife just walking around all day getting massages in her lululemon pants im like that bitch is a genius shes not a housewife shes retiredi do write for fresh off the boat on abc yeah which is its a great show i love it a lot i love my coworkers its a great writing staff and in terms of day jobs its probably one of the best you could ask for but i still gotta work at a office every day which means i gotta shit in a office every day housewives they dont gotta shit in a office housewives get to shit in their house skin to seat they dont gotta use that horrible toilet paper cover they dont gotta ten times a day every day like youre about to eat a sadass meal they dont gotta do that they dont gotta use that oneply toilet paper that office toilet paper that they purposely make difficult to pull out they try to ration me with their communist toilet paper thats not even effective it basically just dehydrates your butt hole its basically like wiping your butt with the desert i literally spat on my toilet paper two days ago to try to make a macgyver baby wipe to moisten it and then it backfired cause my fingers broke through and digitally stimulated more doo doo to come out and then i had to start all over again and you can never finish wiping at work because you always feel rushed cause youre paranoid that your coworkers gonna recognize your shoes underneath the stall and youre like oh no courtneys listening shes waiting shes timing me and then you hurry hurry hurry and then you never finish wiping and then your butt hole feels caked in doo doo all day long and then if you dare scratch yourself your underwear at the end of the day looks like its been run over by the goonies housewives they dont gotta muffle their shit too they dont gotta worry about the velocity with which their doo doo comes out they dont gotta try to you know squeeze the butt cheeks together to make sure that the doo doo comes out at a slow and steady pace so that no unpredictable noise suddenly escapes and brings you deep deep shame housewives are free to just blow ass into the toilet and let it echo and reverberate to the ends of their hallways while watching as much netflix on their ipad as they want they dont gotta take these boring repressed shits they can listen to podcasts planet money they can do whatever they wantyou know its\\u2013 its very distracting for me when i hear my coworkers blow ass into the toilet i lose respect for them nothing they say to me anymore holds any sort of credence i heard one of my coworkers blow ass into the toilet the other day this bitch had the nerve to come up to me and say you need to get to work on time i was like you need to eat bananas i saw those green ballet flats i know that shit was you dont try to tell me to get my shit together when i heard you not have your shit togethermy fatherinlaw had this huge sitdown with me and my husband recently um and he was like hey i wanna talk to you guys about money you guys need to make a lot more money if you wanna provide your children with the same kind of privileged childhood that you guys had i was like why you telling me this shit i should not be a part of this conversation you tell you son that dont your understand that i trapped your son for his earning potential why else would i choose to fuck one person for the rest of my life i chose to marry him on the promise of early retirement and when i said i do what i really meant was oh im done im done i dont wanna work anymore and im not dieting anymore since i got married last year ive been eating fried chicken skin every day since thats right and just fulfilling my destiny which is to turn into a circle with eyelashes like mrs pacman just lets redecoratei gave up a lot of myself when i got married im a\\u2013 im a disgusting pervert im a pervert im a gross filthy animal and i think its because i started watching porn at a very young age and what happens when you start watching porn at a young age is that yyou get sicker and sicker and sicker the images you crave get sicker and sicker and sicker but its ok because the internet will always catch up to youi broke up with my last boyfriend because he refused to put it in the back i was like uh youre a idiot dude do you realize that if i went on craigslist and posted tiny asian female seeking anal the internet would crash and all the jewish male heads in the universe would simultaneously explode they would explode a lot of women get really you know freaked out about anal and theyre like oh i dont wanna do that im scared of\\u2013 of the pain you aint scared of the pain women they wax their eyebrows they do all sorts of crazy shit youre not scared of the pain what youre really scared of is doo doo on the dick youre scared that hes gonna see that and thats gonna be all of your shame your inner evil all your secrets and lies sephora cant help you now but dont worry cause when he puts it in the butt all hes thinking about is i just put it in her butt i gotta go call my mom my dad dave my grandma youre\\u2013 if youre married youre gonna have to do anal eventually ok you have to because you gotta change it up you gotta change it up so that you dont cheat on each other you gotta keep it interesting if you put it in different holes maybe youll feel like youre fucking different people i was very sexually active in my  and as a result im a little bit stretched out down there ok so when i finally did anal i just felt like i got a second chance at life you know i was like oh my god its like im going back in time\\u266a a whole new world \\u266ait was magicala big fantasy of mine before i got married was to help as many men as possible discover their prostate yeah like a conqueror i just wanted to now if you havent done it before ladies go home and treat yourself do it tonight you only live once yolo just sneak your\\u2013 just give your man a little\\u2013 a little pushpush in the tushtush just give him a little atari you know and youll get a lot of resistance from the man at first youll get a lot of no no no no please no really i dont\\u2013 no i dont i dont no they get all squirmy wormy because theyre scared theyre scared that if you stick your thumb up there and succeed and they like it that then it might mean that theyre gay and i like that fear that shit turns me on you know especially when that fear metamorphosizes into pleasure oh my god and you just see the look in the mans eye like hes discovered nirvana and its like youre the first lady to show him that he had a magical clit in his butt hole and then you as the woman in his eyes just become the lord of the rim you knowmy husband is unfortunately just not as freaky as me when\\u2013 when ive asked him to spank me this is what he does hey hey are you ok are you all right you know i respect you right im like yes i know you respect me and thats why you need to abuse me ok cause its the most strongheaded loudmouthed women who like to be abused the most in bed women who are ceos they just wanna be roughed around they just want their\\u2013 glasses always means the woman wants some\\u2013 its because were so in control all the time that we just wanna experience some risk and be out of control you know like i dont wanna die dont kill me i dont wanna die but i also dont want to be sure that im gonna live you know i just wanna be out of control for once just\\u2013 just choke me enough so that i cant talk cause if i can talk im gonna tell you what to do and im tired of being the boss im the boss all the time so in the bedroom you be the boss yes because im the real boss and i told you so motherfucker so do itsheryl sandberg that woman who wrote lean in has had such a big impact that now because of her there is a ban on the word bossy in elementary schools because according to her its sexist to use the word bossy because boys are never called bossy so now instead of saying youre bossy youre supposed to say you have executive leadership skills which is a very roundabout way of saying youre a little cuntim just waiting for the right moment to like become a housewife financially you know i want my husband to get us to like a certain point financially i wanna get to the point as a couple where i can comfortably afford sliced mango know what im talking about im talking about that whole foods mango that  whole foods mango that was sliced by white people thats the kind of income bracket im striving for thats when you know youve made it when youre eating mango that was sliced by a dude named noah i want noah mango rebecca kiwi danielle pineapple you know what else i want i wanna be able to take a stroll on a sidewalk see a quarter and just keep on walking like a princessi have some useful advice for all my asianamerican brothers and sisters yeah never go paintballing with a vietnam veteranso i dont know if you guys can tell but i am seven and a half months pregnant yeah its very rare and unusual to see a female comic perform pregnant because female comics dont get pregnant just try to think of one i dare you theres\\u2013 none of them once they do get pregnant they generally disappear thats not the case with male comics once they have a baby theyll get up on stage a week afterwards and theyll be like guys i just had this fucking baby that babys a little piece of shit its so annoying and boring and all these other shitty dads in the audience are like thats hilarious i identify and their fame just swells because they become this relatable family funny man all of a sudden meanwhile the mom is at home chapping her nipples feeding the fucking baby and wearing a frozen diaper cause her pussy needs to heal from the babys head shredding it up shes busy so i dont know whats gonna happen to me you know a lot of my female standup comic friends who are a lot more successful and famous than me discouraged me from having a kid and they were like ali why are you gonna have a kid you just gonna become\\u2013 youre gonna disappear and youre gonna become some lame stayathome mom i was like yeah thats the dream thats the point this is the ultimate trap i won you knowanother thing a lot of my friends said to me when they were discouraging me from having a kid they were like why are you gonna have a kid why dont you just travel the world with your husband and just do whatever you want for the rest of your lives with no kid attached i was like yeah thats cool until my husband dies which hes definitely gonna before me because im a asian woman and therefore guaranteed to live until im a billion im guaranteed like a turtle from the galapagos ok we all know the phrase black dont crack well asian dont die we dont die especially the women we live forever and you know why were such bad drivers because were trying to die were like yeah let me see how invincible i really am imma make this left hand turn signal and ignore this red light completely im gonna make a right turn\\u2013 i changed my mind its a uturn i changed my mind again its a oturn every time i get into a car accident im like oh my god not again i need to hide my face so that everybody doesnt see that its what everybody thought it was gonna be so embarrassing my toyota corolla is a mess theres this huge bear claw scratch on the side from this aggressive brick wall that came out of nowhere and then on the hood theres multiple hand prints from pedestrians who have had to alert me of their existence i dont know whats wrong with me but im still here you knowi need to have children to keep me company when i get older its lonely my mom is  going through a full blown midlife crisis cause she knows that shes got a century more to go and she is so lonely all of her white friends dead her mexican friends dead black friends dead im just kidding she doesnt have any black friends life is not rush hour the movie ok i need children to be there for me when im older when i get as old as her and when i say be there for me i mean pay for me when my husband isnt around to support me anymore im not trying to be one of those old chinese ladies who recycles for a living thats not my destiny ok old chinese ladies they dont give a fuck they got no shame theyre like im just gonna recycle go bald go to the park do this shit they do that cause its a free activity for them they do it in their\\u2013 their bigass v stiviano visor their darth vadertomb raider boba fett helmet they wear that to protect themselves from their archnemesis the sun their in a contest to see whos gonna burn out first old asian ladies and the sun are like the tupac and biggie of longevityi also decided to have a kid because uh im only  which i know is not technically highrisk but my body was starting to show signs of change and it\\u2013 and it scared me like im only  and my pussy is not as wet as it used to be its very demoralizing ok do you remember when you were  years old and your pussy was just sopping wet all the time all the time you just took it for granted that you could just reach your hand down your pants at any given moment you throw up the peace sign afterwards and there would be that snailtrail in between your fingers oh my god it was so juicy you could just blow a bubble wand with it just i slime you i slime you ghostbustersi dont know what kind of mother im gonna be im\\u2013 im  and i did have to get a little bit of science involved when trying to get pregnant and a lot of that is most likely my fault because when i was in my  i ate plan b like skittles so my uterus probably looked like a smokers lung and i found out that my progesterone levels were alarmingly low so then i had to take these hormone pills that were suppositories and push pop them up myself every single night and then at my writing job at fresh off the boat i would be storyboarding in front of my coworkers and then at some point the pill would inevitably dissolve and melt into my underwear and i had to act like everything was ok when everything was clearly not ok and then a side effect of the progesterone was that it made me extremely itchy so then i had to find ways to discretely scratch myself underneath the conference table and then resist the urge to immediately smell my fingers afterwards i want to be able to smell my fingers when i wanna smell my own goddamn fingers housewives they can just scratch and sniff all day long they just vacuum scratch sniff they make a sandwich uh mmm they watch property brothers scratch whats crackin mmm every time you scratch yourself all you can think about is when can i smell my fingers when can i smell my fingers when can i discretely find a way to smell my fingers nature made you urgently curious to protect you cause you gotta check that its all good in the hood if its too funky you need to see a doctor your fingers are your first webmdwhen my husband and i were trying to have a kid a lot of people were like oh my god thats so hot you guys doin a lot of fuckin no dude thats\\u2013 thats shit you do in your  ok when in\\u2013 when youre in your  and youve been trying to get pregnant for a while it gets very clinical you pee on these ovulation strips that tell you when the eggs are droppin it tells you when its easter time and i would only fuck him when it was easter time it was like only four days out of the month and outside of that i would be like were not fuckin i need you to save it i want your sperm to be as pentup and as angry and rapey as possible so that when they come out its like release the kraken and they just come out like a bunch of angry refugees escaping a dictatorship you know and um yeah and most of the time like we wouldnt even have sex cause i was so tired when i would come home and see the smiley face on the ovulation strip and id be like ok its go time and i would just give my husband a hand job most of the time and he would close his eyes immediately i know what that means ok when somebody closes their eyes during sex its not because theyre in such ecstasy with you that\\u2013 that they need to close their eyes when somebody closes their eyes during sex its because theyre literally trying to shut the image of your face out of their head and instead project two latina lesbians that they saw earlier that day on redtube onto the back of their eyelids which is fine by me because then he doesnt have to see the expression on my face that says please hurry the fuck up and then when he was about to finish i could always tell because the indication is very universal when a man is about to finish its when they get that that stupidass look on their face where they look like they just got bit by a zombie just and then because were hippies id be like hey hey please look me in the eye and remember to come with intention ok and then i would jump on him and hold onto his neck and i would just twerk twerk twerk the shit out of him and do some of this shit that i learned in atlanta and then i would turn upside down immediately afterwards to make sure all of that harvard nectar would just drain inside of me thats right cause i dont wanna work anymoreim very grateful to be pregnant and to be this far along to be seven and a half months pregnant because last year i had a miscarriage which is very common and a lot of women who are in their  flip out when they hear that theyre like oh my god thats so dark and terrible i cant believe that im  girl when youre  youll know plenty of women who have had a miscarriage its super common and i wish more women would talk about it so they wouldnt feel so bad when they go through it when i told my mom\\u2013 shes from a third world country and when i told her i had one she was like uh yeah where im from thats like losing a pair of shoes its whatevs ok and everything happens for a reason i found out at my sixweek sonogram which is very early and the doctor says to me oh my god i see two sacks which means youre having twins and i was like no and then she said but what i dont see is a heartbeat and i was like yes the lord is mysterious dont feel bad ok they were the size of poppy seeds ive picked boogers larger than the twins that i lost and most women wont let their husbands watch when theyre going through a miscarriage i sat my husband down in front of me while i sat on the toilet and i was like you look you watch the whole thing and he felt so bad for me and i used it as leverage and held that shit over his head for a month and got him to do whatever the fuck i wanted him to do for  days he took me to see beyonc\\u00e9 he bought me a bike off of craigslist thats my miscarriage bike and i love it very much for  days i finally had the marriage i always wantedim scared about giving childbirth though im\\u2013 im very very scared of childbirth thats why im going to hire a doula you know what that is you know what a doula is thats a white hippie witch that blows quinoa into your pussy to keyser s\\u00f6ze all the pain away a lot of women tried to freak me out they tried to freak me out about childbirth by saying ali did you know that youre gonna poop on the table i was like yeah i look forward to it im all backed up from holding in my shit at work i cant wait to cleanse it makes sense like that you\\u2013 that that happens because when youre in labor you push you push you push and your husband will be asked to assist in the labor by lifting up your leg which subsequently turns into a soft serve lever you just shit on the floor in front of the love of your life and just when you think thats enough to make him finally leave you boom a baby comes out and he gotta stay thats the real miracle of life right there i can already see how a child can really take its toll on a marriage because the baby hasnt even come out yet and i am already so resentful towards my husband so much resentment especially when he asks me to do shit around the house hey can you wash the dishes no can you water the plants i am not doing jack shit anymore im busy makin a eyeball ok are you makin a foot i didnt think so you change the channeli can already see how theres like this crazy double standard in our society of how it takes so little to be considered a great dad and it also takes so little to be considered a shitty mom people praise my husband for coming to all of my doctors appointments with me oh my god i cant believe he comes to all your doctors appointments he is so supportive guess who else has to go to those doctor appointments me im the star of the show theres nothing for the camera to see if im not there but hes the hero for playing candy crush while i get my blood drawn meanwhile if i do mushrooms seven months pregnant im a bad mommyyou know i\\u2013 i\\u2013 i like i berate my husband on like a daily basis partially because i really am mad at him but mostly out of survival because if he leaves me im fucked so i have to chip away at his selfesteem on a daily basis to keep him down so that he doesnt believe that hes worthy of another womans affection and leaves me i gotta keep him around by keeping him down people dont tell you about all this shit that goes down with your body when you get pregnant you know your nipples get huge and dark i didnt know that i didnt know that they get dark so that the baby can see like a bullseye so that the baby can find it easier and then you know they get big\\u2013 they get big like fingers like you you you owe me money you my nipples look like whoppers now and naked i look like a minion but im not gonna be one of those crazy pregnant ladies who tries to get all back in shape right after they get pregnant no hopefully if you see me in a year i will have the kind of body where if i do a nude scene on television people will commend me for being courageous for doing itnow that im seven and a half months pregnant my pussys all wet again but its different its not like when i was  years old when it was like really hot you know and i was like why is it different and i looked it up and my pussys all wet again because my\\u2013 my bodys secreting mucus to protect the baby from bacteria attacking it thats not the same when its straight up soldier glue when its neosporinso you know i\\u2013 i in\\u2013 previously before i met my husband i had dated a bunch of losers and then i meet this dream guy whos like way more handsome than me out of my league graduated from harvard business school worked hard to trap his ass got him to propose to me oh my god then we got married all my dreams coming true and then we got pregnant and recently we bought our first home together and uh two weeks into the escrow process i discovered that my beautiful harvardeducated husband was  in debt and me with my hardearned tv money paid it all off so as it turns out hes the one who trapped me how did he do it how did he bamboozle me oh maybe because he went to harvard business school the epicenter of whitecollar crime he enrond my ass and now if i dont work we die why else do you think im performing seven and a half months pregnantall right ive been ali wong have a good night everybody thank youmoreali wong standup transcripts share this article           leave a comment cancel replyyour email address will not be published required fields are marked type herenameemailwebsite current yer leave this field empty read more \\t\\t\\t\\tiliza shlesinger a different animal   transcript\\t\\t\\tshlesingers new prime video special filmed in salt lake city delivers raw highenergy comedy tackling relationships gender dynamics and taboo topics with her signature unfiltered style\\t\\t\\t\\tari shaffir americas sweetheart   transcript\\t\\t\\tcomedian ari shaffir tackles controversial topics like terrorism gun violence racism and more in his standup special with a darkly humorous approach he explores unexpected perspectives on sensitive social and political issues\\t\\t\\t\\tgabriel iglesias legend of fluffy   transcript\\t\\t\\tgabriel iglesias legend of fluffy celebrates his  career blending sharp humor with personal stories about fame societal norms cultural identity and life lessons while staying true to his comedic mission of entertainment over offense\\t\\t\\t\\tbill maher is anyone else seeing this \\t\\t\\tbill mahers special critiques woke culture political extremes and societal absurdities with sharp humor urging open dialogue amid polarizing times movies movie reviews movie transcripts stanley kubrick sergio leone pauline kaelcomedy standup transcriptsgeorge carlin dave chappelletv series tv show transcriptsblog interviews playboy interviewsmusic books history about privacy policycookies terms of use contact usdiscover our weekly newsletter enter your email i accept the privacy policyfacebook  instagram \\u00a9  scraps from the loft all rights reserved weekly magazine get the best articles once a week directly to your inbox enter your email  \",\n          \" gabriel iglesias legend of fluffy   transcript  scraps from the loft \\t\\tskip to content \\t\\t\\t\\t\\t\\tsearch\\t\\t\\t\\t\\t  moviesmovie reviewsmovie transcriptstv seriestv show transcriptscomedystandup comedy transcriptsgeorge carlindave chappelleinterviewsplayboy interviewsmusichistorybooksopinions  moviesmovie reviewsmovie transcriptstv seriestv show transcriptscomedystandup comedy transcriptsgeorge carlindave chappelleinterviewsplayboy interviewsmusichistorybooksopinions comedy gabriel iglesias legend of fluffy   transcript january   \\t\\t\\t\\t\\tgabriel iglesias legend of fluffy celebrates his  career blending sharp humor with personal stories about fame societal norms cultural identity and life lessons while staying true to his comedic mission of entertainment over offense\\t\\t\\t\\t gabriel iglesias legend of fluffy is a lively celebration of his  journey as a comedian blending heartfelt gratitude with his signature humor that balances cultural commentary sharp observations and relatable anecdotes from recounting his experiences with fame and evolving societal norms to navigating personal milestones like his relationships and the challenges of maintaining his authenticity iglesias crafts a deeply engaging narrative the special reflects his belief in staying true to his comedic roots\\u2014focusing on entertainment without alienation\\u2014while touching on personal growth his rise to international fame and the enduring loyalty of his fans through hilarious retellings of reallife situations including a robbery his missteps in cultural sensitivity and navigating life postbreakup iglesias showcases his ability to laugh at himself and find humor even in adversity the show is a testament to his longevity adaptability and connection with audiences offering both laughs and introspection  fluffy man look at this crowd they are going crazy for this guy who is he why are they losing their minds well i guess were just gonna have to go back to the beginning and figure it out editor please do me a favor and take us back to the beginning uh you know what i think you might have gone a little too far yeah okay yeah i get it last special performed at a stadium mexican taylor swift over here okay uh i you went a li hello thats a lot uh you went all right real funny editor real funny when i said go back to the beginning this isnt what i meantbut seriously how long is this special oh okay well well rewind it just that amount and lets give these people somethin to talk about  \\u266a the number you have dialed is not available at present \\u266a \\u266a please leave your message after the beep \\u266a \\u266a yeah trendsetter \\u266a \\u266a whoa league of my own \\u266a \\u266a it dont get better no read what i wrote \\u266a \\u266a im a bestseller yeah \\u266a \\u266a reach for my goals \\u266a \\u266a hit it dead center hit it dead center \\u266a\\u266a bullseye hit it the most \\u266afluffy fluffy fluffy fluffy fluffy fluffy\\u266a a better bat because im bigger better \\u266a \\u266a solo singles selling several shows out every second \\u266a \\u266a peter piper picked a peck of pickled peppers \\u266a \\u266a connor came and crushed the competition \\u266a \\u266a hope they get the message \\u266a \\u266a look living it fast been in my eminem bag never go slow \\u266a \\u266a thinking ill crash end up in the past they know i wont though \\u266a \\u266a big fish catchin me they gon need a bigger boat \\u266a \\u266a ironic how the world stops when i spin the globe \\u266a \\u266a always showing up \\u266a \\u266a last years songs still holdin up \\u266afluffy fluffy fluffy fluffy fluffy fluffy fluffy were in miami bitchyeah freaking miami this is the only place i could pull this offi cant wear this in la theyre like  im blind  its too much ah freaking mexican dj khaled up here i know right also i would like to thank since were here only in dade thank you so much if you know you know  and i think you know  and also to my friends over at la carreta for all the food soyes  yeah man before we get started you guys uh i would like to thank the hard rock hotel and casino for the opportunity to record a special no other entertainer has done a special here yet tonight is the first oneit wasnt the rolling stones it wasnt the eagles they trusted a comedian  to make this happen so i wanna say thank you is anybody else staying here at the uh at the hard rock  hey me toothis is a beautiful hotel and im not just saying that cause my room is free  you know youre in a nice hotel and casino when you turn on your tv in your room and they have their own video like if youre staying here you turn on the tv you get this   welcome to the hard rock hotel and casino   twentyfourhour gambling seven days a week  days a year  im sitting there like why cant i stop watching this and i started thinking at this point why dont they just do that to the slot machines you know gamblings already shameless might as well go all the way you walk up to one of the little machines pop in a      dont stop  im not gonna  people are walking by what are you doing trying to get the jackpot yeah man im gonna start the show off tonight with a question thats not how comedy shows happen but im gonna start it with a question the question is who here tonight has never heard of me up until tonight  five two five okay to those of you the five of you i say sorry i know you got excited you saw the ticket you saw the last name and then i walked out and youre like enrique got bigger  the only reason why i ask who has never seen or heard of me before is because if you have then you know the type of show that i do and you know the type of show that i dont do like im not here to tell you who to vote for who not to vote for what shot to take or what baby to get rid of thats not for me to say if youre already offended you missed the point im telling you what im not gonna do i promise you i am here to entertain not offend okay  were gonna have fun with everybody starting with me but im gonna let you know were living in a different time ive been doing this so long i always figured as long as im being nice i shouldnt have any issues but its a very different time this is year  for meyeah twentyseven years of being a comedian and in those  years i never had to worry you know when i first got started shoot  i was cleanshaven i had hair i know look at some of you what happened huh vaccine i know im kidding im kid im kidding sorry florida im kidding im kidding i said vaccine some of you were like i told you yeah   i told you he said so   some friends tell me dude man youre making money now why dont you get the hair thingy i said for what well you know some women they want a guy with hair well good for themand theyre not lying i have gone out with some women that made it a point to tell me that hair was important one told me flat out i need to be able to run my fingers through your hair yeah and i told her hey look if you go deep enough  youre gonna get your wish you were not specific on location hey you want hair you want pelos i got you but yeah  years of being a comedian and in those  years i have seen a lot of comedians come and go and i feel very grateful that in all that time weve still managed to maintain a certain levelso i feel like were doing something right which feels weird to me because now i feel like you gotta be very mindful okay you gotta be extra mindful like uh  years of being a comedian i finally started hearing people tell me things that ive never heard before i started hearing people tell me things like hey fluffy i grew up watching you  which is an incredible compliment because that doesnt just say that youre a fan that says that youre invested that says that youve been following this career for a very long time some of you the first time you saw me perform you were kids  and now some of you are here tonight with your kids  and so i just want to say thank you for all those years of trust and continuing to come back to see the show it means a lot  hearing someone say they grew up watching me that is one of the most beautiful compliments any entertainer can receive and i understand that now with therapy that thats what that meanslook im not gonna lie the first time i heard someone tell me that they grew up watching me i didnt know how to handle it i didnt know how to process because nobody wants to feel like theyre getting old the first time i heard it i was like  second time i heard it i was like buy a hat the third time i accepted it i was like  many years ago when i first got started all of this was land as far as the eye could see it was a very different time and by the way i dont know why my old voice is white  he just is i tried doing the mexican voice but you dont take him as serious  well screw you we were at the ranch and were told to fuck off dude its very tough out there  but times are changing the rules are changing so i dont know how much longer this is gonna be okay ill tell you what happened to me and why i brought that up i did a podcast and before i went into the studio im talking to the producer outside and the producers excited and happy and shes like gabriel iglesias were so excited to have you this is really cool before you go in the host wanted me to ask you something before you go in for your interview i go sure go for it okay what do you identify as  i wasnt sure how to answer that im  years old i didnt know what to say i was like shit hungry i guessi mean im tired sleepy depressed on tuesdays i dont know what you want me to say see heres the thing i knew what she was trying to ask me i just wasnt trying to get involved in a conversation about something that has absolutely nothing to do with me this was yeah  i felt like i was being baited because no matter how i answered that question i was gonna find myself in an awkward situation so you know because for me i was just like let me just be funny but nowadays you cant just not answer the question because silence is seen as a problem and im sorry if me not answering a certain question is considered a problem i was brought up during a time where you were constantly told to mind your businessthats all im trying to do is stay in my lane another thing we were constantly told was always respect your elders  and no matter what generation you were from that was at least the one thing we could always agree on until now now older people are seen as a problem they are you know and i understand the youth of today has the technology in the palm of their hands and you can google just about anything but you cannot google life experience okay you cant you cant download struggling you cant download failure you cant download these moments that help build you up to make you a better person and so again for me i chose to stay in my lane and just crack jokes when the girl asked me the question she got very upset she got very offended as soon as i cracked the joke she was like no thats not what i mean i mean what are your pronouns what what are your pronouns for example are you a they or them a they  or a them  how fat am i  when did i stop being an it apparently i ate myself into a plural thats what happenedwhat im finding is even if you have good intentions and youre trying to be cool you can still find yourself in a situation so ill tell you what else happened to me mkay i was at a mcdonalds  thats not even the joke but okay  all righty theyre like here this is gonna be good no no i was at a mcdonalds by my house the mcdonalds by my house is actually a twofer its a mcdonalds on the corner and its also a gas station i got a big suv i knew it was gonna be a minute so i said let me go get some nuggets while im here i walk into the mcdonalds and as im walking in i couldnt help but notice this homeless family sitting right outside now they didnt have a sign they did not ask me for money but you could just tell you could just tell that this poor family is dealing with life so i get inside and i said you know what i dont need anything to eat i really dont at this point its just the habit  i get to the register and i say you know what let me order some food for the family they got kids with them so i placed an order and the cashiers like anything else actually yes do you have um um wetnaps excuse me you know wetnaps to clean your hands sir youre more than welcome to use the restroom ill give you the code heres the thing its not for me its for the homeless family thats right outside the door i want to make sure that the little kids can clean their hands before they eat this food that i just ordered is for them and as were talkingthank you as were talking the manager at the mcdonalds is listening in to our conversation and she walks over and shes all nosy right shes like excuse me i couldnt help but overhear did you just say that this food is for the family outside  yeah i hope thats okay  no it is definitely okay giving food to people who need food is definitely okay however what you just called them is not okay   what did i call them  you said homeless  cause they are look shit  hes lickin the window   you cant say that word its considered offensive  who complained okay well if im not supposed to say the word homeless anymore what am i supposed to say instead of the word homeless  the new politically correct term is actually unhoused when describing someone in an unfortunate situation like that   youre kidding  no sir im not kidding and please lower your voice  you want me to lower my voice when youre saying something so ridiculous  if you think its ridiculous then clearly you are part of the problem not the solution  oh miami i wanted to get ghetto  i wanted to get ghetto oh yeah oh yeah i wanted to go full hialeah on them   love you fluffy thank you for coming hialeah  so yeah i wanted to go off on her but i i i wanted to get ghetto but i couldnt because that is the regular mcdonalds i go toyou know what im saying im not trying to get banned the next ones far and gas is a bitch so im like nah so i looked at her and i said okay were gonna play this game lets play this game from now on im no longer fat  according to you i am now unexercised   i did bro she looked at me and shes like dont be ridiculous and i looked at her and i was like oh oh well if you think its ridiculous then clearly you are part of the problem not the solution  and i grabbed the food and i walked out now second half of the story i walk over to the family mkay and i hand the bags of food to the mom and the mom was so nice she was just happy that someone thought of her and her kids she got very emotional shes like i just want to say thank you you have no idea what youre doing for us right now this really means a lot thank you and i had to ask the question  i said are you okay i know what you thought some of you are like dont do it oh i did it thats why were here watch so i looked and i said are you okay and she was like no unfortunately were not okay were not weve been homeless now for four days and i was like um  i dont know if you heardbut uh no not i didnt correct her  i didnt correct her cause im not a dick thats why i didnt correct her  thats what i mean you guys even if you have good intentions nowadays people can take what youre saying or doing and twist it to make you look bad there should be no consequences for being kind for trying to help for wanting to do the right thing for caring unfortunately were still consumed by this word called liability that sometimes we forget to be a little human and thats unfortunate im not trying to get on a soapbox about this im trying to let you know some things ive been dealing with and im just here to report  the thing with me now is that after  years of being a comedian every time i walk out the door the light is officially on in the sense that every time i leave my house there is a slight chance i could make the news for example did martin talk about how uh he fell off the stage earlier in the show yeahokay okay cool uh for the home audience martin he fell a while back he talked about it i know you didnt see it cause your subscription only covers so muchum yeah you can watch the first half on prime i think its on prime maybe you can just see it there then come back and check out the rest so long story short we were doing a show in phoenix arizona and martin accidentally fell off of a stage this high and he broke his foot now the incredible part about martin is that he got up and on adrenaline ran around got back up on stage and performed and then was taken to the hospital after he walked off stage he is a professional  seriously that is a pro much respect cause if it would have been me  if i wouldve fallen off stage and the staff was like what about the fans well bye felicia  what do we tell em refund  but see the difference is martin had to tell you he fell for you to know he fell and by the way i saw the fall i saw he came out and just kind of tripped over a cord backstage came through the curtain already you know and then you know martiiin  women in the front row were like he fell for me  im glad you laughed i said that last night and some guy was like aw  i said why aww  well thats your friend  exactly thats why i make fun of him that is the mark of a true friendship is being able to say real evil things about each other  because you know you dont really mean it plus you dont think that if i wouldve fallen off the stage instead of martin that he wouldntve had a joke you better believe he would have had a joke he would have told people i saw fluffy bouncenot to mention the fact that you know thatll make the news i fall off the stage tonight therell be a van out in front in an hour were standing here live in front of the hard rock hotel and casino where authorities believe fluffy lost control lets go to tom whos inside the venue who can fill us in with more thats right jim im standing here at the hard rock hotel and casino inside the venue where apparently fluffy took a spill it is still uncertain as to what happened here tonight we did have a chance to interview local authorities who had this to say damn  it is still uncertain if there was any problems with the stage we did speak to security who had this to comment i saw the whole damn thing okay whoo fluffy fell he fell hard i aint seen that many white people cry since a taylor swift concert it was bad it was bad and in miami are you kidding me he hurt more cubans than castro  and thats how you get canceled so uh thats the point im trying to make here i made the news recently uh without giving too much away theres an episode of family feud coming out very soon that im gonna be on yeahit is the celebrity edition so its fluffy and fluffys family versus fat joe  and his family so yeah its fat joe versus fluffy because apparently the producers have a great sense of humor  long story short i flew in some family from the east coast to be on the show the show went over very well youll find out who wins later heres the deal the next day my sister who was one of the people i flew in she hadnt been in california in forever and she was like can we go to disneyland and im like sure lets go so it was her and her husband gordy and i took them to disney and we get on a couple of rides and just so were clear thats not what made the news  i said that last night someone was like cause he fit nosome people right yeah we get on the cars ride at california adventure and halfway through the cars ride the car  stops on the track and my sister looked at me she goes is this supposed to happen i go no the check cleared were supposed to finish this is uh we paid its supposed to work no this it took the disney people about  minutes to come get us and take us out of the car so were sitting there outside in the sun for  minutes i had no problem with that because i am mocha im okay in the sun for  minutes my sister shes twice as dark as me shes like freaking you know apache shes you know freaking azteca  just you know her husband on the other hand hes from minnesota  he almost diedoh don cha know yeah so while were sitting there in the car waiting for the disney people to come take us out of the car the people waiting in line realize that the ride has been shut down and so from the ride you can see the line people see the car on the track and then they see whos in the car  and all of a sudden cell phones start comin out and by the time we left disney tmz had already reported the story and you can google this okay tmz reported the story before we left the park it said fluffy stuck on la freeway at disney  i thought it was cute i thought it was silly i thought it was funny i thought it was okay until i read the comments  oh some of you are dicks  one lady wrote just cause youre tall enough to ride doesnt mean youre small enough to fita guy wrote the car got tired  another guy wrote youre mexican couldnt you fix it  and that was martin yeah so   anyway so the time before that we made world news some of you might remember this story the guys and i were involved in an emergency landing situation i had uh chartered a private jet because my last netflix special the money finally hit my account and i you know freakin i thought i was yknow ballin right nope turns out we were fallin worst turbulence we have ever experienced in  years of being comedians uh worst turbulence i ever felt for sure at one point the jet did this i did this the scariest part was watching my dogs leave the seat fortunately we landed safely we were okay thats not what made the news what made the news is that when we came in for the landing the jet touched down and then it skid off the runway by  yards and we ended up in a field a field a field are you kidding me as hard as i work   to break stereotypes  a bunch of mexicans ended up in a field yeah thats what happenedthats how tmz reported it mexicans found in field  in the movies the pilots are always the first to know when theres an issue and in the movies the pilots always have the courtesy of telling the passengers they love to hear themselves talk they get on the mic all right its your captain speaking here i just want to let you know well be experiencing rough air if you could just fasten your seatbelts were gonna be aokay all right  you know if it gets bumpy you know   its your captain speaking somebody just had a little mexican food here so we were feeling a little bumpy up here we just had some fast food just a reminder to keep your seat belts fastened we might be getting a bit there we go just a bit there  all right ill be back with you in just a few seconds  if the planes going down brace for impact hold on tight were comin in hot our pilot nadaour pilot didnt say anything until we came to like a complete stop and then maybe like a minute later the cockpit door opened up and he stuck his head in and hes like you good  i was like my chihuahuas in a cup holder i am not good it was a scary situation you guys but let me tell you even though we were involved in an emergency landing and we thought we were gonna die im grateful for the experience believe it or not im grateful because it reminded me how valuable life is and how quickly things can changeevery now and then we need a little reminder we need to get shaken up a little to remind ourselves oh my god this is special this is important enjoy it have fun the rest of the day after the landing there was nothing anybody could tell me to ruin how good i felt to just be breathing and be alive nothing  and so thats why i uh im grateful for bad moments and i think bad moments are actually a good thing because we need balance in life you need to have bad experiences in order to truly appreciate good experiences not every day can be the same  you need to have a way to ba\\u2013 now dont get me wrong sometimes theres too many bad days in a row that shit sucks and thats actually what happened to me after the neardeath experience i go home i go home to find out that someone broke into my house  yeah yeah im like are you kidding me thats why i survived to see this shit  the only reason why you havent heard about it until now is because the detective whos working the case told me im not allowed to talk about it in californiayeah if the guys that broke into my house are here tonight  bravo  bravo thats a flex and a half no they broke into my house and of course the number one question is what did they take from your house and what they took from me honestly it was my peace of mind i didnt feel safe in that house after uh but if you must know i did everything to prevent a breakin i had first of all a good neighborhood i had an alarm i had two camera systems i had a fence that surrounded the property i thought i was good um i got video footage of the entire robberyin   oh that shit is crisp i saw the guys that broke in but i could not identify them because they were wearing masks all i can tell you about the two guys that broke into my house is that they were  years old i know they were  because when they jumped the fence and hit the ground no painif that wouldve been a  with messedup sciatica hed have thought twice about that fence so they jumped the fence went in the backyard and they broke the window and got in through the kitchen they trashed my house okay every drawer open every cabinet open everything got pulled out onto the floor so they could sift uh couches were flipped over cushions were thrown down and they pulled every single frame off the wall and i asked the detective i said hey look i understand the drawers the cabinets and even the couch thing but whats the story with the frames on the wall why did they take everything off the wall but didnt take any frames some of that stuff was art  mr iglesias you have to understand something about these people that broke into your home they were not looking for photos or art they were actually looking for a safe i said a safe  yes sir a safe a lot of times in these homes people will put a hole in the wall install a safe and then theyll hang a frame over the safe to disguise that their valuables are in there i said a safe sir yes a safe  but i just got this money  did they check the mattress   dont know  lets find out so we walk into the master bedroom i grab the edge of the bed right and i picked it up and i was like ah stupid  its all here oh my god these guys had no idea they were robbing somebody more ghetto than them  so at the end of it they only got a couple of little trinkets from the drawers um and thats pretty much it they made a mess of the house they didnt get any of the money ill tell you what they did get they got my guns  now i have never been open about the fact that i am in fact a registered gun ownerrelax florida  ive never been open about it because quite frankly its nobodys business okay however it does pertain to the story that im about to share with you um i am a recent gun owner i became a gun owner in  mkay uh yeah when we were in the middle of  it  every morning watching the news we didnt know what was gonna happen and it started to feel irresponsible not preparing myself for a worstcase situation every morning watching the news it felt like we were headed towards the purge  some of you are laughing but think about this the purge would have taken less time  yeah the purge thats how they shouldve woke us up at least for entertainment purposes   id like to thank you for your participation in the pandemic the local time is  am fear is why i decided to buy a gun i was afraid and i got no problem saying that i was scared we didnt know what was gonna happen um its only for protection i dont hunt i dont want to hunt i dont need to i know where theres three chickfilas  im good i dont go out on the weekends you know pull  theres no  i still own a nintendo i dont need that shit fear is the only reason why i decided to buy a gun so i wound up at this sporting goods store right by my house i walk in there and this place is packed full of people that normally would not have been open to the idea of owning a gun but they felt like me they were scared and rightfully so i kept hearing the same conversation over and over and over i kept hearing this i would rather have a gun and not need it than need it and not have it   and i dont care where youre from that makes a lot of sense and i was not about to let politics interfere with my personal safety so next thing you know  so next thing you know i got in line i had to get a ticket with a number like when youre at the dmv or meat market  the butcher shop the bodega number five  i got in line fortyfive minutes i waited in line and as soon as i get to the front this guy comes to the counter and hes like  how can i help you son  well um by the way i heard some of you chuckle and just so were clear im not saying that all people  who sell gunstalk like that  but his name was jim  so jim was like how can i help you son well im here to see about purchasing my first firearm well youve come to the right place know what you want or you need a hand  ive had some time to look at your selection and i think i found something thats gonna work for me  all right show me what you got okay right over here in the case this one yeah right here this one the one right here in the front this one no not that one this one this one no this one not that one this one no the one in front with the tag the tag right here the one that says twotwo   um sir did you just call that gun a tutu   yeah what ji jim right jim jim dont look at me like im crazy dude im just reading the tag it says it right here in the front it says twotwo  you mean a   well yeah i guess twotwo  same thing  son i hate to break it to you but theres a big difference between a tutu and a  but hey this is california so whatever floats your boat son all right  now is there any particular reason why you have selected a uh a tutu   well um as impressive as your selection of guns here is i recognize a lot of them from movies its a bit much for me um im very simple um this gun looks very manageable its small and you know it looks easy plus its on sale you know what i mean come on man a guns a gun right not exactly  is this not a good choice  son you want my opinion or you want to buy and be done with it  no please tell me if im making a mistake is is a a  a good gun or a bad gun  son in my personal opinion youre better off tickling him as far as im concerned  all youre gonna do is aggravate the situation youre just gonna piss him off is what im trying to tell you  well listen to my thought process my whole idea for the gun is im gonna use the gun more so like as a deterrent so if somebody breaks into the house theyre gonna see this big bald mexican holding a gun and then theyre gonna think twice and then rob my neighbors instead  son if somebody breaks into your house and they have a gun theyre gonna know youre holding a  and ill tell you whats gon happen theyre gon take it from ya  and theyre gonna beat the holy hell outta you with it right and the beating youre gon get from a  is gonna hurt a hell of a lot more than the bullets out of a  thats for damn sure  now listen i dont know you but i think i know your situation and correct me if im wrong you want to protect your home  yes  your family  yes  your valuables  yes  all right follow me i think i got just what you need right here mkay you see this right here this heres a  millimeter to startokay a  millimeter is a solid firearm two to the chest that man is going down ten out of ten  however i got this special militarygrade ammunition over here i got this here bullet its called a spreader yeah its what i used to call my ex  she was a real pistol too let me tell you thats why i had to move to california shell never find me here so this bullet when it comes out the chamber it opens up and when it hits itll leave a hole about yay big and stupid me i said this i said people survive that survive survive son you dont want em to survive you want em dead as fried chicken as far as im concerned  i said i dont want anybody to die  you dont want anybody to die you guys hear that you hear that he dont want anybody to die yeah oh yeah you know who he voted for   look here tutu youre stressin me the hell out man i wanna help you but you gotta want to help yourself so listen imma do everything in my power to get through this um imma paint a picture for you mkay youre home someone breaks into your home they have a gun you have a gun you have already told this person to leave or you will shoot and theyre not leavin matter of fact theyre doing the opposite theyre getting closer and closer and closer and closer now theyre so close you can see the whites of their eyes this individual is standing directly in front of you you can see each other this individual is prepared to do whatever it takes to leave with whatever they want including taking your life my question to you is are you prepared to do the same are you willing to protect your family your home your valuables and most importantly yourself in this situation what are you gonna do first of all bro  you should sell like life insurance man cause  youre missing your calling i felt that i felt it um if im cornered like that and i have absolutely no choice and my life is in danger i promise you jim i will step up man and i will shoot them right in the leg i will   you think youre gonna hit the leg mr firsttime gun owner  hey if i buy that bullet youre trying to sell me that covers that much up close i can hit a leg two steps closer ill shoot him in the huevos i will dude ill hit a pelota i will no more babies man  all right all right you dont gotta get graphic on me now son you know whats gonna happen if you shoot someone in your home in the leg and they live  yeah i know im gonna sleep better knowing i didnt take a life and i was able to protect my home my family and my stuff thats whats gonna happen  ah clearly youre a disney fan   thats about the biggest fantasy ive ever heard right there son i would ask you if you knew but clearly you dont so im not gonna waste my time spinnin my wheels on this one im just gonna call it like it is if you shoot someone in your home and they live they can come back and sue your ass thats right now heres the kicker theyre gonna win thats right theyre gonna win and not only are they gonna get everything they wanted to get when they first broke in when its all said and done you are gonna cut them a big fat check now what do you got to say about that i said that motherfuckers gonna diehe got excited  now were talkin i found out something that day i found out that people that sell guns are a lot like people that sell used cars they play on your emotions and then they start to upsell you and make you buy things you dont want or need he knew i was scared because he kept saying it to me  i know youre scared youre scared and your fears youre worried youre scared every time hed say scared something else appeared on the counter  he sold me so well that when he was done selling me i wound up with four rifles  and four handguns and a case a case of spreader ammunition  i hear some of you clapping and why its excessive i only have two hands  see i feel again even though my home was burglarized i feel grateful because i wasnt there and i had my dogs with me i cant replace my dogs i cant replace me  stuff is stuff however if i would have been home i would have done whatever i needed to do thats the difference in this situation theres two kinds of people one people like me had the guns had the ammo glad they werent there but if they were there they wouldve done something about it cause if i was in bed and i heard the  i wouldve jumped up  i wouldve grabbed my gun  i wouldve ran out into the living room with no shirt on and one sock offid have confronted the person freeze knowing my luck   fluffy  i said freeze  oh youre funny youre funny bro youre funny  get on the ground  oh  dont make me shoot you  ah hey  hey beto get in here get in here youll never guess whose house this is the other guy runs in  oh hey oh hey oh hey oh hey i grew up watching you  next thing you know im autographing things theyre about to take      so like i said in this situation i feel like theres two kinds of people one people like me had the guns had the ammunition glad they werent home but if they would have been home they would have done something about it thats one type of people the other kind of people are the kind of people who cannot wait for the opportunity tooh good youre here  the kind of people who cannot wait for the opportunity to confront an intruder because you know you have way more guns and ammunition than they do and you are prepared for war  the kind of people who sit home at night in the living room in the dark holding their gun they leave the front door unlocked to make it easier  and people like that always have a friend either across the street or across town how is everything over there on your side  its all clear over here how about you yeah coast is clear tenfour out there this situation the breakin left me traumatized i couldnt go back to living in the house because i didnt feel safe its just me and two chihuahuas yeah thats it im no longer with my sons mom and my son lives with his mom so you know and by the way i told my son frankie what happened about the breakin and right away right away oh really theyre lucky i wasnt there  im like c\\u00e1lmate john wick  they wouldve kidnapped you i wouldve had to pay double to get you back i could not go back to living at the house again its just me so i put the house up for sale uh yeah i just couldnt and it was a big beautiful home that you guys helped pay for thank you  it was nice real nice freaking four bathrooms four bathrooms yeah one peniseven if i ran i couldnt you know i put the house up for sale and heres the dilemma that i faced i put it up for sale before i had a new place to live because i figured im on the road im always in a tour bus a plane a hotel always somewhere im on the go i was just trying to get ahead of it because when i first bought the house it was sitting on the market for almost two years so i thought i had time what happened was it sold like that because i had two people bidding on the house at the same time and they kept driving up the price and one of the people trying to buy the house he wanted all of my furniture and so my agent for the house goes gabriel this is crazy these two guys are bidding on your house and they want to give you way more than what youre asking one of them wants to give you an extra  for all of your furniture i suggest you take it and so i did i sold the house with everything except the mattress everything the problem is i dont have a house right now i dont have anywhere to live so technically im umfuck it im homeless i dont care  ill say it ill say it im not gonna be unhoused im homeless right now they cant cancel me what are they gonna do take my house i dont have one ha  so whatever mm but no at this point at at  years of age i dont need more stuff im happy that i do have stuff but i dont need it what i want more than anything else now is better relationships better friendships better people in my life thats what i want more than anything else i announced in my last special at dodger stadium that i was no longer in a relationship and i thought that was the best place to announce that because ive been very open about my life my whole show is my life people kept asking about her so i thought that was the best place to announce that you know what happens when you tell  people at a stadium that youre single and then netflix airs that around the world i received thousands of applications for the fluffy fulfillment center yes i did   thats right netflix fluffy is hoein out  it was incredible it was exciting it was overwhelming and it was terrifying because i didnt know what they wanted um well im gonna tell you that since announcing that i was single ive gone out on a few dates and uh yeah i dont want to say how many cause i dont want your judgment  fluffys a whore  hes nasty  hes like santa with all his ho ho hos yeah i still want to go out i still want to have fun i want to make connections but unfortunately i dont trust people im afraid i can meet people really easy but then i find out what theyre up to and that sucks um my heart is guarded now super guarded theres a wall and then a wall and then a wall and a wall and a wall im like the only mexican who likes wallsso moving forward i can tell you i dont want to be in another relationship im actually doing okay i still want to go out but i dont want to be in a committed relationship i i dont no what do you mean boo the fact that im being honest about that i dont want to be in a relationship i think theres something to be said about that i could easily lie meet someone say that were boyfriendgirlfriend and have a thing but does it mean anything if your behavior doesnt change im being up front and honest all i want all i want all i want watch to the guy that booed me for saying i dont want a relationship raise your hand so i can okay youre famous soto you what is your name justinjustindustin dustin all right dustin sorry for dustin like all right chill bitch yeah yeah right freakin murica  all right dustin me not wanting to be in a traditional relationship is a honest thing because uh i can tell you i dont want to be in a situation where im obligated to participate in things that dont make me feel like a good person and at the age of  im tired of arguing yelling feeling guilted feeling obligated not smiling more  im good man i you know but i still want to go out so i just want to be up front and honest all i need dustin watch is someone to eat with  someone to drink with someone to go to movies with and someone to cuddle with  thats right and they dont even gotta be the same personall im saying is sometimes it takes a village okay dustin i would love to tell a woman hey would you like to go see a movie  yeah then we go after the movies over i go what did you think  good  right would you like to see another movie  sure when  next week  good  lets stay in touch see you next week this is gonna be so cool you like romcoms i like romcoms you like horror movies i like horror this is gonna work i like this i need this  cant wait so i say all right gotta go and she gets weird  wait wait hold on hold on you gotta go i thought this was going good  its going great well do more next week this is cool  but whats the rush where are you headed where you going  um uh im about to call the cuddler why the cuddler whats that  i got that covered okay movies thats your lane stay in it okay this is us were good solid youre the movie girl okay now dustin i didnt tell her but im gonna tell you when it comes to the department of cuddling and this is so crazy because ive always been in a relationship and i could never be this open and honest but now that im single these are fluffys flavors  so when it comes to the department of cuddling this is what i want i want a woman a woman a woman with original factory settings   this woman needs to be equal to or greater than in size she needs to be a big girl i prefer a big girli want a big girl oh yeah oh yeah this way we both can agree on the temperature of the thermostat  and only big girls know what im talkin about  see im a big boy and as a big boy i always run hot heat affects my mood when im hot dustin i become irritable cranky my anxiety goes through the roof so for me to feel comfortable i like to set the room to  degrees okay  thats right and only a big girl can truly appreciate that skinny women not so much and let me tell you i am tired of disappointing skinny cold women  skinny cold women are mean theyre mean they dont want it at freakin  degrees no they want     youre killing me no  but i cant do that to them i cant put them in  degrees they get snippy they get evil theyre like oh my god whats your problem its so cold its so cold its so cold well fuckin eat something im tired of sweating but yeah anyway dustin i apologize i wasnt trying to turn this into a ted talk  i dont want you to think that i dont believe in love because i do and anyone who can pull it off i commend you for it i have met so many couples over the years ive met  couples  couples  couples  couples i met one yeah yeah i call them unicorns ill tell you the story i was in savannah georgia and i had just finished filming the second magic mike movie now yeah i know for those of you that dont know i was in magic mike  yes i know i was the only one who didnt get naked  magic mike not tragic mike so lets remember that okay i was the only one who didnt get naked so um heres the thing after the movie after we wrapped my manager joe tells me he says dude man congratulations on another project i want to take you out for a steak dinner i said lets go so he takes me to this restaurant called ruths chris steak house now very popular chain around the country we go there we sit down and here comes the server and the servers real bubbly hey guys whats going on are we celebrating anything today actually yes we are well guess what youre not the only ones you see that couple over there that couple is celebrating  years of marriage today and were like what so we look i said how come theyre not talking   i wondered the same thing but the man made it a point to say  years i thought that was pretty impressive i go no it is so he leaves to go get us some sodas and some bread and i tell my manager i said hey joe listen imma go say hi to the couple real quick  dont get us kicked out  im not gonna  dont make it like last time  its not gonna be so i get up and i push in my chair and i make my way over to the couple now i understand how important this night is for them i know exactly how long it took to get to that point and i am not trying to mess that up but i have questions  and these two people are clearly professionals in that department so i approached the table as tactfully as i could and i said pardon the interruption it has come to my attention that we are celebrating  years of marriage and the man was so happy that someone acknowledged that he was just thrilled hes like   thats right son fiftyfive years ago today this lovely lady sittin next to me right here said i do and weve been together ever since  that is beautiful may i ask you a question  absolutely  how come youre not talking   he wants to know how come were laugh goddammitson when youve been together as long as the two of us have you mightve seen a thing or two uh uh we have children grandchildren greatgrandchildren we have traveled this great big world of ours many times over were both retired military we have seen the best in people and unfortunately when youre around and alive as long as the two of us have been uh youve unfortunately seen the worst in people as well we have had just about every type of conversation there is to have  at least twice  and after  years of marriage well hell were just trying to enjoy each others company even if its in silence i said youve had every type of conversation there is to have and i guess i triggered him because he was like look at me look at me ive been in combat nothing can faze me nothing can surprise me anymore you dont say so i took a step towards them i grab my shirt and i flash them  and then i walked away and you know what happened next they started talking  i gave that couple the greatest gift they will never ever acknowledge something new something spontaneous something outrageous something neither one of them had ever seen before i gave them a new story i promise you every year moving forward all theyre gonna talk about is what happened at   remember honey remember when that samoan flashed us  right cause im a giver i remember many many years ago before there was a venue like this to perform in the only place around here for comedians to do shows was at a comedy club right outside these doors that was part of the original layout of the casino  it was a club called the improv theres a chain all over  and you know many many years ago before all of this thats where martin and myself my buddy alfred wed go do shows at the at the club and the first time we got a chance to perform there i didnt really have a name i wasnt really established yet and i want to take this moment to acknowledge and thank one person who was super super helpful in that a man by the name of dj lazthats right people the pimp with the limp oh yeah pap\\u00e1 yeah its your boy dj laz i love him man hes great hes awesome but yeah he walks in circles he does he walks in circles nice guy dj laz was one of the first people to allow me to be on morning radio with him and he helped promote my shows not only would he allow me to go on his show and promote my shows he would come to my shows and he would bring people and hed watch and hed sit and hang out and laugh the man has a million things he can do in miami but hed come watch my show and then the next day pap\\u00e1 come on the radio with me were gonna talk about your show and he would help me sell out these shows year after year after year so laz i know youre watching pap\\u00e1 thank you this is part of you pap\\u00e1 muchas gracias thank you thank you but that was many years down the line in the beginning the first time i performed at that comedy club right outside these doors thats no longer there um im talking to the marketing person now keep in mind this is so long ago there was no social media there was no tiktok no freaking twitter no facebook none of that the only way you could promote yourself back then was you had to get on morning radio morning news have somebody do a writeup on you in the newspaper remember those yeah and then of course wordofmouth which is always the best uh they had posters at the comedy club and so the marketing guy goes gabriel help me help you help us we want to sell tickets how do you want to be promoted i said well keep in mind long time ago i said um this is how i want you to promote my show please use a photo under the photo put my name gabriel iglesias i didnt have the nickname fluffy yet thats how long ago this was i said underneath that please put as seen on comedy central because at the time that was the only television credit i had so the marketing guy goes well i was thinking what about gabriel iglesias and his amigos  amigos why amigos because i have other mexicans with me and he looked at me and said good you get it i dont like that what about gabriel iglesias and friends well we want to put a couple of buzzwords out there to let the community know what type of show it is i said what type of show is it  its a special show  i dont feel special  gabriel hear me out what about like a taco tuesday  i dont like it  okay what about salsa night  salsa night wait like dancing or chips and guac  either one i dont like it i could not believe i was having this conversation and i wanted to get upset i wanted to go off on this guy for trying to make me feel like less of a person right but i didnt because i knew that if i went off on them i would have been seen as difficult i would have been seen as a problem and i would not have been given another opportunity to come back when people ask me what do you credit for your success of course talent showing up doing what you gotta do but one word that gets left out a lot is the word sacrifice i had to sacrifice something that day and a lot of people think they know what sacrifice means but honestly until you have to make one i dont think you do i had to sacrifice my pride because as much as i wanted to go off on this guy i knew that if i did id be shooting myself in the foot i knew that if they could see what i could do on that stage theyd have to bring me back and theyd have to treat me differentso as much as it hurt as much as it sucked i allowed that stupid taco tuesday to happen so for me i was very upset i was wondering is this something that happens to all new comedians or was i being singled out it was killing me i needed to know i couldnt just take out my phone and google it because that wasnt an option all those years back so what i had to do was i had to go to the front door of the club where they had a bin and the bin had flyers in it so i grabbed the flyer and i looked at it and the flyer had the list of upcoming comedy shows and i was so upset when i saw it because all it was was pictures names and television credits no silly names no theme nights no spicy this or crazy that just comedy so i said why are they doing this stupid taco tuesday thing to me so i said let me try to find another comedian whos a little bit more in my vein if you know what i mean the only other comedian i could find was a man by the name of george lopezwith georges promo however it was just a picture name and underneath that a television credit that said as seen on abc thats it it didnt say likes to ride a donkey george lopez eats a burrito with both hands george lopez ay ay ay i just jumped the wall its george lopez no so i said why are they doing this to me so then i said all right all right let me see how they promote the black comedians and with the black comedians it was the same thing picture name television credit and thats it unless it was a show that had multiple black comedians on it because if the comedy club had a show with three or more black comics on it they would put a catchy name to it they would call the show urban night or apollo night or def jam comedy night bet comedy night blackish comedy night but thats as far as they would go they wouldnt go to the next level like they would for me oh yeah there was no margarita monday or taco tuesday or wetback wednesday or tortilla thursday or fiesta friday or s\\u00e1bado gigante no that would never happen to black people are you kidding me youll never see a malt liquor monday or tupac tuesday or watermelon wednesday or thong ththong thong thursday or fried chicken friday or sookiesookie saturday or slapaho sundayand that most definitely will not happen to white people     oh imma do the joke and you know why you can laugh and enjoy and not feel threatened by what im about to say because like what i said earlier tonight i am here to entertain i am not here to offend im here to have fun with everybody starting with me plus itll never happen youll never see a monster truck monday or trailer park tuesday or white trash wednesday or take your sister out thursday   oh hell no fluffy you done crossed the line now my name is dustin and i dont play that shitim from davie goddammit  next time stay quiet  so i was talking to martin backstage before i came out and he goes are you gonna share the story about the theme nights thing that happened at the improv here and yknow i go well yknow i think i should martin i think i should tell the story about yknow the theme nights he goes gabe can i tell you something about that theme nights bit i go tell me martin  do you realize that in all the years i have heard you tell this story about what happened at that club do you understand that youve never once finished the week  i said martin you know why that is right its the rule of comedy you always want to end on the biggest laugh thursday gets the biggest laugh which is why i stopped at thursday and martin goes i know i know i know but youre robbing white people of their week  i never looked at it that way fox news fridaystorm the capitol saturday  say youre sorry sunday  are we still havin a good time  are we still having fun  thats what im talkin about people laughing not getting upset not getting offended not freakin making a stink and let me tell you right now for the five people who have never heard of me before this is for you  i get pulled over one night two minutes after coming out of a krispy kreme drivethrough  i made a left turn instead of making a right turn but i wasnt paying attention cause i had a box right i was like oh youre gonna get it   youre gonna get it i make a wrong turn all of a sudden     later the officer is taking forever i said forget this i grab the box of donuts i put it on my lap i flipped it open i was like  mm  ah  and just as i was about to tear it up the officer gets to the window and hes like you know why i stopped you it was too easy i picked up the box and i said  cause you can smell it   fluffy fluffy fluffy fluffy fluffy fluffy fluffy fluffy fluffy fluffy fluffy fluffy fluffy fluffy    youre probably wondering why did we pause the special again well i just want to let you guys know most comedians wouldve already said thank you good night gone home cashed their netflix checks and hope they get another phone call please call me netflix  but this guy is not most comedians thats what happens when you hire a mexican we love overtime  thank you for still wanting to hear a joke thats over  years old  i grew up watching you too  got chills when i  look look   that was beautiful i love you too and that seriously you guys thank you for that thank you  thank you there are fans and then theres what you just did right now  i dont know any other comedian that gets this type of love and loyalty thank you so much im not getting off the stage yet cause i still got more to go but i want to say thank you for that  thank you  whoo so when i started doing standup in  the only place that would allow me to go up on stage and do what i do were bars dive bars rough bars uh martin and i thats where we met many many years ago were performing at this bar in montebello california and uh you had to fight with the crowd you had to fight because there was noise there were tvs on people were drinking smoking people were doing everything in there but paying attention so you had to come out quick trying to get them to laugh and one night this comedian pulls me aside and he goes hey kid and when he called me kid i got upset im like i could drinki was   years old and you know even though i thought i was grown i wasnt i wasnt grown uh i got upset that he pulled me aside he goes can i give you some advice im like who does this guy think he is im funnier than him thats what i thought because at the age of  i was a punk i really was and so i dont know what got into me where i said sure ill hear you out and i just stood there and he said listen um youre really likeable on stage and thats rare im gonna give you a bit of advice if you cut all the cussing out of your show and start taking the filthy material out i think youre gonna have a long career ahead of you and i know i said take the cussing out and i i said the fword twice tonight  technically no three times i said it three times um but im mindful of it im keeping count its not every other word plus were in a casino  okay no one loses their ass and says aw shucks noi heard some of you cussing before when the fuck is this gonna start yeah i heard you i heard you  im fat not deaf  i heard you goddammit so anyway he gives me this advice cut the cussing out of your show take out the filthy material and i dont know why i listen but i did and he was absolutely right all of a sudden i started getting opportunities left and right i started getting booked at colleges high schools churches fairs and then the big one casinos   back in the day you had to be squeakyclean to perform at a casino uh but thats not the case anymore if you can sell tickets it doesnt matter what you do they want to book you but back in the day there was only a few people who could pull it off i was fortunate to be one of those people so i remember i got booked to perform at a casino called morongo in southern california and im backstage with the booker the lady that hired me for the function and she goes so no cussing right i go no no cussing  no filthy material  no filthy material  good luck and it was just me i didnt have openers it was just me it was a voiceover on the frickin speaker right ladies and gentlemen please welcome comedian funny man gabriel iglesias and then i just i walked out there right i offended the entire audience  in five seconds and i did it without cussing frickin  kid goes up on stage looks at the crowd and says hey everybody is this a regular casino or is this an indian casino  you see how you all knowi didnt know i didnt know because i didnt have tiktok to teach me  what i did have was a life experience that ill never forget as soon as i said that the entire front row which comprised of the tribal members from the casino they all stood up and one of them called me out in front of the entire audience hey hey you dont say that anymore the proper term is native american please show respect and i was like oh my god im so sorry i didnt know and i felt horrible and i was so embarrassed fortunately i had a second show at ten oclock ten oclock hits i take the stage i didnt need to be told a thousand times that i messed up that one time of me getting shamed in front of the entire audience was all i needed thats why im a firm believer in shaming  i think shaming is good shaming is good as long as you shame with purpose if youre about to teach someone a valuable lesson i say go for it because it worked for me i got shamed one time second show ten oclock i took the stage ooh it was different i was like before i get started ladies and gentlemen id like to take this opportunity to thank all of the native americans who are here tonight thank you for this opportunity to perform in your casino i hope you enjoy the performance  i thought i was good all of a sudden another tribal member in the back jumped up and hes like hey drop the american just say native kay  that stayed with me that was powerful that was scary next time i did a casino first thing i said was i would like to acknowledge all of the natives who are here tonight and then someone yelled out were indigenous fuck me thats four   with time i got a chance to perform all across the united states and then i get my firstever show in canada ironically enough at a casino  its a casino we still perform at called caesars in the city of windsor ontario right across the water from detroit michigan  i come to find out the hard way that in canada it is a completely different term for describing the people  originally from that land the proper term in canada is actually first nation i didnt know that i was so nervous being in canada i said native american  like hello im not even in america right frickin stupid right pendejo i know  fortunately someone pulled me to the side and they told me what was up i was lucky that i had a second show ten oclock i take the stage and im like before i begin i would like to acknowledge all of the first nation people who are here tonight then some guy yells out call us indians  this guy in the front row was like  theyre not indian they are not indian  canada has always been an adventure there was one show that we did at the same casino anytime now we perform outside of the united states even if its next door in canada or mexico martins first question to the audience is do we have any americans in the house tonight because no matter where we perform in the world theres always a handful so that night martin takes the stage and he asked the question do we have any americans here tonight not knowing that earlier in the day at that same casino in the grand ballroom there was a a endofyear holiday party from an american company from right across the water in detroit and they were having this endofyear celebration and they were there pregaming since noon  partying it up and i guess the the party planner for the event thought it would be an amazing idea to end their party with laughter so this person bought all of the tickets to my show that night and gave them to that company well seven oclock rolls around and everybody stumbles in takes their seats and then martin walks out and he asked the question do we have any americans and instead of getting a yay whoo right here he got  they were so drunk they started chanting usa usa usa usa im in the dressing room hearing this im like why are we herewe could have done this in detroit you know i had to fill out paperwork im like this is not cool so during intermission martin comes backstage and he tells me bro i dont know if you heard  oh i heard  might wanna mention it i go oh i will so at some point during my performance i told the audience so a little bird told me there might be a couple of americans here tonight is that true sure enough  and they started doing it again  usa usa usa then it got quiet and you could hear murica  i said ladies and gentlemen do you understand what just happened we just made history and people in the front row theyre like what are you talking about history i said we just made history who would have ever thought youd see the day where thousands upon thousands upon thousands upon thousands of americans would cross a borderto see a mexicanthank you for  years of supporting this mexican miami i love you so much many thanks have a good night thank you\\u266a i was down but now im up \\u266a \\u266a this all god this aint no luck \\u266a fluffy fluffy fluffy fluffy fluffy fluffy fluffy fluffy fluffy fluffy\\u266a up up up up aye \\u266a \\u266a i was down but now im \\u266a \\u266a up like my name lazarus know satan gon be mad at this \\u266a \\u266a i had to ask my dad if its okay to swing my bat at this \\u266a \\u266a he said boy if i pitch it its out of the park \\u266a \\u266a moving so quick its like they stuck in park \\u266a \\u266a they see the numbers but i see the heart \\u266a \\u266a ten thousand hours he spent in the dark \\u266a \\u266a puttin in good work even though he didnt know it would work \\u266a \\u266a talk about a man who grew up in woodwork \\u266a \\u266a do it for the love thats the way it should work \\u266a \\u266a yeah yeah \\u266a \\u266a i know some people gon look at me crazy and im like for what \\u266a \\u266a yeah i was stuck i was down but now im up yeah \\u266a \\u266a this all god this aint no luck yeah \\u266a \\u266a i used to be stuck in that mud yeah \\u266a \\u266a yeah i was down but now im up up up up up \\u266a \\u266a i was down but now im down now im up like a seesaw \\u266a \\u266a when im on the beat like an old mans lawn keep off \\u266a \\u266a from the ground to the treetops \\u266a \\u266a got clouds on my feet like jack and the beanstalk \\u266a \\u266a jumped off quick went straight into freefall \\u266a \\u266a cowboy hat and a mic singing yeehaw \\u266a \\u266a landed on my feet like a feline \\u266a \\u266a put em back in the seat like a recline aye \\u266a \\u266a what im not worthy did it with a purpose \\u266a \\u266a didnt need a permit \\u266a \\u266a digging from bottom brought it to the surface \\u266a \\u266a mind your business now who i worship who the little guy making big moves \\u266a \\u266a tiktok turn into a tickticktick boom yeah i talk a lot of stuff \\u266a \\u266a prolly thought it was a bluff till i went and turned it where \\u266a \\u266a i was down but now im up up lets go yeah \\u266a \\u266a this all god this aint no luck yeah i used to be stuck in that mud \\u266a \\u266a yeah \\u266a \\u266a yeah i was down but now im up up up up up \\u266a\\u266a i was down but now im up \\u266amoregabriel iglesias standup transcripts share this article           leave a comment cancel replyyour email address will not be published required fields are marked type herenameemailwebsite current yer leave this field empty read more \\t\\t\\t\\tiliza shlesinger a different animal   transcript\\t\\t\\tshlesingers new prime video special filmed in salt lake city delivers raw highenergy comedy tackling relationships gender dynamics and taboo topics with her signature unfiltered style\\t\\t\\t\\tari shaffir americas sweetheart   transcript\\t\\t\\tcomedian ari shaffir tackles controversial topics like terrorism gun violence racism and more in his standup special with a darkly humorous approach he explores unexpected perspectives on sensitive social and political issues\\t\\t\\t\\tbill maher is anyone else seeing this \\t\\t\\tbill mahers special critiques woke culture political extremes and societal absurdities with sharp humor urging open dialogue amid polarizing times\\t\\t\\t\\tmichelle buteau a buteauful mind at radio city music hall   transcript\\t\\t\\tmichelle buteaus latest special falls flat with humor that feels strained and moments that drag where they should sparkle the material lacks the sharpness and movies movie reviews movie transcripts stanley kubrick sergio leone pauline kaelcomedy standup transcriptsgeorge carlin dave chappelletv series tv show transcriptsblog interviews playboy interviewsmusic books history about privacy policycookies terms of use contact usdiscover our weekly newsletter enter your email i accept the privacy policyfacebook  instagram \\u00a9  scraps from the loft all rights reserved weekly magazine get the best articles once a week directly to your inbox enter your email  \",\n          \" louis ck oh my god   transcript  scraps from the loft \\t\\tskip to content \\t\\t\\t\\t\\t\\tsearch\\t\\t\\t\\t\\t  moviesmovie reviewsmovie transcriptstv seriestv show transcriptscomedystandup comedy transcriptsgeorge carlindave chappelleinterviewsplayboy interviewsmusichistorybooksopinions  moviesmovie reviewsmovie transcriptstv seriestv show transcriptscomedystandup comedy transcriptsgeorge carlindave chappelleinterviewsplayboy interviewsmusichistorybooksopinions comedy louis ck oh my god   transcript may   \\t\\t\\t\\t\\toh my god is the fifth comedy special performed by louis ck it premiered on hbo on april   filmed in phoenix arizona at the celebrity theatre\\t\\t\\t\\t introfade the music out lets roll hold there lights do the lights thank you thank you very much i appreciate that i dont necessarily agree with you but i appreciate very much well this is a nice place this is easily the nicest place for many miles in every direction thats how you compliment a building and shit on a town with one sentence it is odd around here as i was driving here there doesnt seem to be any difference between the sidewalk and the street for pedestrians here people just kind of walk in the middle of the road i love traveling and seeing all the different parts of the country i live in new york i live in a\\u2013 theres no value to your doing that at allthe old lady and the dogi live\\u2013 i live in new york i always\\u2013 like theres this old lady in my neighborhood and shes always walking her dog shes always just\\u2013 shes very old she just stands there just being old and the dog just fights gravity every day just\\u2013 the two of them its really\\u2013 the dogs got a cloudy eye and shes got a cloudy eye and they just stand there looking at the street in two dimensions together and\\u2013 and shes always wearing like this old sweater dress i guess it was a sweater when she was like  but now its just like this sweater and her legs are\\u2013 her legs are a nightmare theyre just white with green streaks and bones sticking out her legs are awful i saw a guy with no legs wheeling by and he was like yecch no thank you i do not want those id rather just have air down here like i have than to look down at that shit i see these two all the time and i always look at them and i always think god i hope she dies first i do i hope she dies first for her sake because i dont want her to lose the dog i dont think shell be able to handle it if she dies\\u2013 if the old lady dies first im not worried about the dog because the dog doesnt even know about the old lady this dog is aware of three inches around his head hes living in twosecond increments the second hes in and the one he just left is all he knows about but if he dies this lady shes gonna be destroyed because this dog is all she has and i know hes all she has because she has him theres no\\u2013 if she had one person in her life she would not keep this piece of shit little dog even if just some young woman in her building one morning were to say good morning gladys shed be like good and just flush him down the toilet just\\u2013 poom poom the dog just keeps bumping on the drain poom  she gives up ends up just shitting on her dog for the rest of her life ppp poommy daughter likes fishyou ever flush a pet down the toilet i had to flush my daughters fish down the toilet i came home the fish was dead she wasnt home from school yet so i just flushed the fish and thats a weird moment too cause fish live in water so you put it in the toilet floats to the bottom like yeah hes dead and then you flush and it looks like he goes wait a second aw shit i was taking a nap jesus you gotta be in constant motion to get any respect in this house and then my daughter comes home why did he die da\\u2013 come on what am i gonna say why did he die because who gives a shit thats the reason thats the actual reason is because didnt matter that he was alive thats why hes dead he didnt know his name and he didnt love you back these are the facts about that fishs life my daughter likes fish we took her to the aquarium i took both my kids to the aquarium in boston and we were looking at this seal or sea lion i dont know which one i dont care i dont think they need to be separate things i really dont they dont care and we dont care theres like three scientists who give a shit what we call all those things the scientists could go on tv tomorrow and say ok everybody from now on seals and sea lions and walruses and\\u2013you know what\\u2013penguins are all seals now and we would all be like yeah all right fine yes whatever man anyway so were looking at this sealsea lion thing and hes looking back at us through the plexiglas and hes going\\u2013 theyre really disgusting in person most animals are when you really see them you ever go to a farm you think youre gonna see little white sheep going baa but theyre all fat and shitcolored and theyre like\\u2013 jesus that thing is awful anyway seals dont go\\u2013 they go\\u2013 my daughters like what is he saying i dont know im a slave kill methe food chainmust be awful to be other kinds of stuff you know im glad im this this is a pretty good deal when you consider the alternatives anything else any other kind of thing youre in the food chain youre in the food\\u2013 we are out of the food chain i dont know if we fully appreciate the fact that we got out of the food chain that is a massive upgrade because for every other living thing life ends by being eaten thats how all life ends is\\u2013 every single life except human life every life ends like this aah aah aah were the only ones that get to just die old in a bed just i love you bye i mean imagine if we were still in the food chain on top of everything else imagine if we were in the food chain it would just be another thing you gotta deal with youre already having a bad day you wake in up in the morning youre making breakfast you burn your toast and its too late to try again and your kid comes in and says beh and youre like fine and its just why you get a thing in the mail that says that your phones different and your mortgage is another company now what i dont get it then youre walking to work like why do i even bother shit goddamn it theres always fucking cheetahs at the train station stop it you think that sharks\\u2013 do you think that sharks would be embarrassed if they knew that we could all see their fins sticking out the top of the water i think theyd be bummed cause i dont think sharks are aware of that at all i think sharks think theyre slick they swim around like hey nobody has any idea whats down here and were all up here like theres totally a shark right there it wouldnt be fun being a predator either if youre a predator imagine if every time youre hungry you gotta chase a guy whos running for his life you gotta\\u2013 come on dude shit get over here and just hold him down and bite his neck till he shuts the fuck up for a minute so you can just sit there and eat his stomach before you go to work that would really suck thats why animals just\\u2013 they go lets do this together man you chase the parents away i am gonna eat the kid and you circle back thats why they do it like that fuck it im eating babies this is bullshit grownups aint worth the meat whoops all right all right shit goddamn it idiot this isnt a gay voice by the way its not shut up yeahcourtyard confrontationi live in new york city and its ok there i live in a nice building i never lived in a nice place before when i was growing up i had no money i mean my mom didnt didnt matter i was a child but im not used to it cause its nice theres like a pretty courtyard with flowers and a fountain with little marble boys pissing i dont know what is it with fountains like all fountain sculptors are pedophiles basically you cant get a fountain made without\\u2013 can you make me a fountain yes ill get started right away yes yes its finished and its just little boys pissing on the face of a greek god that looks like him a lot just piss on me forever anyway theres one of those in the courtyard of my building and my first week in the building about a year ago i went down to the courtyard for the first time and i didnt look too good you know it was a sunday morning thats my least presentable hour theres a lot of you know just stains just like you know food and me and whatever and so im sitting there so shut up ha ha ha anyway but so there i was im sitting on the stone bench of this courtyard and feeling a little out of place you know theres these fancy doormen and stuff and then theres this guy looking at me i notice hes looking at me from across the courtyard and hes all spiffylooking hes got brown shoes and hes looking at me like  i can tell he was thinking i dont live in the building he thinks i just wandered in off the streets and sat in the courtyard i can tell hes thinking of coming over and dealing with me on his own and im sitting there thinking like please do that yes please come on come on come on come on come on and im trying to look even more gross and im like pulling up my shirt  and then i see him go no thats not gonna do at all and he comes over to me  and im like num num num im so excited to have this thing a confrontation where im not wrong at all and he thinks i am rrgh so he comes over says excuse me do you live in this building and i said no cause why not start there i said no he goes well then what are you doing here and i said i just need to rest im having a hard time he says this is private property and i said well i dont really believe in that you know just the worst things i could say from his point of view is basically all the things i was saying and he goes well if you dont leave im gonna talk to the doorman i was like can i just stay like five more hours so hes\\u2013no and he goes over to the doorman and i see him talking about me to the doorman like this and then i see the doorman going no that guy lives here its ok and the look on his face\\u2013 mwah mwah num num\\u2013 it was just so\\u2013 it was this beautiful cocktail of anger and confusion its like i had invented a new way to hurt somebodys feelings thats how excited i wasgetting what old isim  now so im either halfway through a healthy life or almost done with a notsohealthy life i dont know which one i wont know till its over where this was i dont know how long im gonna live i dont know nobody knows i guess i think human life expectancy is pretty good we get a good run you know some people die early you know if i die now people will be like thats too bad if i die five years from now theyll be like well all right like its not even\\u2013 its\\u2013 like as soon as youre  youre a candidate you know theres no candlelight vigils for  guys that die and you start pushing\\u2013 you know some people get to be like   you know there are people that get to like  and then theyre in the news and its always some old guy i met napoleon no you didnt you liar you oldest liar in the world but  you know youre not old yet but you start having moments where you kind of start getting what old is especially if you didnt take care of yourself you know i have moments where im like wow this seems early for this like this is something that happens to me a lot ill be sitting watching tv or doing nothing and all of a sudden ill realize i need to wipe my ass right now i mean nothing happened but i really gotta wipe my ass right now right now gotta make trips to the bathroom just to wipe my ass how does this happen already im  already my assholes just like just\\u2013  my asshole\\u2013 my assholes like the waistband on old pajama bottoms just kinda loose and ineffectual my assholes like a bag of leaves that nobody tied up its just sitting on the lawn full and open puking leaves onto the grass with every wisp of wind some kid kicks it over on his way home from a tough day at middle school rats thats a pretty accurate description of my asshole heres another thing about my age right now if im\\u2013 ok say im sitting down if im sitting anywhere which\\u2013ha ha ha\\u2013 i love sitting so much\\u2013 i would take sitting and doing nothing to standing and fucking any day this is way better than coming this is way better this is what\\u2013 at my age if im sitting down and somebody tells me i need to get up and go to another room i need to be told all the information why first you gotta explain all that shit to me what why do i\\u2013 no why though your car is being towed right now well thats what happens to me then thats\\u2013 i accept that cause getting up is a whole thing it means first i have to decide do i really want to be alive anymore like lets start with that and then i gotta  start kind of rocking to get momentum  like im trying to get an old honda out of a snow bank shitputting on socksthe worst part of my day worst part of every day of my life is when i have to put on my socks putting on my socks is the worst part of every day and it always will be even if i have a terrible day in the future where my grandmother is murdered by my other grandmother if that ever happened to me the worst part of that day will be when i put on my socks because\\u2013 putting on my socks that means i have to\\u2013 heres what i have to do i have to get my hands past my pointed toe i dont even know how i do it im sitting here i dont know how i do that its cause you have to\\u2013 its like folding a bowling ball in half soon as i start i can feel\\u2013 im pushing all the fat up into my vital organs and i just feel all the systems failing beep beep beep and i have to like lay on my back like an eightyearold and go like this and i start passing out and i know other peoples lives are hard ha ha ha i know i saw an interview on tv with michael j fox and he has parkinsons and he was describing brushing his teeth and he said it takes him two hours a day and he said its agony and i saw this and i thought ok thats hard that is hard and so is putting on my socks sorry michael doesnt make it easier to know about your thing tell you what ill help you brush your teeth you help me with the socksif youre older youre smarteri dont know i like getting older though life is an education and if youre older youre smarter i just believe that if youre in an argument with somebody and theyre older than you you should listen to them it doesnt mean theyre right it means that even if theyre wrong their wrongness is rooted in more information than you have theyve been there longer if youre older youre smarter how many people here by applause are  or older  or older applaud ok thats about  people out of  heres the interesting thing theres way more i can see you theres so many more this is arizona there are way more people in that demographic but they didnt clap why cause theyre smart theyre sitting in the dark going i dont have to clap i dont have to do anything theyre not doing it and theyre right you know why cause never identify yourself never are you crazy you dont know why im asking how do you know what\\u2013 ok burn them all burn everybody over  how do you know im not gonna do that how many people here by applause are  or younger  or younger applaud thats every time whoo whoo every time that is a weird thing to celebrate in a room where youre not the only people here thats like going to a cancer ward\\u2013 not me whoo i dont have it i dont have it if youre older youre smarter a  garbage man is a million times smarter than a  with three phds especially smarter than him cause this idiot has been thinking about three things for like  years hes worthless the garbage man is  hes had some experience things have happened to him he went to cape cod one summer he saw a dead guy floating in the motel pool he took a bus to montreal he got a hand job at a fair from a miner i mean a miner not a minor a miner you understand a miner a grown man who works in a mine with dirty hands jacked him off at a county fair thats what im saying happened to the  you see hes had some experience he knows more more has happened to him hes seen more hes seen history hes witnessed history even if its not ancient history he saw nixon resign on live television me and those few people that clapped we saw the president of america cry and then quit being the president that shit was crazy cause none of us knew what was gonna happen next today people are like the presidents kind of disappointing really our president wept like an insane person and then got on a helicopter and flew away and the whole nation just watched him gogetting older makes my life betteri like getting older though because for me the kind of guy i am getting older makes my life better you know like my sex life way better at  look cause this situation is ok at  this is not a fun kind of a  to be and some people their life is better when theyre younger you know young dudes young skinny dudes best life in the world is being a young skinny dude they dont have to do anything they just show up with a big adams apple and a smelly tshirt hey im here for the easy pussy for the rest of my life so where do i\\u2013 everywhere ok cool but for guys like me this is not a fun youth it gets better id like to make one of those it gets better ads for just dumpy young guys we could use a little help a little encouragement just somebody on tv listen man i know its tough right now youre vaguely heavy with no face you have zero value on the sexual marketplace you feel invisible to the girls in school because you are but it gets better because youll all grow up and you pretty much look just like this your whole life and they dont their options start running out really fast and youre gonna be there as long as you stay relatively employed and washed youre gonna be amazing in your  youre gonna be\\u2013 youre gonna be the branch that she can grab before she hits the ground its gonna be so great it just takes time for her circumstances to match your looks but its gonna happen its gonna happen when real shit matters youre gonna be the sexiest motherfucker in the world its just time thats all it takes theres a formula to this its pussy plus time over income squaredeverybody has their timeeverybody has their time everybody has their time i mean not everybody there are people out there who theres just nobody for them yep people like to say things like theres someone for everyone nope not at all true and stop saying it cause its mean to people who never find anybody there are millions of people out there who weve all unanimously decided they are light speed ugly and nobody kisses them on the lips even nobody touches their genitals their entire life they just wash it and then they die thats all that happens aww and if youre feeling bad for them you can go find one and fuck one tomorrow you can just solve the problem right there with all that kindness in your heart aww well go fuck one nah i didnt think so thats the one way were all mean nobody does that nobody fucks down nobody people fuck up or across some women fuck down because a guy talked them into that it was up some guy yeah no you should im totally up yeahdating takes courageits a weird selection process that we have dating really is\\u2013 its how we evolve is dating its how we choose each other and dating is a real drag for a lot of people but i always think its a nice thing you know when i see a date im always happy when i see a couple on a date cause it means people are still trying you know you see a couple on a date it means theres still courage out there that takes courage to go on a date for both sides two very different kinds of courage the male courage traditionally speaking is that he decided to ask he went up to a random woman who he has no idea if shes gonna like him or not and he walked up to her terrified everything in your body is telling you just go the fuck home and jerk off dont do this but he walked up and said hi yes and shes like  no no no a second give me a second and you try to get through this membrane of you know\\u2013 and then if it works and you say you wanna go out sometime sometimes shell say yes and if she says yes thats her courage and the courage it takes for a woman to say yes is beyond anything i can imagine a woman saying yes to a date with a man is literally insane and illadvised and the whole species existence counts on them doing it and i dont know how they\\u2013 how do women still go out with guys when you consider the fact that there is no greater threat to women than men were the numberone threat to women globally and historically were the numberone cause of injury and mayhem to women were the worst thing that ever happens to them thats true you know what our numberone threat is heart disease thats the whole thing thats it just our own heart going dude i cant\\u2013 you cant keep doing this i told you three strokes ago that this is not smart but women still\\u2013 yeah ill go out with you alone at night what are you nuts ill get in your car with you with my little shoulders hi where are we going to your death statistically how do they still do it if youre a guy try to imagine that you could only date a halfbear halflion and youre like i hope this ones nice i hope he doesnt do what hes going to dofirst datei always\\u2013 i love when i see a date you know when you see a date you can tell its the first date cause of the way theyre walking together and shes looking up at his face trying to figure him out and hes just a mess a guy on a first date just has no actual personality hes just a mishmash of different kinds of dudes for a couple of seconds each just anything no cohesive\\u2013 just like a ransom note cut out of a lot of magazines just you know well ha ha well yes i think so too ha ha rrgh whatever just like a blind dick in space just thrusting in infinite directions hoping to find pay dirt at someplace and then sometimes you see a date thats later down the line and something has happened theres something that happens in a date that i never get to witness cause women do this they get to do it inside they get to just decide quietly im gonna let him fuck me they just get to decide something he says and shes like that was good hes gonna fuck me later and he has no idea hes still like trying all this shit he still has no idea hes already in theretitsguys are\\u2013 we love women a lot\\u2013 all men do\\u2013 and we just look at you thats what i do i just look at women i just\\u2013 like theyre you know cakes in windows i just\\u2013 i was walking in new york once and theres these two very cute women walking behind me and i was trying to walk slowly so i could hear what they were saying to each other you know cause they were cute so i wanted to hear them like thats gonna help me in any way to hear their\\u2013 dont you wish the guy walking in front of us would squeeze our tits for like one second ok here here i go thank you its really a flaw in men that we would all do that if youre a woman you could ask any guy on planet earth could you squeeze my tit for one second and  of us will go yes of course that doesnt matter i could be doing open heart surgery yeah ok beep dont worry hes not your tits dont worry about it i dont know why we love tits so much some people say its because we breastfeed but so do women or you know baby women not grownup women dont usually\\u2013 you dont see like a  woman like a stately look\\u2013 you know like sigourney weaver like sucking milk out of a young womans tit thank you deborah ill see you tomorrow at  its not usually the thing is the elderly breastfeeding from the young except for at the end of the grapes of wrath which i dont mean to ruin that book for you but you should have read it by now i dont know if you read the grapes of wrath but thats how it ends with an old dying man sucking milk out of a young girls tits and then the book is over and youre like jesus what happened at the end there thats crazy theres no other book in that genre theres no dense historic classic that ends with a weird porny paragraph at the very\\u2013 and then anna karenina shat on his chest holy moly with that the end my god that is a violent shift in tone at the end of that book ive been reading this book for three months but we do we love tits and you always know a tit you always know a tit you know like you ever been in a crowded place\\u2013 like a subway or like you know a sports stadium\\u2013 and youre smooshed in with other people and your elbow touches a tit behind you youre like thats a tit i just touched it i know that was a tit i know it because the sensitivity of the male elbow to tit flesh specifically is unbelievable just to tits cause you could drive a tack in there im not gonna feel it but a tit\\u2013 through a shirt and a sweater and a jacket and her jacket sweater shirt and bra somehow its a tit i touched a tit i touched a tit i touched one tit one tit thats rare to touch one tit its like a fourleaf clover usually you touch two the only time you touch one tit is when it was an accident or you didnt have permission but otherwise when tit access is granted its usually good for two tits at a time its once youre on one\\u2013 you really have to screw up really badly and quickly to lose tit access between tits one and two you must have said something really dumb on the first tit that you didnt get the second one yeah its like your moms dirty whore tit why what i said i liked it thats what i meant is that i like it i like your moms dirty whore tit and i like yours and if its up to the guy were gonna touch both tits no guy touches a tit and then goes you know what im good with the one thats fine for me everything in moderation were gonna touch both even if something terrible happens in the middle of\\u2013 yeah\\u2013 theres a bomb shit come on lets get\\u2013 come on lets get your tits out of heredivorceive seen a few tits ive seen\\u2013i dont know\\u2013  maybe i dont know i had my history in my life you know ive been divorced for five years and its been the best part of my life being divorced easily my favorite part of my life i love being divorced every year has been better than the last that is the only time i can say that about and by the way im not saying dont get married if you meet somebody fall in love and get married and then get divorced because thats the best part its the best part marriage is just like a larva stage for true happiness which is divorce because you just let go and everythings fine now divorce is forever it really actually is marriage is for how long you can hack it but divorce just gets stronger like a piece of oak nobody ever says  my divorce is falling apart its over i cant take it and again if youre in a good marriage stay in it if youre in the best marriage ever stay in it im just saying if you got out it would be better thats just a fact im sorry im sorry but its true everythings better my exwife and i this is the best part of our knowing each other were good coparents because we live apart and were friends our kids go to her half the week they come to me half the week and im a good father im an attentive focused and responsible father do you know why cause i get to say goodbye to these kids every week are you shitting me its like every parents fantasy who cant be a good father for half of every week no matter how bad it gets every wednesday i get to go goodbye girls daddys gonna go upstairs and pour whiskey all over his naked body right now im gonna lay in my own filth until two seconds before you come back here thats why im such a good dadvideoing your kidsmy daughter was having a dance thing at her school they had this big dance anyway we all went all the parents and everybodys there and everybodys got their phone every single parent it was an amazing thing to watch cause kids are dancing and every parent is standing there like this every single person was blocking their vision of their actual child with their phone and the kids\\u2013 i went over by the stage and the kids\\u2013 theres people holding ipads in front of their faces it looked like were all in the witness protection program like the kids cant see their parents and everybodys watching a shitty movie of something thats happening ten feet\\u2013 like look at your fucking kid the resolution on the kid is unbelievable if you just look its totally hd why are you taping this youre never gonna watch it in a million years youre not gonna watch videos of your kids doing shit you missed the first time it happened you dont watch it you just put it on facebook here you watch it i wanna take a nap now and then you get to read all the comments my god its so cute ngaah and guess what theyre not watching it either theyre not watching the video these kids are dancing for no one nobody watches the videos on your facebook they see the first frame of a kid and they go thats very nice ok back to this nobodys watching your kids videos on facebook i promise you ill prove it to you next time you tape your kids dance tape one second of it and then add  minutes of just your own asshole just go in the bathroom and just record your own anus opening and closing for  minutes tack it onto your kid dancing for a second put that on facebook everybody will write the same thing thats adorable i think i see a future starlife is a good dealdont tape shit on your\\u2013 life is short life is very short i like life i like it i feel like even if it ends up being short i got lucky to have it cause life is an amazing gift when you think about what you get with a basic life not even a particularly lucky life or a healthy life if you have a life thats an ama\\u2013 heres your boilerplate deal with life this is basic cable what you get when you get life you get to be on earth first of all\\u2013my god\\u2013 what a location this is earth and for trillions of miles in every direction it fucking sucks so bad its so shitty that your eyes bolt out of your head cause it sucks so bad you get to be on earth and look at shit as long as youre not blind or whatever it is you get to be here you get to eat food you get to put bacon in your mouth i mean when you have bacon in your mouth it doesnt matter whos president or anything you just\\u2013 every time im eating bacon i think i could die right now and i mean it thats how good life is you get to\\u2013 you get to fuck thats free if youre smart that comes with thats part of the deal where else are you gonna get that deal you get to put your dick in there and go in and out pretty good and if youre a woman you get to just lay back and just have a dick just shoving in and out of you awkwardly anytime you want anytime you want if youre a gay man you get to just fill your boyfriends ass with your dick just fill it all the way to the balls and its nice and warm and tight in there and hes your buddy if youre a lesbian you get to do all the stuff theyre doing and its a great deal you get to eat you get to fuck you get to read to kill a mockingbird its a great life so you know im not worried about it endingbehind the wheelits pretty good and ive wasted a lot of time just being angry at people i dont know you know its amazing how nasty we can get as people depending on the situation like most people are ok as long as theyre ok but if you put people in certain contexts they just change like when im in my car i have a different set of values i am the worst person i can be when im behind the wheel which is when im at my most dangerous when youre driving thats when you need to be the most compassionate and responsible of any other time in your life cause you are fucking driving a weapon amongst weapons and yet its the worst people get and i am the worst one time i was driving and there was a guy ahead of me and he kind of\\u2013i dont know\\u2013 sorta drifted into my lane for a second and this came out of my mouth i said worthless piece of shit i mean what an indictment what kind of a way is that to feel about another human being worthless piece of shit thats somebodys son and things ive said to other people i was once driving and some guy in a pickup truck did\\u2013 i dont remember even\\u2013 and i yelled out my window i said hey fuck you where outside of a car is that even nearly ok if you were in an elevator and you were like right next to a persons body and whatever like he leaned into you a little bit would you ever turn right to their face and go hey fuck you worthless piece of shit no literally zero people would ever do that but put a couple of pieces of glass and some road between you theres nothing you would not say to them i hope you die i said that to a person i hope you die why cause you made me go like this for half a second of my life you tested my reflexes and it worked out fine so now i hope your kids grow up motherless i mean what am i capable of id like to think that im a nice person but i dont know manif murder was legala lot of it is context theres a lot of things i wonder if the world was different like if murder was legal i might have killed a few people i dont know id love to think i would never do that but we really need the law against murder for one simple reason the law against murder is the numberone thing preventing murder wed like to think its cause like i would never do that no its cause it really sucks getting caught murdering a lot if murder was legal or just a misdemeanor\\u2013 like you get a thing in the mail\\u2013 shit they had a camera there well if murder was legal there would be so much murder regular people would murder murderers would murder even more and then really nice sweet people would murder a few people but nobody would murder no people you wouldnt trust somebody who didnt murder if murder was legal you wouldnt like them i never killed anybody ok nice meeting you yecch what a creep i mean not even a hooker live a life whats wrong with that guy hes like a mormon or some shit i hate those guys i think hes nice shut up janet they would just\\u2013 if murder was legal there would be a lot of murder children would behave very differently because mostly parents would be murdering their own kids thats mostly what would happen if murder was legal you know youd go to a mall thered be like eight different moms in the mall just\\u2013 i told you to stop it you didnt listen to me just\\u2013pbbt thered be just\\u2013 youd be stepping over dead kids thered be like a new problem you have to clean up your kids when you kill them cause its gross its bad for the environment if you murder your child in a public place please use one of the red bags that are in the dispensers every three feet of america put your murdered child in the red bag with a logo of a murdered kid on it next to the other logo that tells you not to let your alive kid play with the plastic bag because they might suffocate in which case you could just leave them in the bag that is a whole bunch of horrible thoughts right in a row right in a row that is a compressed area of bad thoughtof course but maybeyou know you have your bad thoughts hopefully you do good things everybody has a competition in their brain of good thoughts and bad thoughts hopefully the good thoughts win for me i always have both i have like the thing i believe the good thing\\u2013 thats the thing i believe\\u2013 and then theres this thing and i dont believe it but it is there its always this thing and then this thing its become a category in my brain that i call of course but maybe ill give you an example ok like of course children who have nut allergies need to be protected of course we have to segregate their food from nuts have their medication available at all times and anybody who manufactures or serves food needs to be aware of deadly nut allergies of course but maybe maybe if touching a nut kills you youre supposed to die of course not of course not of course not jesus i have a nephew who has that id be devastated if something happened to him but maybe maybe if we all just do this for one year were done with nut allergies forever no of course not of course if youre fighting for your country and you get shot or hurt its a terrible tragedy of course of course but maybe maybe if you pick up a gun and go to another country and you get shot its not that weird maybe if you get shot by the dude you were just shooting at its a tiny bit your fault of course of course slavery is the worst thing that ever happened listen listen you all clapped for dead kids with the nuts for kids dying from nuts you applauded so youre in this with me now do you understand you dont get to cherrypick those kids did nothing to you of course of course slavery is the worst thing that ever happened of course it is every time its happened\\u2013 black people in america jews in egypt every time a whole race of people has been enslaved its a terrible horrible thing of course but maybe maybe every incredible human achievement in history was done with slaves every single thing where you go how did they build those pyramids they just threw human death and suffering at them until they were finished how did we traverse the nation with the railroad so quickly we just threw chinese people in caves and blew em up and didnt give a shit what happened to them theres no end to what you can do when you dont give a fuck about particular people you can do anything thats where human greatness comes from is that were shitty people that we fuck others over even today how do we have this amazing microtechnology because the factory where theyre making these they jump off the fucking roof cause its a nightmare in there you really have a choice you can have candles and horses and be a little kinder to each other or let someone suffer immeasurably far away just so you can leave a mean comment on youtube while youre taking a shitthanks a lot folks you guys were great thank you very very much thank youmorelouis ck standup transcripts share this article           leave a comment cancel replyyour email address will not be published required fields are marked type herenameemailwebsite current yer leave this field empty read more \\t\\t\\t\\tiliza shlesinger a different animal   transcript\\t\\t\\tshlesingers new prime video special filmed in salt lake city delivers raw highenergy comedy tackling relationships gender dynamics and taboo topics with her signature unfiltered style\\t\\t\\t\\tari shaffir americas sweetheart   transcript\\t\\t\\tcomedian ari shaffir tackles controversial topics like terrorism gun violence racism and more in his standup special with a darkly humorous approach he explores unexpected perspectives on sensitive social and political issues\\t\\t\\t\\tgabriel iglesias legend of fluffy   transcript\\t\\t\\tgabriel iglesias legend of fluffy celebrates his  career blending sharp humor with personal stories about fame societal norms cultural identity and life lessons while staying true to his comedic mission of entertainment over offense\\t\\t\\t\\tbill maher is anyone else seeing this \\t\\t\\tbill mahers special critiques woke culture political extremes and societal absurdities with sharp humor urging open dialogue amid polarizing times movies movie reviews movie transcripts stanley kubrick sergio leone pauline kaelcomedy standup transcriptsgeorge carlin dave chappelletv series tv show transcriptsblog interviews playboy interviewsmusic books history about privacy policycookies terms of use contact usdiscover our weekly newsletter enter your email i accept the privacy policyfacebook  instagram \\u00a9  scraps from the loft all rights reserved weekly magazine get the best articles once a week directly to your inbox enter your email  \"\n        ],\n        \"semantic_type\": \"\",\n        \"description\": \"\"\n      }\n    }\n  ]\n}",
              "type": "dataframe",
              "variable_name": "data_clean"
            },
            "text/html": [
              "\n",
              "  <div id=\"df-9e0b0395-c088-4324-99e5-a02b35a36bad\" class=\"colab-df-container\">\n",
              "    <div>\n",
              "<style scoped>\n",
              "    .dataframe tbody tr th:only-of-type {\n",
              "        vertical-align: middle;\n",
              "    }\n",
              "\n",
              "    .dataframe tbody tr th {\n",
              "        vertical-align: top;\n",
              "    }\n",
              "\n",
              "    .dataframe thead th {\n",
              "        text-align: right;\n",
              "    }\n",
              "</style>\n",
              "<table border=\"1\" class=\"dataframe\">\n",
              "  <thead>\n",
              "    <tr style=\"text-align: right;\">\n",
              "      <th></th>\n",
              "      <th>transcript</th>\n",
              "    </tr>\n",
              "  </thead>\n",
              "  <tbody>\n",
              "    <tr>\n",
              "      <th>ali</th>\n",
              "      <td>ali wong baby cobra   transcript  scraps from...</td>\n",
              "    </tr>\n",
              "    <tr>\n",
              "      <th>anthony</th>\n",
              "      <td>anthony jeselnik thoughts and prayers   full ...</td>\n",
              "    </tr>\n",
              "    <tr>\n",
              "      <th>bill</th>\n",
              "      <td>bill burr im sorry you feel that way   full t...</td>\n",
              "    </tr>\n",
              "    <tr>\n",
              "      <th>bo</th>\n",
              "      <td>scraps from the loft \\t\\tskip to content \\t\\t...</td>\n",
              "    </tr>\n",
              "    <tr>\n",
              "      <th>dave</th>\n",
              "      <td>dave chappelle the age of spin   transcript  ...</td>\n",
              "    </tr>\n",
              "    <tr>\n",
              "      <th>gabriel</th>\n",
              "      <td>gabriel iglesias legend of fluffy   transcrip...</td>\n",
              "    </tr>\n",
              "    <tr>\n",
              "      <th>hasan</th>\n",
              "      <td>scraps from the loft \\t\\tskip to content \\t\\t...</td>\n",
              "    </tr>\n",
              "    <tr>\n",
              "      <th>jamie</th>\n",
              "      <td>jamie foxx what had happened was   transcript...</td>\n",
              "    </tr>\n",
              "    <tr>\n",
              "      <th>jerrod</th>\n",
              "      <td>jerrod carmichael rothaniel   transcript  scr...</td>\n",
              "    </tr>\n",
              "    <tr>\n",
              "      <th>jim</th>\n",
              "      <td>jim jefferies bare   full transcript  scraps ...</td>\n",
              "    </tr>\n",
              "    <tr>\n",
              "      <th>joe</th>\n",
              "      <td>joe rogan triggered   transcript  scraps from...</td>\n",
              "    </tr>\n",
              "    <tr>\n",
              "      <th>john</th>\n",
              "      <td>john mulaney the comeback kid   transcript  s...</td>\n",
              "    </tr>\n",
              "    <tr>\n",
              "      <th>louis</th>\n",
              "      <td>louis ck oh my god   transcript  scraps from ...</td>\n",
              "    </tr>\n",
              "    <tr>\n",
              "      <th>michelle</th>\n",
              "      <td>michelle buteau a buteauful mind at radio cit...</td>\n",
              "    </tr>\n",
              "    <tr>\n",
              "      <th>mike</th>\n",
              "      <td>mike birbiglia my girlfriends boyfriend   tra...</td>\n",
              "    </tr>\n",
              "    <tr>\n",
              "      <th>moses</th>\n",
              "      <td>moses storm trash white   transcript  scraps ...</td>\n",
              "    </tr>\n",
              "    <tr>\n",
              "      <th>ricky</th>\n",
              "      <td>ricky gervais humanity   transcript  scraps f...</td>\n",
              "    </tr>\n",
              "    <tr>\n",
              "      <th>ronny</th>\n",
              "      <td>ronny chieng love to hate it   transcript  sc...</td>\n",
              "    </tr>\n",
              "    <tr>\n",
              "      <th>taylor</th>\n",
              "      <td>taylor tomlinson look at you   transcript  sc...</td>\n",
              "    </tr>\n",
              "    <tr>\n",
              "      <th>theo</th>\n",
              "      <td>theo von no offense   transcript  scraps from...</td>\n",
              "    </tr>\n",
              "  </tbody>\n",
              "</table>\n",
              "</div>\n",
              "    <div class=\"colab-df-buttons\">\n",
              "\n",
              "  <div class=\"colab-df-container\">\n",
              "    <button class=\"colab-df-convert\" onclick=\"convertToInteractive('df-9e0b0395-c088-4324-99e5-a02b35a36bad')\"\n",
              "            title=\"Convert this dataframe to an interactive table.\"\n",
              "            style=\"display:none;\">\n",
              "\n",
              "  <svg xmlns=\"http://www.w3.org/2000/svg\" height=\"24px\" viewBox=\"0 -960 960 960\">\n",
              "    <path d=\"M120-120v-720h720v720H120Zm60-500h600v-160H180v160Zm220 220h160v-160H400v160Zm0 220h160v-160H400v160ZM180-400h160v-160H180v160Zm440 0h160v-160H620v160ZM180-180h160v-160H180v160Zm440 0h160v-160H620v160Z\"/>\n",
              "  </svg>\n",
              "    </button>\n",
              "\n",
              "  <style>\n",
              "    .colab-df-container {\n",
              "      display:flex;\n",
              "      gap: 12px;\n",
              "    }\n",
              "\n",
              "    .colab-df-convert {\n",
              "      background-color: #E8F0FE;\n",
              "      border: none;\n",
              "      border-radius: 50%;\n",
              "      cursor: pointer;\n",
              "      display: none;\n",
              "      fill: #1967D2;\n",
              "      height: 32px;\n",
              "      padding: 0 0 0 0;\n",
              "      width: 32px;\n",
              "    }\n",
              "\n",
              "    .colab-df-convert:hover {\n",
              "      background-color: #E2EBFA;\n",
              "      box-shadow: 0px 1px 2px rgba(60, 64, 67, 0.3), 0px 1px 3px 1px rgba(60, 64, 67, 0.15);\n",
              "      fill: #174EA6;\n",
              "    }\n",
              "\n",
              "    .colab-df-buttons div {\n",
              "      margin-bottom: 4px;\n",
              "    }\n",
              "\n",
              "    [theme=dark] .colab-df-convert {\n",
              "      background-color: #3B4455;\n",
              "      fill: #D2E3FC;\n",
              "    }\n",
              "\n",
              "    [theme=dark] .colab-df-convert:hover {\n",
              "      background-color: #434B5C;\n",
              "      box-shadow: 0px 1px 3px 1px rgba(0, 0, 0, 0.15);\n",
              "      filter: drop-shadow(0px 1px 2px rgba(0, 0, 0, 0.3));\n",
              "      fill: #FFFFFF;\n",
              "    }\n",
              "  </style>\n",
              "\n",
              "    <script>\n",
              "      const buttonEl =\n",
              "        document.querySelector('#df-9e0b0395-c088-4324-99e5-a02b35a36bad button.colab-df-convert');\n",
              "      buttonEl.style.display =\n",
              "        google.colab.kernel.accessAllowed ? 'block' : 'none';\n",
              "\n",
              "      async function convertToInteractive(key) {\n",
              "        const element = document.querySelector('#df-9e0b0395-c088-4324-99e5-a02b35a36bad');\n",
              "        const dataTable =\n",
              "          await google.colab.kernel.invokeFunction('convertToInteractive',\n",
              "                                                    [key], {});\n",
              "        if (!dataTable) return;\n",
              "\n",
              "        const docLinkHtml = 'Like what you see? Visit the ' +\n",
              "          '<a target=\"_blank\" href=https://colab.research.google.com/notebooks/data_table.ipynb>data table notebook</a>'\n",
              "          + ' to learn more about interactive tables.';\n",
              "        element.innerHTML = '';\n",
              "        dataTable['output_type'] = 'display_data';\n",
              "        await google.colab.output.renderOutput(dataTable, element);\n",
              "        const docLink = document.createElement('div');\n",
              "        docLink.innerHTML = docLinkHtml;\n",
              "        element.appendChild(docLink);\n",
              "      }\n",
              "    </script>\n",
              "  </div>\n",
              "\n",
              "\n",
              "    <div id=\"df-b925b6d7-dbd1-4384-ac6d-d8692af02444\">\n",
              "      <button class=\"colab-df-quickchart\" onclick=\"quickchart('df-b925b6d7-dbd1-4384-ac6d-d8692af02444')\"\n",
              "                title=\"Suggest charts\"\n",
              "                style=\"display:none;\">\n",
              "\n",
              "<svg xmlns=\"http://www.w3.org/2000/svg\" height=\"24px\"viewBox=\"0 0 24 24\"\n",
              "     width=\"24px\">\n",
              "    <g>\n",
              "        <path d=\"M19 3H5c-1.1 0-2 .9-2 2v14c0 1.1.9 2 2 2h14c1.1 0 2-.9 2-2V5c0-1.1-.9-2-2-2zM9 17H7v-7h2v7zm4 0h-2V7h2v10zm4 0h-2v-4h2v4z\"/>\n",
              "    </g>\n",
              "</svg>\n",
              "      </button>\n",
              "\n",
              "<style>\n",
              "  .colab-df-quickchart {\n",
              "      --bg-color: #E8F0FE;\n",
              "      --fill-color: #1967D2;\n",
              "      --hover-bg-color: #E2EBFA;\n",
              "      --hover-fill-color: #174EA6;\n",
              "      --disabled-fill-color: #AAA;\n",
              "      --disabled-bg-color: #DDD;\n",
              "  }\n",
              "\n",
              "  [theme=dark] .colab-df-quickchart {\n",
              "      --bg-color: #3B4455;\n",
              "      --fill-color: #D2E3FC;\n",
              "      --hover-bg-color: #434B5C;\n",
              "      --hover-fill-color: #FFFFFF;\n",
              "      --disabled-bg-color: #3B4455;\n",
              "      --disabled-fill-color: #666;\n",
              "  }\n",
              "\n",
              "  .colab-df-quickchart {\n",
              "    background-color: var(--bg-color);\n",
              "    border: none;\n",
              "    border-radius: 50%;\n",
              "    cursor: pointer;\n",
              "    display: none;\n",
              "    fill: var(--fill-color);\n",
              "    height: 32px;\n",
              "    padding: 0;\n",
              "    width: 32px;\n",
              "  }\n",
              "\n",
              "  .colab-df-quickchart:hover {\n",
              "    background-color: var(--hover-bg-color);\n",
              "    box-shadow: 0 1px 2px rgba(60, 64, 67, 0.3), 0 1px 3px 1px rgba(60, 64, 67, 0.15);\n",
              "    fill: var(--button-hover-fill-color);\n",
              "  }\n",
              "\n",
              "  .colab-df-quickchart-complete:disabled,\n",
              "  .colab-df-quickchart-complete:disabled:hover {\n",
              "    background-color: var(--disabled-bg-color);\n",
              "    fill: var(--disabled-fill-color);\n",
              "    box-shadow: none;\n",
              "  }\n",
              "\n",
              "  .colab-df-spinner {\n",
              "    border: 2px solid var(--fill-color);\n",
              "    border-color: transparent;\n",
              "    border-bottom-color: var(--fill-color);\n",
              "    animation:\n",
              "      spin 1s steps(1) infinite;\n",
              "  }\n",
              "\n",
              "  @keyframes spin {\n",
              "    0% {\n",
              "      border-color: transparent;\n",
              "      border-bottom-color: var(--fill-color);\n",
              "      border-left-color: var(--fill-color);\n",
              "    }\n",
              "    20% {\n",
              "      border-color: transparent;\n",
              "      border-left-color: var(--fill-color);\n",
              "      border-top-color: var(--fill-color);\n",
              "    }\n",
              "    30% {\n",
              "      border-color: transparent;\n",
              "      border-left-color: var(--fill-color);\n",
              "      border-top-color: var(--fill-color);\n",
              "      border-right-color: var(--fill-color);\n",
              "    }\n",
              "    40% {\n",
              "      border-color: transparent;\n",
              "      border-right-color: var(--fill-color);\n",
              "      border-top-color: var(--fill-color);\n",
              "    }\n",
              "    60% {\n",
              "      border-color: transparent;\n",
              "      border-right-color: var(--fill-color);\n",
              "    }\n",
              "    80% {\n",
              "      border-color: transparent;\n",
              "      border-right-color: var(--fill-color);\n",
              "      border-bottom-color: var(--fill-color);\n",
              "    }\n",
              "    90% {\n",
              "      border-color: transparent;\n",
              "      border-bottom-color: var(--fill-color);\n",
              "    }\n",
              "  }\n",
              "</style>\n",
              "\n",
              "      <script>\n",
              "        async function quickchart(key) {\n",
              "          const quickchartButtonEl =\n",
              "            document.querySelector('#' + key + ' button');\n",
              "          quickchartButtonEl.disabled = true;  // To prevent multiple clicks.\n",
              "          quickchartButtonEl.classList.add('colab-df-spinner');\n",
              "          try {\n",
              "            const charts = await google.colab.kernel.invokeFunction(\n",
              "                'suggestCharts', [key], {});\n",
              "          } catch (error) {\n",
              "            console.error('Error during call to suggestCharts:', error);\n",
              "          }\n",
              "          quickchartButtonEl.classList.remove('colab-df-spinner');\n",
              "          quickchartButtonEl.classList.add('colab-df-quickchart-complete');\n",
              "        }\n",
              "        (() => {\n",
              "          let quickchartButtonEl =\n",
              "            document.querySelector('#df-b925b6d7-dbd1-4384-ac6d-d8692af02444 button');\n",
              "          quickchartButtonEl.style.display =\n",
              "            google.colab.kernel.accessAllowed ? 'block' : 'none';\n",
              "        })();\n",
              "      </script>\n",
              "    </div>\n",
              "\n",
              "  <div id=\"id_55ff0d5e-28cb-4aea-bd7d-8ea0306fa265\">\n",
              "    <style>\n",
              "      .colab-df-generate {\n",
              "        background-color: #E8F0FE;\n",
              "        border: none;\n",
              "        border-radius: 50%;\n",
              "        cursor: pointer;\n",
              "        display: none;\n",
              "        fill: #1967D2;\n",
              "        height: 32px;\n",
              "        padding: 0 0 0 0;\n",
              "        width: 32px;\n",
              "      }\n",
              "\n",
              "      .colab-df-generate:hover {\n",
              "        background-color: #E2EBFA;\n",
              "        box-shadow: 0px 1px 2px rgba(60, 64, 67, 0.3), 0px 1px 3px 1px rgba(60, 64, 67, 0.15);\n",
              "        fill: #174EA6;\n",
              "      }\n",
              "\n",
              "      [theme=dark] .colab-df-generate {\n",
              "        background-color: #3B4455;\n",
              "        fill: #D2E3FC;\n",
              "      }\n",
              "\n",
              "      [theme=dark] .colab-df-generate:hover {\n",
              "        background-color: #434B5C;\n",
              "        box-shadow: 0px 1px 3px 1px rgba(0, 0, 0, 0.15);\n",
              "        filter: drop-shadow(0px 1px 2px rgba(0, 0, 0, 0.3));\n",
              "        fill: #FFFFFF;\n",
              "      }\n",
              "    </style>\n",
              "    <button class=\"colab-df-generate\" onclick=\"generateWithVariable('data_clean')\"\n",
              "            title=\"Generate code using this dataframe.\"\n",
              "            style=\"display:none;\">\n",
              "\n",
              "  <svg xmlns=\"http://www.w3.org/2000/svg\" height=\"24px\"viewBox=\"0 0 24 24\"\n",
              "       width=\"24px\">\n",
              "    <path d=\"M7,19H8.4L18.45,9,17,7.55,7,17.6ZM5,21V16.75L18.45,3.32a2,2,0,0,1,2.83,0l1.4,1.43a1.91,1.91,0,0,1,.58,1.4,1.91,1.91,0,0,1-.58,1.4L9.25,21ZM18.45,9,17,7.55Zm-12,3A5.31,5.31,0,0,0,4.9,8.1,5.31,5.31,0,0,0,1,6.5,5.31,5.31,0,0,0,4.9,4.9,5.31,5.31,0,0,0,6.5,1,5.31,5.31,0,0,0,8.1,4.9,5.31,5.31,0,0,0,12,6.5,5.46,5.46,0,0,0,6.5,12Z\"/>\n",
              "  </svg>\n",
              "    </button>\n",
              "    <script>\n",
              "      (() => {\n",
              "      const buttonEl =\n",
              "        document.querySelector('#id_55ff0d5e-28cb-4aea-bd7d-8ea0306fa265 button.colab-df-generate');\n",
              "      buttonEl.style.display =\n",
              "        google.colab.kernel.accessAllowed ? 'block' : 'none';\n",
              "\n",
              "      buttonEl.onclick = () => {\n",
              "        google.colab.notebook.generateWithVariable('data_clean');\n",
              "      }\n",
              "      })();\n",
              "    </script>\n",
              "  </div>\n",
              "\n",
              "    </div>\n",
              "  </div>\n"
            ],
            "text/plain": [
              "                                                 transcript\n",
              "ali        ali wong baby cobra   transcript  scraps from...\n",
              "anthony    anthony jeselnik thoughts and prayers   full ...\n",
              "bill       bill burr im sorry you feel that way   full t...\n",
              "bo         scraps from the loft \\t\\tskip to content \\t\\t...\n",
              "dave       dave chappelle the age of spin   transcript  ...\n",
              "gabriel    gabriel iglesias legend of fluffy   transcrip...\n",
              "hasan      scraps from the loft \\t\\tskip to content \\t\\t...\n",
              "jamie      jamie foxx what had happened was   transcript...\n",
              "jerrod     jerrod carmichael rothaniel   transcript  scr...\n",
              "jim        jim jefferies bare   full transcript  scraps ...\n",
              "joe        joe rogan triggered   transcript  scraps from...\n",
              "john       john mulaney the comeback kid   transcript  s...\n",
              "louis      louis ck oh my god   transcript  scraps from ...\n",
              "michelle   michelle buteau a buteauful mind at radio cit...\n",
              "mike       mike birbiglia my girlfriends boyfriend   tra...\n",
              "moses      moses storm trash white   transcript  scraps ...\n",
              "ricky      ricky gervais humanity   transcript  scraps f...\n",
              "ronny      ronny chieng love to hate it   transcript  sc...\n",
              "taylor     taylor tomlinson look at you   transcript  sc...\n",
              "theo       theo von no offense   transcript  scraps from..."
            ]
          },
          "execution_count": 14,
          "metadata": {},
          "output_type": "execute_result"
        }
      ],
      "source": [
        "# Read in the cleaned data, before the CountVectorizer step\n",
        "data_clean = pd.read_pickle('data_clean.pkl')\n",
        "data_clean"
      ]
    },
    {
      "cell_type": "code",
      "execution_count": null,
      "metadata": {
        "colab": {
          "background_save": true
        },
        "id": "7DLM3UU-ZiyG"
      },
      "outputs": [],
      "source": [
        "# Apply the nouns function to the transcripts to filter only on nouns\n",
        "data_clean = pd.read_pickle('data_clean.pkl')\n",
        "data_nouns = pd.DataFrame(data_clean.transcript.apply(nouns))\n",
        "data_nouns"
      ]
    },
    {
      "cell_type": "code",
      "execution_count": null,
      "metadata": {
        "colab": {
          "background_save": true
        },
        "id": "yY9MQpysZiyG"
      },
      "outputs": [],
      "source": [
        "from sklearn.feature_extraction import text\n",
        "from sklearn.feature_extraction.text import CountVectorizer\n",
        "\n",
        "# Re-add the additional stop words and convert to a list\n",
        "add_stop_words = ['like', 'im', 'know', 'just', 'dont', 'thats', 'right', 'people',\n",
        "                  'youre', 'got', 'gonna', 'time', 'think', 'yeah', 'said']\n",
        "stop_words = list(text.ENGLISH_STOP_WORDS.union(add_stop_words))\n",
        "\n",
        "# Recreate a document-term matrix with only nouns\n",
        "cvn = CountVectorizer(stop_words=stop_words)\n",
        "data_cvn = cvn.fit_transform(data_nouns.transcript)\n",
        "data_dtmn = pd.DataFrame(data_cvn.toarray(), columns=cvn.get_feature_names_out())\n",
        "data_dtmn.index = data_nouns.index\n",
        "data_dtmn\n"
      ]
    },
    {
      "cell_type": "code",
      "execution_count": null,
      "metadata": {
        "colab": {
          "background_save": true
        },
        "id": "YTFgPfhjGUwt"
      },
      "outputs": [],
      "source": [
        "# Bar plot of top terms per topic\n",
        "import pandas as pd\n",
        "import seaborn as sns\n",
        "import matplotlib.pyplot as plt # Make sure to import plt\n",
        "from gensim import models\n",
        "\n",
        "# For a specific topic\n",
        "topic_num = 0  # Change topic number as needed\n",
        "\n",
        "# Assign ldana to lda_model\n",
        "lda_model = models.LdaModel(corpus=corpus, id2word=id2word, num_topics=4, passes=10)\n",
        "\n",
        "top_terms = dict(lda_model.show_topic(topic_num, topn=10))\n",
        "terms_df = pd.DataFrame(top_terms.items(), columns=['Term', 'Weight'])\n",
        "\n",
        "plt.figure(figsize=(10,6))\n",
        "sns.barplot(x='Weight', y='Term', data=terms_df, palette='mako')\n",
        "plt.title(f\"Top Terms for Topic #{topic_num}\", fontsize=16)\n",
        "plt.xlabel(\"Weight\")\n",
        "plt.ylabel(\"Term\")\n",
        "plt.show()"
      ]
    },
    {
      "cell_type": "code",
      "execution_count": null,
      "metadata": {
        "colab": {
          "background_save": true
        },
        "collapsed": true,
        "id": "H35Fhz7pZiyH"
      },
      "outputs": [],
      "source": [
        "# Create the gensim corpus\n",
        "corpusn = matutils.Sparse2Corpus(scipy.sparse.csr_matrix(data_dtmn.transpose()))\n",
        "\n",
        "# Create the vocabulary dictionary\n",
        "id2wordn = dict((v, k) for k, v in cvn.vocabulary_.items())"
      ]
    },
    {
      "cell_type": "code",
      "execution_count": null,
      "metadata": {
        "colab": {
          "background_save": true
        },
        "id": "uobzJ-DWZiyH"
      },
      "outputs": [],
      "source": [
        "# Let's start with 2 topics\n",
        "ldan = models.LdaModel(corpus=corpusn, num_topics=2, id2word=id2wordn, passes=10)\n",
        "ldan.print_topics()"
      ]
    },
    {
      "cell_type": "code",
      "execution_count": null,
      "metadata": {
        "colab": {
          "background_save": true,
          "base_uri": "https://localhost:8080/"
        },
        "id": "QGpIQ83MZiyH",
        "outputId": "0376ca93-1e5a-4607-f702-51e9fed3ef92"
      },
      "outputs": [
        {
          "data": {
            "text/plain": [
              "[(0,\n",
              "  '0.008*\"thing\" + 0.008*\"day\" + 0.008*\"life\" + 0.007*\"shit\" + 0.007*\"way\" + 0.007*\"mom\" + 0.006*\"lot\" + 0.006*\"hes\" + 0.006*\"man\" + 0.006*\"gon\"'),\n",
              " (1,\n",
              "  '0.014*\"man\" + 0.009*\"cause\" + 0.007*\"thing\" + 0.006*\"day\" + 0.006*\"gon\" + 0.006*\"fuck\" + 0.005*\"life\" + 0.005*\"way\" + 0.005*\"hes\" + 0.005*\"guy\"'),\n",
              " (2,\n",
              "  '0.009*\"shit\" + 0.008*\"hes\" + 0.007*\"man\" + 0.007*\"ahah\" + 0.005*\"didnt\" + 0.005*\"fuck\" + 0.005*\"lot\" + 0.005*\"guy\" + 0.004*\"night\" + 0.004*\"god\"')]"
            ]
          },
          "execution_count": 21,
          "metadata": {},
          "output_type": "execute_result"
        }
      ],
      "source": [
        "# Let's try topics = 3\n",
        "ldan = models.LdaModel(corpus=corpusn, num_topics=3, id2word=id2wordn, passes=10)\n",
        "ldan.print_topics()"
      ]
    },
    {
      "cell_type": "code",
      "execution_count": null,
      "metadata": {
        "colab": {
          "background_save": true,
          "base_uri": "https://localhost:8080/"
        },
        "id": "BoUo0yNUZiyH",
        "outputId": "682c2409-d55d-4936-cd0f-40cf260998fe"
      },
      "outputs": [
        {
          "data": {
            "text/plain": [
              "[(0,\n",
              "  '0.008*\"thing\" + 0.008*\"day\" + 0.008*\"way\" + 0.006*\"hes\" + 0.006*\"years\" + 0.006*\"shit\" + 0.006*\"life\" + 0.006*\"gon\" + 0.005*\"kids\" + 0.005*\"kid\"'),\n",
              " (1,\n",
              "  '0.008*\"cause\" + 0.008*\"point\" + 0.007*\"kind\" + 0.005*\"way\" + 0.005*\"id\" + 0.005*\"jenny\" + 0.005*\"car\" + 0.005*\"night\" + 0.004*\"guy\" + 0.004*\"gon\"'),\n",
              " (2,\n",
              "  '0.009*\"shit\" + 0.007*\"ahah\" + 0.007*\"man\" + 0.006*\"lot\" + 0.006*\"guy\" + 0.005*\"didnt\" + 0.005*\"thing\" + 0.005*\"way\" + 0.005*\"women\" + 0.005*\"fuck\"'),\n",
              " (3,\n",
              "  '0.012*\"man\" + 0.008*\"cause\" + 0.008*\"life\" + 0.008*\"thing\" + 0.008*\"day\" + 0.007*\"shit\" + 0.007*\"hes\" + 0.006*\"lot\" + 0.006*\"gon\" + 0.006*\"way\"')]"
            ]
          },
          "execution_count": 22,
          "metadata": {},
          "output_type": "execute_result"
        }
      ],
      "source": [
        "# Let's try 4 topics\n",
        "ldan = models.LdaModel(corpus=corpusn, num_topics=4, id2word=id2wordn, passes=10)\n",
        "ldan.print_topics()"
      ]
    },
    {
      "cell_type": "code",
      "execution_count": null,
      "metadata": {
        "colab": {
          "background_save": true,
          "base_uri": "https://localhost:8080/",
          "height": 720
        },
        "id": "5FB-FB0tGpt_",
        "outputId": "6ad86dcc-74a6-49d6-a3a8-5739ed800338"
      },
      "outputs": [
        {
          "data": {
            "image/png": "[encoded data removed]",
            "text/plain": [
              "<Figure size 1000x800 with 2 Axes>"
            ]
          },
          "metadata": {},
          "output_type": "display_data"
        }
      ],
      "source": [
        "# t-SNE visualization of topic clusters\n",
        "from sklearn.manifold import TSNE\n",
        "import numpy as np\n",
        "\n",
        "# Ensure you are using the correct corpus and model:\n",
        "# lda_model should be the model trained on 'corpusna' and 'id2wordna'\n",
        "# Replace lda_model with ldana if that was the intended model\n",
        "lda_model = models.LdaModel(corpus=corpusn, id2word=id2word, num_topics=4, passes=10)\n",
        "\n",
        "# Get document-topic distributions\n",
        "topics_matrix = lda_model.get_document_topics(corpusn, minimum_probability=0)\n",
        "topics_matrix = np.array([[tup[1] for tup in doc] for doc in topics_matrix])\n",
        "\n",
        "# t-SNE\n",
        "tsne_model = TSNE(n_components=2, random_state=42, perplexity=15) # Changed perplexity to 15\n",
        "tsne_lda = tsne_model.fit_transform(topics_matrix)\n",
        "plt.figure(figsize=(10, 8))\n",
        "plt.scatter(tsne_lda[:, 0], tsne_lda[:, 1], c=np.argmax(topics_matrix, axis=1), cmap='viridis', alpha=0.7)\n",
        "plt.colorbar()\n",
        "plt.title(\"t-SNE Clustering of Topics\", fontsize=16)\n",
        "plt.xlabel(\"Dimension 1\")\n",
        "plt.ylabel(\"Dimension 2\")\n",
        "plt.show()"
      ]
    },
    {
      "cell_type": "markdown",
      "metadata": {
        "id": "SQbkfxEpZiyH"
      },
      "source": [
        "## Topic Modeling - Attempt #3 (Nouns and Adjectives)"
      ]
    },
    {
      "cell_type": "code",
      "execution_count": null,
      "metadata": {
        "colab": {
          "background_save": true
        },
        "collapsed": true,
        "id": "r32LzDWlZiyH"
      },
      "outputs": [],
      "source": [
        "# Let's create a function to pull out nouns from a string of text\n",
        "def nouns_adj(text):\n",
        "    '''Given a string of text, tokenize the text and pull out only the nouns and adjectives.'''\n",
        "    is_noun_adj = lambda pos: pos[:2] == 'NN' or pos[:2] == 'JJ'\n",
        "    tokenized = word_tokenize(text)\n",
        "    nouns_adj = [word for (word, pos) in pos_tag(tokenized) if is_noun_adj(pos)]\n",
        "    return ' '.join(nouns_adj)"
      ]
    },
    {
      "cell_type": "code",
      "execution_count": null,
      "metadata": {
        "colab": {
          "background_save": true
        },
        "id": "ha2nJZ9KZiyH"
      },
      "outputs": [],
      "source": [
        "# Apply the nouns function to the transcripts to filter only on nouns\n",
        "data_nouns_adj = pd.DataFrame(data_clean.transcript.apply(nouns_adj))\n",
        "data_nouns_adj"
      ]
    },
    {
      "cell_type": "code",
      "execution_count": null,
      "metadata": {
        "colab": {
          "background_save": true
        },
        "id": "k38SxwPLZiyH"
      },
      "outputs": [],
      "source": [
        "cvna = CountVectorizer(stop_words=stop_words, max_df=0.8)\n",
        "data_cvna = cvna.fit_transform(data_nouns_adj.transcript)\n",
        "data_dtmna = pd.DataFrame(data_cvna.toarray(), columns=cvna.get_feature_names_out())\n",
        "data_dtmna.index = data_nouns_adj.index\n",
        "data_dtmna\n"
      ]
    },
    {
      "cell_type": "code",
      "execution_count": null,
      "metadata": {
        "colab": {
          "background_save": true
        },
        "collapsed": true,
        "id": "RuLqV-pEZiyI"
      },
      "outputs": [],
      "source": [
        "# Create the gensim corpus\n",
        "corpusna = matutils.Sparse2Corpus(scipy.sparse.csr_matrix(data_dtmna.transpose()))\n",
        "\n",
        "# Create the vocabulary dictionary\n",
        "id2wordna = dict((v, k) for k, v in cvna.vocabulary_.items())"
      ]
    },
    {
      "cell_type": "code",
      "execution_count": null,
      "metadata": {
        "colab": {
          "background_save": true
        },
        "id": "QWhAmC2kZiyI"
      },
      "outputs": [],
      "source": [
        "# Let's start with 2 topics\n",
        "ldana = models.LdaModel(corpus=corpusna, num_topics=2, id2word=id2wordna, passes=10)\n",
        "ldana.print_topics()"
      ]
    },
    {
      "cell_type": "code",
      "execution_count": null,
      "metadata": {
        "colab": {
          "background_save": true,
          "base_uri": "https://localhost:8080/"
        },
        "id": "xunW1vo6ZiyI",
        "outputId": "39eefa4b-4456-40cc-f5a2-b194a59a51c0"
      },
      "outputs": [
        {
          "ename": "NameError",
          "evalue": "name 'models' is not defined",
          "output_type": "error",
          "traceback": [
            "\u001b[0;31m---------------------------------------------------------------------------\u001b[0m",
            "\u001b[0;31mNameError\u001b[0m                                 Traceback (most recent call last)",
            "\u001b[0;32m<ipython-input-3-007b2f9763bd>\u001b[0m in \u001b[0;36m<cell line: 0>\u001b[0;34m()\u001b[0m\n\u001b[1;32m      1\u001b[0m \u001b[0;31m# Let's try 3 topics\u001b[0m\u001b[0;34m\u001b[0m\u001b[0;34m\u001b[0m\u001b[0m\n\u001b[0;32m----> 2\u001b[0;31m \u001b[0mldana\u001b[0m \u001b[0;34m=\u001b[0m \u001b[0mmodels\u001b[0m\u001b[0;34m.\u001b[0m\u001b[0mLdaModel\u001b[0m\u001b[0;34m(\u001b[0m\u001b[0mcorpus\u001b[0m\u001b[0;34m=\u001b[0m\u001b[0mcorpusna\u001b[0m\u001b[0;34m,\u001b[0m \u001b[0mnum_topics\u001b[0m\u001b[0;34m=\u001b[0m\u001b[0;36m3\u001b[0m\u001b[0;34m,\u001b[0m \u001b[0mid2word\u001b[0m\u001b[0;34m=\u001b[0m\u001b[0mid2wordna\u001b[0m\u001b[0;34m,\u001b[0m \u001b[0mpasses\u001b[0m\u001b[0;34m=\u001b[0m\u001b[0;36m10\u001b[0m\u001b[0;34m)\u001b[0m\u001b[0;34m\u001b[0m\u001b[0;34m\u001b[0m\u001b[0m\n\u001b[0m\u001b[1;32m      3\u001b[0m \u001b[0mldana\u001b[0m\u001b[0;34m.\u001b[0m\u001b[0mprint_topics\u001b[0m\u001b[0;34m(\u001b[0m\u001b[0;34m)\u001b[0m\u001b[0;34m\u001b[0m\u001b[0;34m\u001b[0m\u001b[0m\n",
            "\u001b[0;31mNameError\u001b[0m: name 'models' is not defined"
          ]
        }
      ],
      "source": [
        "# Let's try 3 topics\n",
        "ldana = models.LdaModel(corpus=corpusna, num_topics=3, id2word=id2wordna, passes=10)\n",
        "ldana.print_topics()"
      ]
    },
    {
      "cell_type": "code",
      "execution_count": null,
      "metadata": {
        "colab": {
          "background_save": true
        },
        "id": "4kkrpxJjZiyI"
      },
      "outputs": [],
      "source": [
        "# Let's try 4 topics\n",
        "ldana = models.LdaModel(corpus=corpusna, num_topics=4, id2word=id2wordna, passes=10)\n",
        "ldana.print_topics()"
      ]
    },
    {
      "cell_type": "markdown",
      "metadata": {
        "id": "r-vUIzwjZiyI"
      },
      "source": [
        "## Identify Topics in Each Document"
      ]
    },
    {
      "cell_type": "markdown",
      "metadata": {
        "id": "txWBseyvZiyI"
      },
      "source": [
        "Out of the 9 topic models we looked at, the nouns and adjectives, 4 topic one made the most sense. So let's pull that down here and run it through some more iterations to get more fine-tuned topics."
      ]
    },
    {
      "cell_type": "code",
      "execution_count": null,
      "metadata": {
        "colab": {
          "background_save": true
        },
        "id": "DyBOF9E7ZiyI"
      },
      "outputs": [],
      "source": [
        "# Our final LDA model (for now)\n",
        "ldana = models.LdaModel(corpus=corpusna, num_topics=4, id2word=id2wordna, passes=80)\n",
        "ldana.print_topics()"
      ]
    },
    {
      "cell_type": "markdown",
      "metadata": {
        "id": "spr678R5ZiyJ"
      },
      "source": [
        "These four topics look pretty decent. Let's settle on these for now.\n",
        "* Topic 0: Social rants\n",
        "* Topic 1: Family humor\n",
        "* Topic 2: Parenting life\n",
        "* Topic 3: Edgy social commentary"
      ]
    },
    {
      "cell_type": "code",
      "execution_count": null,
      "metadata": {
        "colab": {
          "background_save": true
        },
        "id": "i2HOay7MZiyK"
      },
      "outputs": [],
      "source": [
        "# Transform corpus\n",
        "corpus_transformed = ldana[corpusna]\n",
        "\n",
        "# Extract the dominant topic for each document\n",
        "dominant_topics = [sorted(doc, key=lambda x: -x[1])[0][0] for doc in corpus_transformed]\n",
        "\n",
        "# Pair the dominant topic with the transcript index\n",
        "list(zip(dominant_topics, data_dtmna.index))\n"
      ]
    },
    {
      "cell_type": "markdown",
      "metadata": {
        "collapsed": true,
        "id": "RCp-LqH2ZiyK"
      },
      "source": [
        "For a first pass of LDA, these kind of make sense to me, so we'll call it a day for now.\n",
        "* Topic 0: Social rants [Ali, Bill, Dylan, Jamie, Joe, John, Louis, Mike]\n",
        "* Topic 1: Family humor [Bo, Hasan, Kelsey, Kevin]\n",
        "* Topic 2: Parenting life [Anthony, Sal, Seth]\n",
        "* Topic 3: Edgy social commentary [Adam, Dave, Jim, Ramy, Ricky]"
      ]
    },
    {
      "cell_type": "markdown",
      "metadata": {
        "id": "A6tbMKkRZiyK"
      },
      "source": [
        "### Assignment:\n",
        "1. Try further modifying the parameters of the topic models above and see if you can get better topics.\n",
        "2. Create a new topic model that includes terms from a different [part of speech](https://www.ling.upenn.edu/courses/Fall_2003/ling001/penn_treebank_pos.html) and see if you can get better topics."
      ]
    },
    {
      "cell_type": "code",
      "execution_count": null,
      "metadata": {
        "colab": {
          "background_save": true
        },
        "id": "J5GXzcjgZiyT",
        "outputId": "fdcf2a44-01c4-4499-f3a6-72256ef51d8e"
      },
      "outputs": [
        {
          "ename": "ModuleNotFoundError",
          "evalue": "No module named 'gensim'",
          "output_type": "error",
          "traceback": [
            "\u001b[0;31m---------------------------------------------------------------------------\u001b[0m",
            "\u001b[0;31mModuleNotFoundError\u001b[0m                       Traceback (most recent call last)",
            "\u001b[0;32m<ipython-input-4-8084f326947b>\u001b[0m in \u001b[0;36m<cell line: 0>\u001b[0;34m()\u001b[0m\n\u001b[1;32m      1\u001b[0m \u001b[0;31m# Block 1: Load libraries\u001b[0m\u001b[0;34m\u001b[0m\u001b[0;34m\u001b[0m\u001b[0m\n\u001b[0;32m----> 2\u001b[0;31m \u001b[0;32mfrom\u001b[0m \u001b[0mgensim\u001b[0m\u001b[0;34m.\u001b[0m\u001b[0mmodels\u001b[0m \u001b[0;32mimport\u001b[0m \u001b[0mLdaModel\u001b[0m\u001b[0;34m,\u001b[0m \u001b[0mCoherenceModel\u001b[0m\u001b[0;34m\u001b[0m\u001b[0;34m\u001b[0m\u001b[0m\n\u001b[0m\u001b[1;32m      3\u001b[0m \u001b[0;32mimport\u001b[0m \u001b[0mmatplotlib\u001b[0m\u001b[0;34m.\u001b[0m\u001b[0mpyplot\u001b[0m \u001b[0;32mas\u001b[0m \u001b[0mplt\u001b[0m\u001b[0;34m\u001b[0m\u001b[0;34m\u001b[0m\u001b[0m\n\u001b[1;32m      4\u001b[0m \u001b[0;32mfrom\u001b[0m \u001b[0mgensim\u001b[0m\u001b[0;34m.\u001b[0m\u001b[0mcorpora\u001b[0m \u001b[0;32mimport\u001b[0m \u001b[0mDictionary\u001b[0m\u001b[0;34m\u001b[0m\u001b[0;34m\u001b[0m\u001b[0m\n\u001b[1;32m      5\u001b[0m \u001b[0;32mimport\u001b[0m \u001b[0mspacy\u001b[0m\u001b[0;34m\u001b[0m\u001b[0;34m\u001b[0m\u001b[0m\n",
            "\u001b[0;31mModuleNotFoundError\u001b[0m: No module named 'gensim'",
            "",
            "\u001b[0;31m---------------------------------------------------------------------------\u001b[0;32m\nNOTE: If your import is failing due to a missing package, you can\nmanually install dependencies using either !pip or !apt.\n\nTo view examples of installing some common dependencies, click the\n\"Open Examples\" button below.\n\u001b[0;31m---------------------------------------------------------------------------\u001b[0m\n"
          ]
        }
      ],
      "source": [
        "# Block 1: Load libraries\n",
        "from gensim.models import LdaModel, CoherenceModel\n",
        "import matplotlib.pyplot as plt\n",
        "from gensim.corpora import Dictionary\n",
        "import spacy"
      ]
    },
    {
      "cell_type": "code",
      "execution_count": null,
      "metadata": {
        "id": "B4UebXeyNKpQ"
      },
      "outputs": [],
      "source": [
        "def build_lda_model(corpus, id2word, num_topics, passes, random_state=42):\n",
        "    lda_model = LdaModel(\n",
        "        corpus=corpus,\n",
        "        id2word=id2word,\n",
        "        num_topics=num_topics,\n",
        "        passes=passes,\n",
        "        random_state=random_state\n",
        "    )\n",
        "    return lda_model"
      ]
    },
    {
      "cell_type": "code",
      "execution_count": null,
      "metadata": {
        "id": "DJn_A4wFNKpQ"
      },
      "outputs": [],
      "source": [
        "def compute_coherence(lda_model, texts, dictionary):\n",
        "    coherence_model = CoherenceModel(model=lda_model, texts=texts, dictionary=dictionary, coherence='c_v')\n",
        "    return coherence_model.get_coherence()"
      ]
    },
    {
      "cell_type": "code",
      "execution_count": null,
      "metadata": {
        "id": "0UNiP-RiNKpR"
      },
      "outputs": [],
      "source": [
        "texts = []\n",
        "for doc in data_clean.transcript:\n",
        "    tokens = [word for word in doc.lower().split()]\n",
        "    texts.append(tokens)"
      ]
    },
    {
      "cell_type": "code",
      "execution_count": null,
      "metadata": {
        "id": "G5WvEk9CNKpR"
      },
      "outputs": [],
      "source": [
        "from gensim.corpora import Dictionary\n",
        "id2word = Dictionary(texts)\n",
        "corpus = [id2word.doc2bow(text) for text in texts]\n",
        "lda_model = LdaModel(corpus=corpus, id2word=id2word, num_topics=10)"
      ]
    },
    {
      "cell_type": "code",
      "execution_count": null,
      "metadata": {
        "id": "8P8e3tUDNKpR",
        "outputId": "33fc7f3e-cf4a-4a01-9f52-1452100b35a3"
      },
      "outputs": [
        {
          "name": "stdout",
          "output_type": "stream",
          "text": [
            "Topics: 5, Passes: 10 --> Coherence Score: 0.2261\n",
            "Topics: 5, Passes: 15 --> Coherence Score: 0.2267\n",
            "Topics: 5, Passes: 20 --> Coherence Score: 0.2280\n",
            "Topics: 10, Passes: 10 --> Coherence Score: 0.2226\n",
            "Topics: 10, Passes: 15 --> Coherence Score: 0.2226\n",
            "Topics: 10, Passes: 20 --> Coherence Score: 0.2226\n",
            "Topics: 15, Passes: 10 --> Coherence Score: 0.2499\n",
            "Topics: 15, Passes: 15 --> Coherence Score: 0.2598\n",
            "Topics: 15, Passes: 20 --> Coherence Score: 0.2598\n",
            "\n",
            "Best Model Coherence Score: 0.2598115092615065\n"
          ]
        }
      ],
      "source": [
        "num_topics_list = [5, 10, 15]\n",
        "passes_list = [10, 15, 20]\n",
        "\n",
        "best_score = 0\n",
        "best_model = None\n",
        "\n",
        "for num_topics in num_topics_list:\n",
        "    for passes in passes_list:\n",
        "        model = build_lda_model(corpus, id2word, num_topics=num_topics, passes=passes)\n",
        "        coherence = compute_coherence(model, texts, id2word)\n",
        "        print(f\"Topics: {num_topics}, Passes: {passes} --> Coherence Score: {coherence:.4f}\")\n",
        "\n",
        "        if coherence > best_score:\n",
        "            best_score = coherence\n",
        "            best_model = model\n",
        "\n",
        "print(\"\\nBest Model Coherence Score:\", best_score)"
      ]
    },
    {
      "cell_type": "code",
      "execution_count": null,
      "metadata": {
        "id": "WsDLgBezNKpS"
      },
      "outputs": [],
      "source": [
        "nlp = spacy.load('en_core_web_sm')\n",
        "docs = [nlp(doc) for doc in data_clean.transcript]\n",
        "texts = []\n",
        "for doc in docs:\n",
        "    tokens = [token.lemma_ for token in doc if token.pos_ == 'ADJ' and token.is_alpha and not token.is_stop]\n",
        "    texts.append(tokens)"
      ]
    },
    {
      "cell_type": "code",
      "execution_count": null,
      "metadata": {
        "id": "VNCVVbJeNKpS"
      },
      "outputs": [],
      "source": [
        "id2word = Dictionary(texts)\n",
        "corpus = [id2word.doc2bow(text) for text in texts]\n",
        "lda_model = LdaModel(\n",
        "    corpus=corpus,\n",
        "    id2word=id2word,\n",
        "    num_topics=10,\n",
        "    passes=15,\n",
        "    random_state=42\n",
        ")\n",
        "coherence_model = CoherenceModel(\n",
        "    model=lda_model,\n",
        "    texts=texts,\n",
        "    dictionary=id2word,\n",
        "    coherence='c_v'\n",
        ")"
      ]
    },
    {
      "cell_type": "code",
      "execution_count": null,
      "metadata": {
        "id": "dj1kQYk0NKpT",
        "outputId": "66363c74-5ba8-46d6-e57e-c0b3862f5723"
      },
      "outputs": [
        {
          "name": "stdout",
          "output_type": "stream",
          "text": [
            "Coherence Score with Verbs: 0.2340\n"
          ]
        }
      ],
      "source": [
        "coherence_score = coherence_model.get_coherence()\n",
        "print(f\"Coherence Score with Verbs: {coherence_score:.4f}\")"
      ]
    },
    {
      "cell_type": "code",
      "execution_count": null,
      "metadata": {
        "id": "9rW90P3dNKpY",
        "outputId": "022a0c3e-f043-4aa5-9dbd-f6d4ddf4deb3"
      },
      "outputs": [
        {
          "name": "stdout",
          "output_type": "stream",
          "text": [
            "(0, '0.037*\"fucking\" + 0.034*\"good\" + 0.026*\"little\" + 0.026*\"old\" + 0.025*\"right\" + 0.024*\"black\" + 0.019*\"great\" + 0.017*\"gay\" + 0.013*\"bad\" + 0.013*\"ill\"')\n",
            "(1, '0.001*\"little\" + 0.001*\"good\" + 0.001*\"fucking\" + 0.001*\"old\" + 0.001*\"right\" + 0.001*\"big\" + 0.001*\"bad\" + 0.001*\"real\" + 0.001*\"ill\" + 0.001*\"sure\"')\n",
            "(2, '0.001*\"good\" + 0.001*\"little\" + 0.001*\"right\" + 0.001*\"old\" + 0.001*\"great\" + 0.001*\"weird\" + 0.001*\"big\" + 0.001*\"crazy\" + 0.001*\"ill\" + 0.001*\"real\"')\n",
            "(3, '0.030*\"good\" + 0.017*\"bad\" + 0.016*\"real\" + 0.015*\"crazy\" + 0.015*\"weird\" + 0.014*\"little\" + 0.014*\"old\" + 0.013*\"different\" + 0.013*\"new\" + 0.013*\"white\"')\n",
            "(4, '0.101*\"fucking\" + 0.065*\"good\" + 0.040*\"ill\" + 0.035*\"little\" + 0.028*\"big\" + 0.017*\"great\" + 0.015*\"pink\" + 0.015*\"funny\" + 0.013*\"scary\" + 0.011*\"sorry\"')\n",
            "(5, '0.051*\"good\" + 0.029*\"little\" + 0.022*\"bad\" + 0.021*\"old\" + 0.018*\"right\" + 0.014*\"ill\" + 0.014*\"great\" + 0.013*\"big\" + 0.011*\"wrong\" + 0.010*\"special\"')\n",
            "(6, '0.001*\"good\" + 0.001*\"little\" + 0.001*\"fucking\" + 0.001*\"bad\" + 0.001*\"old\" + 0.001*\"right\" + 0.001*\"great\" + 0.001*\"big\" + 0.001*\"ill\" + 0.001*\"funny\"')\n",
            "(7, '0.040*\"little\" + 0.029*\"right\" + 0.029*\"old\" + 0.028*\"bad\" + 0.026*\"big\" + 0.023*\"good\" + 0.023*\"fucking\" + 0.017*\"funny\" + 0.015*\"great\" + 0.014*\"ill\"')\n",
            "(8, '0.051*\"fucking\" + 0.047*\"good\" + 0.027*\"little\" + 0.021*\"right\" + 0.021*\"great\" + 0.019*\"big\" + 0.019*\"disabled\" + 0.018*\"ill\" + 0.015*\"second\" + 0.013*\"wrong\"')\n",
            "(9, '0.001*\"good\" + 0.001*\"little\" + 0.001*\"old\" + 0.001*\"fucking\" + 0.001*\"bad\" + 0.001*\"right\" + 0.001*\"different\" + 0.001*\"big\" + 0.001*\"real\" + 0.001*\"wrong\"')\n"
          ]
        }
      ],
      "source": [
        "topics = lda_model.print_topics()\n",
        "for topic in topics:\n",
        "    print(topic)"
      ]
    },
    {
      "cell_type": "code",
      "execution_count": null,
      "metadata": {
        "id": "x58bp6VeNKpZ"
      },
      "outputs": [],
      "source": [
        "# Transform corpus\n",
        "corpus_transformed = lda_model[corpus]\n",
        "\n",
        "# Extract the dominant topic for each document\n",
        "dominant_topics = [sorted(doc, key=lambda x: -x[1])[0][0] for doc in corpus_transformed]\n",
        "\n",
        "# Pair the dominant topic with the transcript index\n",
        "list(zip(dominant_topics, data_dtmna.index))"
      ]
    }
  ],
  "metadata": {
    "colab": {
      "provenance": [],
      "include_colab_link": true
    },
    "kernelspec": {
      "display_name": ".venv",
      "language": "python",
      "name": "python3"
    },
    "language_info": {
      "codemirror_mode": {
        "name": "ipython",
        "version": 3
      },
      "file_extension": ".py",
      "mimetype": "text/x-python",
      "name": "python",
      "nbconvert_exporter": "python",
      "pygments_lexer": "ipython3",
      "version": "3.12.9"
    },
    "toc": {
      "nav_menu": {},
      "number_sections": true,
      "sideBar": true,
      "skip_h1_title": false,
      "toc_cell": false,
      "toc_position": {},
      "toc_section_display": "block",
      "toc_window_display": false
    },
    "varInspector": {
      "cols": {
        "lenName": 16,
        "lenType": 16,
        "lenVar": 40
      },
      "kernels_config": {
        "python": {
          "delete_cmd_postfix": "",
          "delete_cmd_prefix": "del ",
          "library": "var_list.py",
          "varRefreshCmd": "print(var_dic_list())"
        },
        "r": {
          "delete_cmd_postfix": ") ",
          "delete_cmd_prefix": "rm(",
          "library": "var_list.r",
          "varRefreshCmd": "cat(var_dic_list()) "
        }
      },
      "types_to_exclude": [
        "module",
        "function",
        "builtin_function_or_method",
        "instance",
        "_Feature"
      ],
      "window_display": false
    }
  },
  "nbformat": 4,
  "nbformat_minor": 0
}